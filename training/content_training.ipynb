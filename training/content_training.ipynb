{
  "cells": [
    {
      "attachments": {},
      "cell_type": "markdown",
      "metadata": {},
      "source": [
        "the trained model is available on: https://huggingface.co/Noorrabie/bert_content"
      ]
    },
    {
      "cell_type": "code",
      "execution_count": null,
      "metadata": {
        "colab": {
          "background_save": true
        },
        "id": "oOzA6uF5g11-"
      },
      "outputs": [],
      "source": [
        "! pip install evaluate datasets"
      ]
    },
    {
      "cell_type": "code",
      "execution_count": null,
      "metadata": {
        "id": "ZtbW6590g5nW"
      },
      "outputs": [],
      "source": [
        "from datasets import load_dataset\n",
        "from transformers import AutoTokenizer, DataCollatorWithPadding, TrainingArguments, AutoModelForSequenceClassification, Trainer , PretrainedConfig, set_seed\n",
        "import evaluate\n",
        "import numpy as np\n",
        "import pandas as pd\n",
        "import datasets\n",
        "from sklearn.metrics import classification_report, accuracy_score, f1_score, confusion_matrix, precision_score , recall_score\n"
      ]
    },
    {
      "cell_type": "code",
      "execution_count": null,
      "metadata": {
        "id": "fGCQIhcEiSeD"
      },
      "outputs": [],
      "source": [
        "loss_type = \"CE\"\n",
        "d_mat_type = \"default\" #don't change\n",
        "n_levels = 13 #don't change\n",
        "\n",
        "checkpoint = \"aubmindlab/bert-base-arabertv02\"\n",
        "\n",
        "data_path = '../data/All_data_1M_morph_clean.csv' # DATA PATH\n",
        "\n",
        "input_text = \"word_sents\""
      ]
    },
    {
      "cell_type": "code",
      "execution_count": null,
      "metadata": {
        "id": "Sr-0f208TNxs"
      },
      "outputs": [],
      "source": [
        "if d_mat_type == \"default\":\n",
        "    d_matrix =  [[abs(i-j) for i in range(n_levels)] for j in range(n_levels)]\n",
        "else:\n",
        "    d_matrix = [[(abs(i-j)/18)+(abs(barec_7_dict[i+1]-barec_7_dict[j+1])/6)+(abs(barec_5_dict[i+1]-barec_5_dict[j+1])/4)+(abs(barec_3_dict[i+1]-barec_3_dict[j+1])/2) for i in range(19)] for j in range(19)]\n"
      ]
    },
    {
      "cell_type": "code",
      "execution_count": null,
      "metadata": {
        "id": "Ipr7XgVPTNxt"
      },
      "outputs": [],
      "source": [
        "losses_dict = {\"CE\": Trainer,}\n",
        "loss_function = losses_dict[loss_type]\n"
      ]
    },
    {
      "cell_type": "code",
      "execution_count": null,
      "metadata": {
        "id": "Mx5fGKI6TNxu"
      },
      "outputs": [],
      "source": [
        "all_df = pd.read_csv(data_path, header=0)\n"
      ]
    },
    {
      "cell_type": "code",
      "execution_count": null,
      "metadata": {
        "id": "lPIQASTWir1-"
      },
      "outputs": [],
      "source": [
        "# Define the RL_num-to-group mapping\n",
        "group_mapping = {\n",
        "    1: 1, 2: 1, 3: 1, 4: 1,\n",
        "    5: 2, 6: 2,\n",
        "    7: 3,\n",
        "    8: 4,\n",
        "    9: 5, 10: 5,\n",
        "    11: 6, 12: 6,\n",
        "    13: 7, 14: 7,\n",
        "    15: 8, 16: 8, 17: 8, 18: 8, 19: 8\n",
        "}\n",
        "\n",
        "# Map RL_num to groups\n",
        "all_df['group'] = all_df['RL_num_19'].map(group_mapping)"
      ]
    },
    {
      "cell_type": "code",
      "execution_count": null,
      "metadata": {
        "id": "Kcn_CNpU-GuW"
      },
      "outputs": [],
      "source": [
        "DATA_COLUMN = 'text'\n",
        "LABEL_COLUMN = 'label'\n",
        "\n",
        "real_names = {\n",
        "    input_text: DATA_COLUMN,\n",
        "    'group': LABEL_COLUMN\n",
        "}\n",
        "\n",
        "all_df.rename(columns= real_names, inplace=True)"
      ]
    },
    {
      "cell_type": "code",
      "execution_count": null,
      "metadata": {
        "id": "pSA_Am-0TNxv"
      },
      "outputs": [],
      "source": [
        "minus_mapper = {}\n",
        "for i in range(n_levels):\n",
        "  minus_mapper[i+1] = i\n",
        "all_df = all_df.replace({LABEL_COLUMN: minus_mapper})"
      ]
    },
    {
      "cell_type": "code",
      "execution_count": null,
      "metadata": {
        "colab": {
          "base_uri": "https://localhost:8080/",
          "height": 350
        },
        "id": "61uayaFaTNxv",
        "outputId": "11459f59-a56b-438f-8482-32d02fbaa5d7"
      },
      "outputs": [],
      "source": [
        "\n",
        "all_df = all_df.groupby('Split')\n",
        "\n",
        "all_df = all_df[[DATA_COLUMN, LABEL_COLUMN]]\n",
        "all_df.columns = [DATA_COLUMN, LABEL_COLUMN]\n",
        "\n",
        "train_df = all_df.get_group('Train')\n",
        "#train_df = train_df.head(4565)\n",
        "dev_df = all_df.get_group('Dev')\n",
        "test_df = all_df.get_group('Test')\n",
        "#tune_df = all_df.get_group('Tune')\n",
        "\n"
      ]
    },
    {
      "cell_type": "code",
      "execution_count": null,
      "metadata": {
        "id": "Thuu4lgyTNxw"
      },
      "outputs": [],
      "source": [
        "set_seed(42)"
      ]
    },
    {
      "cell_type": "code",
      "execution_count": null,
      "metadata": {
        "id": "B_aOtiUgTNxw"
      },
      "outputs": [],
      "source": [
        "train = datasets.Dataset.from_pandas(train_df)\n",
        "dev = datasets.Dataset.from_pandas(dev_df)\n",
        "test = datasets.Dataset.from_pandas(test_df)\n",
        "#tune = datasets.Dataset.from_pandas(tune_df)\n",
        "dataset = load_dataset(\"labr\") #dump loading .. only to match the dataset template from huggingface\n",
        "dataset['train'] = train\n",
        "#dataset['tune'] = tune\n",
        "dataset['dev'] = dev\n",
        "dataset['test'] = test"
      ]
    },
    {
      "cell_type": "code",
      "execution_count": null,
      "metadata": {
        "id": "6xJkZ-F8xYFe"
      },
      "outputs": [],
      "source": [
        "train_size = len(dataset['train'])\n",
        "dev_size = len(dataset['dev'])\n",
        "test_size = len(dataset['test'])\n",
        "\n",
        "# Define subsets of the training data\n",
        "# train_size // 8, train_size // 6, train_size // 4, [train_size // 2,\n",
        "subset_sizes =  [train_size ]"
      ]
    },
    {
      "cell_type": "code",
      "execution_count": null,
      "metadata": {
        "id": "lFeX9abkTNxy"
      },
      "outputs": [],
      "source": [
        "def model_init():\n",
        "  model = AutoModelForSequenceClassification.from_pretrained(checkpoint, num_labels = n_levels, ignore_mismatched_sizes=True)\n",
        "  model.dist_matix = [[abs(i-j) for i in range(model.num_labels)] for j in range(model.num_labels)]\n",
        "  for param in model.parameters(): param.data = param.data.contiguous()\n",
        "  return model"
      ]
    },
    {
      "cell_type": "code",
      "execution_count": null,
      "metadata": {
        "id": "EAjzu81FTNxy"
      },
      "outputs": [],
      "source": [
        "def compute_metrics(p): #p should be of type EvalPrediction\n",
        "  preds = np.argmax(p.predictions, axis=1)\n",
        "  assert len(preds) == len(p.label_ids)\n",
        "  print(classification_report(p.label_ids,preds,digits=4))\n",
        "  print(confusion_matrix(p.label_ids,preds))\n",
        "\n",
        "  #f1_Positive = f1_score(p.label_ids,preds,pos_label=1,average='binary')\n",
        "  #f1_Negative = f1_score(p.label_ids,preds,pos_label=0,average='binary')\n",
        "  macro_f1 = f1_score(p.label_ids,preds,average='macro')\n",
        "  macro_precision = precision_score(p.label_ids,preds,average='macro')\n",
        "  macro_recall = recall_score(p.label_ids,preds,average='macro')\n",
        "  acc = accuracy_score(p.label_ids,preds)\n",
        "  #QWK = cohen_kappa_score(p.label_ids, preds, weights='quadratic')\n",
        "  return {\n",
        "      #'f1_pos': f1_Positive,\n",
        "      #'f1_neg': f1_Negative,\n",
        "      'macro_f1' : macro_f1,\n",
        "      'macro_precision': macro_precision,\n",
        "      'macro_recall': macro_recall,\n",
        "      'accuracy': acc\n",
        "      #'Quadratic Weighted Kappa': QWK\n",
        "  }"
      ]
    },
    {
      "cell_type": "code",
      "execution_count": null,
      "metadata": {
        "id": "S8_Ci07Yj1D8"
      },
      "outputs": [],
      "source": [
        "\n",
        "def argmax(iterable):\n",
        "    return max(enumerate(iterable), key=lambda x: x[1])[0]"
      ]
    },
    {
      "cell_type": "code",
      "execution_count": null,
      "metadata": {
        "colab": {
          "base_uri": "https://localhost:8080/",
          "height": 1000,
          "referenced_widgets": [
            "c3125ae6f03249fdaea902044f463717",
            "a9a6180ba06449a298175324b920a721",
            "765f547e4b8341799fc0815da5cc40cc",
            "f83d6f9002924b479db78507844dc28c",
            "d20156bf86714656aa9a614e61414208",
            "2bdf8322c5af4d25be2233aea61af0ec",
            "a72290dcce5e427a9c4b9d71b49632f0",
            "7bd0482d98734d47ae48d3d2cbdb0443",
            "9f8d11b1104c4f1487e993d747344bd1",
            "bac2516f1e834216ab3b7cfdf8fd1397",
            "95d7bb319ff145988179355bdd29a51a",
            "a58ad51f04764eb9a9d896c5c652e9d0",
            "5fbefd70aab54a0c9a2f9e62f8aea35a",
            "b4f6e7e26c6b4637a1b4429354101158",
            "9655e3d2eba145e69c84faf572899235",
            "6c7167a14e3d474aa3adf1b00735c38c",
            "2dd33abb010d470b93d596c618eeedd8",
            "b1f1c9fe380344cfae770ca0b64155bd",
            "c242ed08719c491d8c0d0ee271649776",
            "ec03201232f744aaa82daabda20ad721",
            "5563324c5c1c475d814f67fb48eff254",
            "a0e6878436b643ca8af3a510759f5b5a",
            "a9cbf40399a14571b4dfe9af499ef899",
            "063aa3f5cb4b4218b1ce1770a7a82fd1",
            "c862728eb87a41cbb355e61c7abedc79",
            "6dbc8dcef4634b2ab62347697223eac9",
            "19e027594cdd4897bd53de80ea6596c1",
            "de8865075fef4d13b6ea1491957f3602",
            "ea93cd854bc642bcab697ab08539a1bf",
            "380b4ce312484b10b9fff28ca96361c3",
            "3a3aac121b5441fdb735551c03d86088",
            "2adccb8902784a5187632fd20651f280",
            "bda2271f8c21480ab169fce6a0f2c169"
          ]
        },
        "id": "yoPrPj8Wx8tr",
        "outputId": "284ee828-f92c-41e2-ad81-e50d704d3f69"
      },
      "outputs": [
        {
          "data": {
            "application/vnd.jupyter.widget-view+json": {
              "model_id": "c3125ae6f03249fdaea902044f463717",
              "version_major": 2,
              "version_minor": 0
            },
            "text/plain": [
              "Map:   0%|          | 0/52521 [00:00<?, ? examples/s]"
            ]
          },
          "metadata": {},
          "output_type": "display_data"
        },
        {
          "data": {
            "application/vnd.jupyter.widget-view+json": {
              "model_id": "a58ad51f04764eb9a9d896c5c652e9d0",
              "version_major": 2,
              "version_minor": 0
            },
            "text/plain": [
              "Map:   0%|          | 0/7268 [00:00<?, ? examples/s]"
            ]
          },
          "metadata": {},
          "output_type": "display_data"
        },
        {
          "data": {
            "application/vnd.jupyter.widget-view+json": {
              "model_id": "a9cbf40399a14571b4dfe9af499ef899",
              "version_major": 2,
              "version_minor": 0
            },
            "text/plain": [
              "Map:   0%|          | 0/8393 [00:00<?, ? examples/s]"
            ]
          },
          "metadata": {},
          "output_type": "display_data"
        },
        {
          "name": "stderr",
          "output_type": "stream",
          "text": [
            "/usr/local/lib/python3.11/dist-packages/transformers/training_args.py:1611: FutureWarning: `evaluation_strategy` is deprecated and will be removed in version 4.46 of 🤗 Transformers. Use `eval_strategy` instead\n",
            "  warnings.warn(\n",
            "<ipython-input-38-863c9307eea2>:30: FutureWarning: `tokenizer` is deprecated and will be removed in version 5.0.0 for `Trainer.__init__`. Use `processing_class` instead.\n",
            "  trainer = loss_function(model_init=model_init,\n",
            "Some weights of BertForSequenceClassification were not initialized from the model checkpoint at aubmindlab/bert-base-arabertv02 and are newly initialized: ['classifier.bias', 'classifier.weight']\n",
            "You should probably TRAIN this model on a down-stream task to be able to use it for predictions and inference.\n",
            "Some weights of BertForSequenceClassification were not initialized from the model checkpoint at aubmindlab/bert-base-arabertv02 and are newly initialized: ['classifier.bias', 'classifier.weight']\n",
            "You should probably TRAIN this model on a down-stream task to be able to use it for predictions and inference.\n"
          ]
        },
        {
          "data": {
            "application/javascript": "\n        window._wandbApiKey = new Promise((resolve, reject) => {\n            function loadScript(url) {\n            return new Promise(function(resolve, reject) {\n                let newScript = document.createElement(\"script\");\n                newScript.onerror = reject;\n                newScript.onload = resolve;\n                document.body.appendChild(newScript);\n                newScript.src = url;\n            });\n            }\n            loadScript(\"https://cdn.jsdelivr.net/npm/postmate/build/postmate.min.js\").then(() => {\n            const iframe = document.createElement('iframe')\n            iframe.style.cssText = \"width:0;height:0;border:none\"\n            document.body.appendChild(iframe)\n            const handshake = new Postmate({\n                container: iframe,\n                url: 'https://wandb.ai/authorize'\n            });\n            const timeout = setTimeout(() => reject(\"Couldn't auto authenticate\"), 5000)\n            handshake.then(function(child) {\n                child.on('authorize', data => {\n                    clearTimeout(timeout)\n                    resolve(data)\n                });\n            });\n            })\n        });\n    ",
            "text/plain": [
              "<IPython.core.display.Javascript object>"
            ]
          },
          "metadata": {},
          "output_type": "display_data"
        },
        {
          "name": "stderr",
          "output_type": "stream",
          "text": [
            "\u001b[34m\u001b[1mwandb\u001b[0m: Logging into wandb.ai. (Learn how to deploy a W&B server locally: https://wandb.me/wandb-server)\n",
            "\u001b[34m\u001b[1mwandb\u001b[0m: You can find your API key in your browser here: https://wandb.ai/authorize\n",
            "wandb: Paste an API key from your profile and hit enter:"
          ]
        },
        {
          "name": "stdout",
          "output_type": "stream",
          "text": [
            " ··········\n"
          ]
        },
        {
          "name": "stderr",
          "output_type": "stream",
          "text": [
            "\u001b[34m\u001b[1mwandb\u001b[0m: \u001b[33mWARNING\u001b[0m If you're specifying your api key in code, ensure this code is not shared publicly.\n",
            "\u001b[34m\u001b[1mwandb\u001b[0m: \u001b[33mWARNING\u001b[0m Consider setting the WANDB_API_KEY environment variable, or running `wandb login` from the command line.\n",
            "\u001b[34m\u001b[1mwandb\u001b[0m: No netrc file found, creating one.\n",
            "\u001b[34m\u001b[1mwandb\u001b[0m: Appending key for api.wandb.ai to your netrc file: /root/.netrc\n",
            "\u001b[34m\u001b[1mwandb\u001b[0m: Currently logged in as: \u001b[33mnour-rabih\u001b[0m (\u001b[33mnoor-rabie\u001b[0m) to \u001b[32mhttps://api.wandb.ai\u001b[0m. Use \u001b[1m`wandb login --relogin`\u001b[0m to force relogin\n"
          ]
        },
        {
          "data": {
            "text/html": [
              "Tracking run with wandb version 0.19.8"
            ],
            "text/plain": [
              "<IPython.core.display.HTML object>"
            ]
          },
          "metadata": {},
          "output_type": "display_data"
        },
        {
          "data": {
            "text/html": [
              "Run data is saved locally in <code>/content/wandb/run-20250326_130649-mbt41b6q</code>"
            ],
            "text/plain": [
              "<IPython.core.display.HTML object>"
            ]
          },
          "metadata": {},
          "output_type": "display_data"
        },
        {
          "data": {
            "text/html": [
              "Syncing run <strong><a href='https://wandb.ai/noor-rabie/huggingface/runs/mbt41b6q' target=\"_blank\">/content/drive/MyDrive/MBZ/Thesis/content/bert_content</a></strong> to <a href='https://wandb.ai/noor-rabie/huggingface' target=\"_blank\">Weights & Biases</a> (<a href='https://wandb.me/developer-guide' target=\"_blank\">docs</a>)<br>"
            ],
            "text/plain": [
              "<IPython.core.display.HTML object>"
            ]
          },
          "metadata": {},
          "output_type": "display_data"
        },
        {
          "data": {
            "text/html": [
              " View project at <a href='https://wandb.ai/noor-rabie/huggingface' target=\"_blank\">https://wandb.ai/noor-rabie/huggingface</a>"
            ],
            "text/plain": [
              "<IPython.core.display.HTML object>"
            ]
          },
          "metadata": {},
          "output_type": "display_data"
        },
        {
          "data": {
            "text/html": [
              " View run at <a href='https://wandb.ai/noor-rabie/huggingface/runs/mbt41b6q' target=\"_blank\">https://wandb.ai/noor-rabie/huggingface/runs/mbt41b6q</a>"
            ],
            "text/plain": [
              "<IPython.core.display.HTML object>"
            ]
          },
          "metadata": {},
          "output_type": "display_data"
        },
        {
          "data": {
            "text/html": [
              "\n",
              "    <div>\n",
              "      \n",
              "      <progress value='4926' max='4926' style='width:300px; height:20px; vertical-align: middle;'></progress>\n",
              "      [4926/4926 30:06, Epoch 6/6]\n",
              "    </div>\n",
              "    <table border=\"1\" class=\"dataframe\">\n",
              "  <thead>\n",
              " <tr style=\"text-align: left;\">\n",
              "      <th>Epoch</th>\n",
              "      <th>Training Loss</th>\n",
              "      <th>Validation Loss</th>\n",
              "      <th>Macro F1</th>\n",
              "      <th>Macro Precision</th>\n",
              "      <th>Macro Recall</th>\n",
              "      <th>Accuracy</th>\n",
              "    </tr>\n",
              "  </thead>\n",
              "  <tbody>\n",
              "    <tr>\n",
              "      <td>1</td>\n",
              "      <td>1.246900</td>\n",
              "      <td>1.023278</td>\n",
              "      <td>0.582677</td>\n",
              "      <td>0.589554</td>\n",
              "      <td>0.587055</td>\n",
              "      <td>0.599071</td>\n",
              "    </tr>\n",
              "    <tr>\n",
              "      <td>2</td>\n",
              "      <td>0.874500</td>\n",
              "      <td>1.038051</td>\n",
              "      <td>0.591179</td>\n",
              "      <td>0.607137</td>\n",
              "      <td>0.600125</td>\n",
              "      <td>0.612415</td>\n",
              "    </tr>\n",
              "    <tr>\n",
              "      <td>3</td>\n",
              "      <td>0.697300</td>\n",
              "      <td>1.091695</td>\n",
              "      <td>0.593912</td>\n",
              "      <td>0.614896</td>\n",
              "      <td>0.606803</td>\n",
              "      <td>0.619087</td>\n",
              "    </tr>\n",
              "    <tr>\n",
              "      <td>4</td>\n",
              "      <td>0.426300</td>\n",
              "      <td>1.317940</td>\n",
              "      <td>0.580141</td>\n",
              "      <td>0.582574</td>\n",
              "      <td>0.595075</td>\n",
              "      <td>0.600143</td>\n",
              "    </tr>\n",
              "    <tr>\n",
              "      <td>5</td>\n",
              "      <td>0.279100</td>\n",
              "      <td>1.527498</td>\n",
              "      <td>0.582370</td>\n",
              "      <td>0.592132</td>\n",
              "      <td>0.587428</td>\n",
              "      <td>0.601930</td>\n",
              "    </tr>\n",
              "    <tr>\n",
              "      <td>6</td>\n",
              "      <td>0.208600</td>\n",
              "      <td>1.693421</td>\n",
              "      <td>0.580508</td>\n",
              "      <td>0.586231</td>\n",
              "      <td>0.589197</td>\n",
              "      <td>0.599071</td>\n",
              "    </tr>\n",
              "  </tbody>\n",
              "</table><p>"
            ],
            "text/plain": [
              "<IPython.core.display.HTML object>"
            ]
          },
          "metadata": {},
          "output_type": "display_data"
        },
        {
          "name": "stdout",
          "output_type": "stream",
          "text": [
            "              precision    recall  f1-score   support\n",
            "\n",
            "           0     0.5947    0.6230    0.6085       252\n",
            "           1     0.4561    0.6218    0.5262       468\n",
            "           2     0.5115    0.5691    0.5387       666\n",
            "           3     0.6324    0.6392    0.6358       740\n",
            "           4     0.7038    0.6953    0.6995      1480\n",
            "           5     0.5720    0.6091    0.5899      2466\n",
            "           6     0.6267    0.5551    0.5887      1787\n",
            "           7     0.6193    0.3839    0.4740       534\n",
            "\n",
            "    accuracy                         0.5991      8393\n",
            "   macro avg     0.5896    0.5871    0.5827      8393\n",
            "weighted avg     0.6046    0.5991    0.5986      8393\n",
            "\n",
            "[[ 157   49   11    2    2   30    1    0]\n",
            " [  31  291   61   12   13   58    0    2]\n",
            " [  27  138  379   19   26   75    1    1]\n",
            " [   7   34   76  473   53   85   12    0]\n",
            " [   6   35   46   78 1029  240   41    5]\n",
            " [  34   84  143  123  257 1502  293   30]\n",
            " [   2    5   23   30   75  572  992   88]\n",
            " [   0    2    2   11    7   64  243  205]]\n",
            "              precision    recall  f1-score   support\n",
            "\n",
            "           0     0.5693    0.6032    0.5857       252\n",
            "           1     0.4269    0.7051    0.5318       468\n",
            "           2     0.6431    0.4925    0.5578       666\n",
            "           3     0.6455    0.6716    0.6583       740\n",
            "           4     0.6471    0.8054    0.7176      1480\n",
            "           5     0.6108    0.5754    0.5926      2466\n",
            "           6     0.6330    0.5713    0.6006      1787\n",
            "           7     0.6814    0.3764    0.4849       534\n",
            "\n",
            "    accuracy                         0.6124      8393\n",
            "   macro avg     0.6071    0.6001    0.5912      8393\n",
            "weighted avg     0.6206    0.6124    0.6089      8393\n",
            "\n",
            "[[ 152   66   10    2    0   21    1    0]\n",
            " [  29  330   26   16   17   47    2    1]\n",
            " [  33  164  328   36   25   80    0    0]\n",
            " [   9   43   36  497   71   74   10    0]\n",
            " [   6   45   28   57 1192  111   39    2]\n",
            " [  36  115   69  125  381 1419  304   17]\n",
            " [   2    7   12   29  139  503 1021   74]\n",
            " [   0    3    1    8   17   68  236  201]]\n",
            "              precision    recall  f1-score   support\n",
            "\n",
            "           0     0.5299    0.7024    0.6041       252\n",
            "           1     0.4968    0.6603    0.5670       468\n",
            "           2     0.5882    0.5856    0.5869       666\n",
            "           3     0.6342    0.6419    0.6380       740\n",
            "           4     0.6995    0.7236    0.7114      1480\n",
            "           5     0.6338    0.5560    0.5924      2466\n",
            "           6     0.5879    0.7001    0.6391      1787\n",
            "           7     0.7488    0.2846    0.4125       534\n",
            "\n",
            "    accuracy                         0.6191      8393\n",
            "   macro avg     0.6149    0.6068    0.5939      8393\n",
            "weighted avg     0.6286    0.6191    0.6144      8393\n",
            "\n",
            "[[ 177   29   14    4    1   26    1    0]\n",
            " [  44  309   38   15    9   49    4    0]\n",
            " [  38  121  390   26   19   71    1    0]\n",
            " [  12   36   60  475   65   75   17    0]\n",
            " [   8   37   36   98 1071  156   73    1]\n",
            " [  52   81  106  107  272 1371  467   10]\n",
            " [   3    7   17   20   84  365 1251   40]\n",
            " [   0    2    2    4   10   50  314  152]]\n",
            "              precision    recall  f1-score   support\n",
            "\n",
            "           0     0.5028    0.7063    0.5875       252\n",
            "           1     0.4934    0.6389    0.5568       468\n",
            "           2     0.6089    0.5330    0.5685       666\n",
            "           3     0.5819    0.6432    0.6110       740\n",
            "           4     0.6524    0.7392    0.6931      1480\n",
            "           5     0.6024    0.5795    0.5907      2466\n",
            "           6     0.6076    0.5702    0.5883      1787\n",
            "           7     0.6111    0.3502    0.4452       534\n",
            "\n",
            "    accuracy                         0.6001      8393\n",
            "   macro avg     0.5826    0.5951    0.5801      8393\n",
            "weighted avg     0.6025    0.6001    0.5970      8393\n",
            "\n",
            "[[ 178   26   12    3    4   28    1    0]\n",
            " [  56  299   34   19   11   44    4    1]\n",
            " [  42  131  355   46   31   60    0    1]\n",
            " [  12   39   41  476   73   87   12    0]\n",
            " [  13   29   27  103 1094  160   51    3]\n",
            " [  49   74   96  128  334 1429  336   20]\n",
            " [   3    6   16   36  113  500 1019   94]\n",
            " [   1    2    2    7   17   64  254  187]]\n",
            "              precision    recall  f1-score   support\n",
            "\n",
            "           0     0.5658    0.6310    0.5966       252\n",
            "           1     0.4785    0.6432    0.5488       468\n",
            "           2     0.5738    0.5781    0.5759       666\n",
            "           3     0.6148    0.6189    0.6168       740\n",
            "           4     0.6797    0.7284    0.7032      1480\n",
            "           5     0.5805    0.6290    0.6037      2466\n",
            "           6     0.6177    0.5227    0.5662      1787\n",
            "           7     0.6263    0.3483    0.4477       534\n",
            "\n",
            "    accuracy                         0.6019      8393\n",
            "   macro avg     0.5921    0.5874    0.5824      8393\n",
            "weighted avg     0.6052    0.6019    0.5990      8393\n",
            "\n",
            "[[ 159   40   20    6    3   23    1    0]\n",
            " [  35  301   51   20   13   45    3    0]\n",
            " [  27  122  385   36   37   59    0    0]\n",
            " [  10   34   56  458   78   92   12    0]\n",
            " [   8   30   28   81 1078  207   47    1]\n",
            " [  40   89  112  108  263 1551  284   19]\n",
            " [   2   10   17   28   98  607  934   91]\n",
            " [   0    3    2    8   16   88  231  186]]\n",
            "              precision    recall  f1-score   support\n",
            "\n",
            "           0     0.5574    0.6548    0.6022       252\n",
            "           1     0.5081    0.6047    0.5522       468\n",
            "           2     0.5548    0.6231    0.5870       666\n",
            "           3     0.5939    0.6324    0.6126       740\n",
            "           4     0.6679    0.7311    0.6981      1480\n",
            "           5     0.5904    0.5904    0.5904      2466\n",
            "           6     0.6024    0.5512    0.5757      1787\n",
            "           7     0.6148    0.3258    0.4259       534\n",
            "\n",
            "    accuracy                         0.5991      8393\n",
            "   macro avg     0.5862    0.5892    0.5805      8393\n",
            "weighted avg     0.6001    0.5991    0.5957      8393\n",
            "\n",
            "[[ 165   31   24    4    4   23    1    0]\n",
            " [  38  283   62   24   14   43    4    0]\n",
            " [  30  100  415   35   35   51    0    0]\n",
            " [  11   32   68  468   74   76   11    0]\n",
            " [   7   28   33   93 1082  187   50    0]\n",
            " [  42   74  127  127  293 1456  330   17]\n",
            " [   3    7   17   29  101  553  985   92]\n",
            " [   0    2    2    8   17   77  254  174]]\n"
          ]
        },
        {
          "data": {
            "text/html": [],
            "text/plain": [
              "<IPython.core.display.HTML object>"
            ]
          },
          "metadata": {},
          "output_type": "display_data"
        },
        {
          "name": "stdout",
          "output_type": "stream",
          "text": [
            "              precision    recall  f1-score   support\n",
            "\n",
            "           0     0.5947    0.6230    0.6085       252\n",
            "           1     0.4561    0.6218    0.5262       468\n",
            "           2     0.5115    0.5691    0.5387       666\n",
            "           3     0.6324    0.6392    0.6358       740\n",
            "           4     0.7038    0.6953    0.6995      1480\n",
            "           5     0.5720    0.6091    0.5899      2466\n",
            "           6     0.6267    0.5551    0.5887      1787\n",
            "           7     0.6193    0.3839    0.4740       534\n",
            "\n",
            "    accuracy                         0.5991      8393\n",
            "   macro avg     0.5896    0.5871    0.5827      8393\n",
            "weighted avg     0.6046    0.5991    0.5986      8393\n",
            "\n",
            "[[ 157   49   11    2    2   30    1    0]\n",
            " [  31  291   61   12   13   58    0    2]\n",
            " [  27  138  379   19   26   75    1    1]\n",
            " [   7   34   76  473   53   85   12    0]\n",
            " [   6   35   46   78 1029  240   41    5]\n",
            " [  34   84  143  123  257 1502  293   30]\n",
            " [   2    5   23   30   75  572  992   88]\n",
            " [   0    2    2   11    7   64  243  205]]\n"
          ]
        }
      ],
      "source": [
        "save_dir = \"content/bert_content\"  # SAVE DIRECTORY\n",
        "out_xlsx = \"../data/content_pred.xlsx\"\n",
        "# Create subset of the training data\n",
        "# train_subset = dataset['train'].select(range(subset_size))\n",
        "tokenizer = AutoTokenizer.from_pretrained(checkpoint)\n",
        "\n",
        "def tokenize_function(example):\n",
        "    return tokenizer(example[DATA_COLUMN], truncation=True, max_length=512)\n",
        "\n",
        "tokenized_datasets = dataset.map(tokenize_function, batched=True)\n",
        "#tokenized_datasets = tokenized_datasets.remove_columns(LABEL_COLUMN)\n",
        "data_collator = DataCollatorWithPadding(tokenizer=tokenizer)\n",
        "\n",
        "training_args = TrainingArguments(save_dir,\n",
        "                              evaluation_strategy=\"epoch\",\n",
        "                              num_train_epochs=6,\n",
        "                              per_device_train_batch_size= 64,\n",
        "                              per_device_eval_batch_size=16,\n",
        "                              load_best_model_at_end=True,\n",
        "                              metric_for_best_model=\"eval_loss\",\n",
        "                              greater_is_better=False,\n",
        "                              save_strategy=\"epoch\",\n",
        "                              #overwrite_output_dir=True,\n",
        "                              #save_steps=496,\n",
        "                              save_total_limit=1,\n",
        "                              # push_to_hub=True,\n",
        "                              # hub_token='TOKEN',\n",
        "                              #learning_rate=lr\n",
        "                              )\n",
        "trainer = loss_function(model_init=model_init,\n",
        "              args = training_args,\n",
        "              train_dataset = tokenized_datasets['train'],\n",
        "              eval_dataset = tokenized_datasets['dev'],\n",
        "              data_collator=data_collator,\n",
        "              tokenizer=tokenizer,\n",
        "              compute_metrics = compute_metrics)\n",
        "trainer.train()\n",
        "trainer.save_model(save_dir)\n",
        "\n",
        "preds, labels, metrics = trainer.predict(tokenized_datasets['dev'])\n",
        "\n",
        "\n",
        "texts = []\n",
        "original_texts = []\n",
        "labels = []\n",
        "predictions = []\n",
        "\n",
        "\n",
        "for i in range(len(preds)):\n",
        "  texts.append(list(dev_df['text'])[i])\n",
        "\n",
        "  labels.append(list(dev_df['label'])[i]+1)\n",
        "  predictions.append(argmax(preds[i])+1)\n",
        "\n",
        "\n",
        "v = {\n",
        "    #'original text': original_texts,\n",
        "    'text': texts,\n",
        "    'label': labels,\n",
        "    'prediction': predictions,\n",
        "}\n",
        "\n",
        "\n",
        "final_df = pd.DataFrame.from_dict(v)\n",
        "final_df.to_excel(out_xlsx ,index=False)"
      ]
    },
    {
      "cell_type": "code",
      "execution_count": null,
      "metadata": {
        "colab": {
          "base_uri": "https://localhost:8080/",
          "height": 408
        },
        "id": "XQWoiP1nkFst",
        "outputId": "4aa9e695-ca85-42f3-d415-4b304c23fd65"
      },
      "outputs": [
        {
          "data": {
            "text/html": [],
            "text/plain": [
              "<IPython.core.display.HTML object>"
            ]
          },
          "metadata": {},
          "output_type": "display_data"
        },
        {
          "name": "stdout",
          "output_type": "stream",
          "text": [
            "              precision    recall  f1-score   support\n",
            "\n",
            "           0     0.5699    0.5263    0.5473       209\n",
            "           1     0.4497    0.6818    0.5420       374\n",
            "           2     0.5145    0.5722    0.5419       526\n",
            "           3     0.6123    0.6571    0.6339       560\n",
            "           4     0.7441    0.7018    0.7223      1214\n",
            "           5     0.5578    0.5969    0.5767      1965\n",
            "           6     0.5865    0.5554    0.5706      1678\n",
            "           7     0.6412    0.4191    0.5069       742\n",
            "\n",
            "    accuracy                         0.5919      7268\n",
            "   macro avg     0.5845    0.5889    0.5802      7268\n",
            "weighted avg     0.5999    0.5919    0.5917      7268\n",
            "\n",
            "[[ 110   65   13    0    2   19    0    0]\n",
            " [  26  255   42    7    6   38    0    0]\n",
            " [  27  106  301   14   12   64    2    0]\n",
            " [   7   30   46  368   45   54    7    3]\n",
            " [   3   35   40   68  852  173   33   10]\n",
            " [  18   71  124  102  156 1173  287   34]\n",
            " [   2    4   14   27   63  509  932  127]\n",
            " [   0    1    5   15    9   73  328  311]]\n"
          ]
        }
      ],
      "source": [
        "preds, labels, metrics = trainer.predict(tokenized_datasets['test'])\n",
        "\n",
        "\n",
        "texts = []\n",
        "original_texts = []\n",
        "labels = []\n",
        "predictions = []\n",
        "# ids = []\n",
        "\n",
        "for i in range(len(preds)):\n",
        "  texts.append(list(test_df['text'])[i])\n",
        "\n",
        "  labels.append(list(test_df['label'])[i]+1)\n",
        "  # ids.append(list(test_df['id'])[i])\n",
        "  predictions.append(argmax(preds[i])+1)\n",
        "\n",
        "\n",
        "v = {\n",
        "    #'original text': original_texts,\n",
        "    'text': texts,\n",
        "    'label': labels,\n",
        "    'prediction': predictions,\n",
        "    # 'ID':ids,\n",
        "}\n",
        "out_xlsx = \"/content/drive/MyDrive/MBZ/Thesis/content/content_test_pred.xlsx\"\n",
        "\n",
        "\n",
        "final_df = pd.DataFrame.from_dict(v)\n",
        "final_df.to_excel(out_xlsx ,index=False)"
      ]
    }
  ],
  "metadata": {
    "accelerator": "GPU",
    "colab": {
      "gpuType": "A100",
      "machine_shape": "hm",
      "provenance": []
    },
    "kernelspec": {
      "display_name": "Python 3",
      "name": "python3"
    },
    "language_info": {
      "name": "python"
    },
    "widgets": {
      "application/vnd.jupyter.widget-state+json": {
        "063aa3f5cb4b4218b1ce1770a7a82fd1": {
          "model_module": "@jupyter-widgets/controls",
          "model_module_version": "1.5.0",
          "model_name": "HTMLModel",
          "state": {
            "_dom_classes": [],
            "_model_module": "@jupyter-widgets/controls",
            "_model_module_version": "1.5.0",
            "_model_name": "HTMLModel",
            "_view_count": null,
            "_view_module": "@jupyter-widgets/controls",
            "_view_module_version": "1.5.0",
            "_view_name": "HTMLView",
            "description": "",
            "description_tooltip": null,
            "layout": "IPY_MODEL_de8865075fef4d13b6ea1491957f3602",
            "placeholder": "​",
            "style": "IPY_MODEL_ea93cd854bc642bcab697ab08539a1bf",
            "value": "Map: 100%"
          }
        },
        "19e027594cdd4897bd53de80ea6596c1": {
          "model_module": "@jupyter-widgets/base",
          "model_module_version": "1.2.0",
          "model_name": "LayoutModel",
          "state": {
            "_model_module": "@jupyter-widgets/base",
            "_model_module_version": "1.2.0",
            "_model_name": "LayoutModel",
            "_view_count": null,
            "_view_module": "@jupyter-widgets/base",
            "_view_module_version": "1.2.0",
            "_view_name": "LayoutView",
            "align_content": null,
            "align_items": null,
            "align_self": null,
            "border": null,
            "bottom": null,
            "display": null,
            "flex": null,
            "flex_flow": null,
            "grid_area": null,
            "grid_auto_columns": null,
            "grid_auto_flow": null,
            "grid_auto_rows": null,
            "grid_column": null,
            "grid_gap": null,
            "grid_row": null,
            "grid_template_areas": null,
            "grid_template_columns": null,
            "grid_template_rows": null,
            "height": null,
            "justify_content": null,
            "justify_items": null,
            "left": null,
            "margin": null,
            "max_height": null,
            "max_width": null,
            "min_height": null,
            "min_width": null,
            "object_fit": null,
            "object_position": null,
            "order": null,
            "overflow": null,
            "overflow_x": null,
            "overflow_y": null,
            "padding": null,
            "right": null,
            "top": null,
            "visibility": null,
            "width": null
          }
        },
        "2adccb8902784a5187632fd20651f280": {
          "model_module": "@jupyter-widgets/base",
          "model_module_version": "1.2.0",
          "model_name": "LayoutModel",
          "state": {
            "_model_module": "@jupyter-widgets/base",
            "_model_module_version": "1.2.0",
            "_model_name": "LayoutModel",
            "_view_count": null,
            "_view_module": "@jupyter-widgets/base",
            "_view_module_version": "1.2.0",
            "_view_name": "LayoutView",
            "align_content": null,
            "align_items": null,
            "align_self": null,
            "border": null,
            "bottom": null,
            "display": null,
            "flex": null,
            "flex_flow": null,
            "grid_area": null,
            "grid_auto_columns": null,
            "grid_auto_flow": null,
            "grid_auto_rows": null,
            "grid_column": null,
            "grid_gap": null,
            "grid_row": null,
            "grid_template_areas": null,
            "grid_template_columns": null,
            "grid_template_rows": null,
            "height": null,
            "justify_content": null,
            "justify_items": null,
            "left": null,
            "margin": null,
            "max_height": null,
            "max_width": null,
            "min_height": null,
            "min_width": null,
            "object_fit": null,
            "object_position": null,
            "order": null,
            "overflow": null,
            "overflow_x": null,
            "overflow_y": null,
            "padding": null,
            "right": null,
            "top": null,
            "visibility": null,
            "width": null
          }
        },
        "2bdf8322c5af4d25be2233aea61af0ec": {
          "model_module": "@jupyter-widgets/base",
          "model_module_version": "1.2.0",
          "model_name": "LayoutModel",
          "state": {
            "_model_module": "@jupyter-widgets/base",
            "_model_module_version": "1.2.0",
            "_model_name": "LayoutModel",
            "_view_count": null,
            "_view_module": "@jupyter-widgets/base",
            "_view_module_version": "1.2.0",
            "_view_name": "LayoutView",
            "align_content": null,
            "align_items": null,
            "align_self": null,
            "border": null,
            "bottom": null,
            "display": null,
            "flex": null,
            "flex_flow": null,
            "grid_area": null,
            "grid_auto_columns": null,
            "grid_auto_flow": null,
            "grid_auto_rows": null,
            "grid_column": null,
            "grid_gap": null,
            "grid_row": null,
            "grid_template_areas": null,
            "grid_template_columns": null,
            "grid_template_rows": null,
            "height": null,
            "justify_content": null,
            "justify_items": null,
            "left": null,
            "margin": null,
            "max_height": null,
            "max_width": null,
            "min_height": null,
            "min_width": null,
            "object_fit": null,
            "object_position": null,
            "order": null,
            "overflow": null,
            "overflow_x": null,
            "overflow_y": null,
            "padding": null,
            "right": null,
            "top": null,
            "visibility": null,
            "width": null
          }
        },
        "2dd33abb010d470b93d596c618eeedd8": {
          "model_module": "@jupyter-widgets/base",
          "model_module_version": "1.2.0",
          "model_name": "LayoutModel",
          "state": {
            "_model_module": "@jupyter-widgets/base",
            "_model_module_version": "1.2.0",
            "_model_name": "LayoutModel",
            "_view_count": null,
            "_view_module": "@jupyter-widgets/base",
            "_view_module_version": "1.2.0",
            "_view_name": "LayoutView",
            "align_content": null,
            "align_items": null,
            "align_self": null,
            "border": null,
            "bottom": null,
            "display": null,
            "flex": null,
            "flex_flow": null,
            "grid_area": null,
            "grid_auto_columns": null,
            "grid_auto_flow": null,
            "grid_auto_rows": null,
            "grid_column": null,
            "grid_gap": null,
            "grid_row": null,
            "grid_template_areas": null,
            "grid_template_columns": null,
            "grid_template_rows": null,
            "height": null,
            "justify_content": null,
            "justify_items": null,
            "left": null,
            "margin": null,
            "max_height": null,
            "max_width": null,
            "min_height": null,
            "min_width": null,
            "object_fit": null,
            "object_position": null,
            "order": null,
            "overflow": null,
            "overflow_x": null,
            "overflow_y": null,
            "padding": null,
            "right": null,
            "top": null,
            "visibility": null,
            "width": null
          }
        },
        "380b4ce312484b10b9fff28ca96361c3": {
          "model_module": "@jupyter-widgets/base",
          "model_module_version": "1.2.0",
          "model_name": "LayoutModel",
          "state": {
            "_model_module": "@jupyter-widgets/base",
            "_model_module_version": "1.2.0",
            "_model_name": "LayoutModel",
            "_view_count": null,
            "_view_module": "@jupyter-widgets/base",
            "_view_module_version": "1.2.0",
            "_view_name": "LayoutView",
            "align_content": null,
            "align_items": null,
            "align_self": null,
            "border": null,
            "bottom": null,
            "display": null,
            "flex": null,
            "flex_flow": null,
            "grid_area": null,
            "grid_auto_columns": null,
            "grid_auto_flow": null,
            "grid_auto_rows": null,
            "grid_column": null,
            "grid_gap": null,
            "grid_row": null,
            "grid_template_areas": null,
            "grid_template_columns": null,
            "grid_template_rows": null,
            "height": null,
            "justify_content": null,
            "justify_items": null,
            "left": null,
            "margin": null,
            "max_height": null,
            "max_width": null,
            "min_height": null,
            "min_width": null,
            "object_fit": null,
            "object_position": null,
            "order": null,
            "overflow": null,
            "overflow_x": null,
            "overflow_y": null,
            "padding": null,
            "right": null,
            "top": null,
            "visibility": null,
            "width": null
          }
        },
        "3a3aac121b5441fdb735551c03d86088": {
          "model_module": "@jupyter-widgets/controls",
          "model_module_version": "1.5.0",
          "model_name": "ProgressStyleModel",
          "state": {
            "_model_module": "@jupyter-widgets/controls",
            "_model_module_version": "1.5.0",
            "_model_name": "ProgressStyleModel",
            "_view_count": null,
            "_view_module": "@jupyter-widgets/base",
            "_view_module_version": "1.2.0",
            "_view_name": "StyleView",
            "bar_color": null,
            "description_width": ""
          }
        },
        "5563324c5c1c475d814f67fb48eff254": {
          "model_module": "@jupyter-widgets/base",
          "model_module_version": "1.2.0",
          "model_name": "LayoutModel",
          "state": {
            "_model_module": "@jupyter-widgets/base",
            "_model_module_version": "1.2.0",
            "_model_name": "LayoutModel",
            "_view_count": null,
            "_view_module": "@jupyter-widgets/base",
            "_view_module_version": "1.2.0",
            "_view_name": "LayoutView",
            "align_content": null,
            "align_items": null,
            "align_self": null,
            "border": null,
            "bottom": null,
            "display": null,
            "flex": null,
            "flex_flow": null,
            "grid_area": null,
            "grid_auto_columns": null,
            "grid_auto_flow": null,
            "grid_auto_rows": null,
            "grid_column": null,
            "grid_gap": null,
            "grid_row": null,
            "grid_template_areas": null,
            "grid_template_columns": null,
            "grid_template_rows": null,
            "height": null,
            "justify_content": null,
            "justify_items": null,
            "left": null,
            "margin": null,
            "max_height": null,
            "max_width": null,
            "min_height": null,
            "min_width": null,
            "object_fit": null,
            "object_position": null,
            "order": null,
            "overflow": null,
            "overflow_x": null,
            "overflow_y": null,
            "padding": null,
            "right": null,
            "top": null,
            "visibility": null,
            "width": null
          }
        },
        "5fbefd70aab54a0c9a2f9e62f8aea35a": {
          "model_module": "@jupyter-widgets/controls",
          "model_module_version": "1.5.0",
          "model_name": "HTMLModel",
          "state": {
            "_dom_classes": [],
            "_model_module": "@jupyter-widgets/controls",
            "_model_module_version": "1.5.0",
            "_model_name": "HTMLModel",
            "_view_count": null,
            "_view_module": "@jupyter-widgets/controls",
            "_view_module_version": "1.5.0",
            "_view_name": "HTMLView",
            "description": "",
            "description_tooltip": null,
            "layout": "IPY_MODEL_2dd33abb010d470b93d596c618eeedd8",
            "placeholder": "​",
            "style": "IPY_MODEL_b1f1c9fe380344cfae770ca0b64155bd",
            "value": "Map: 100%"
          }
        },
        "6c7167a14e3d474aa3adf1b00735c38c": {
          "model_module": "@jupyter-widgets/base",
          "model_module_version": "1.2.0",
          "model_name": "LayoutModel",
          "state": {
            "_model_module": "@jupyter-widgets/base",
            "_model_module_version": "1.2.0",
            "_model_name": "LayoutModel",
            "_view_count": null,
            "_view_module": "@jupyter-widgets/base",
            "_view_module_version": "1.2.0",
            "_view_name": "LayoutView",
            "align_content": null,
            "align_items": null,
            "align_self": null,
            "border": null,
            "bottom": null,
            "display": null,
            "flex": null,
            "flex_flow": null,
            "grid_area": null,
            "grid_auto_columns": null,
            "grid_auto_flow": null,
            "grid_auto_rows": null,
            "grid_column": null,
            "grid_gap": null,
            "grid_row": null,
            "grid_template_areas": null,
            "grid_template_columns": null,
            "grid_template_rows": null,
            "height": null,
            "justify_content": null,
            "justify_items": null,
            "left": null,
            "margin": null,
            "max_height": null,
            "max_width": null,
            "min_height": null,
            "min_width": null,
            "object_fit": null,
            "object_position": null,
            "order": null,
            "overflow": null,
            "overflow_x": null,
            "overflow_y": null,
            "padding": null,
            "right": null,
            "top": null,
            "visibility": null,
            "width": null
          }
        },
        "6dbc8dcef4634b2ab62347697223eac9": {
          "model_module": "@jupyter-widgets/controls",
          "model_module_version": "1.5.0",
          "model_name": "HTMLModel",
          "state": {
            "_dom_classes": [],
            "_model_module": "@jupyter-widgets/controls",
            "_model_module_version": "1.5.0",
            "_model_name": "HTMLModel",
            "_view_count": null,
            "_view_module": "@jupyter-widgets/controls",
            "_view_module_version": "1.5.0",
            "_view_name": "HTMLView",
            "description": "",
            "description_tooltip": null,
            "layout": "IPY_MODEL_2adccb8902784a5187632fd20651f280",
            "placeholder": "​",
            "style": "IPY_MODEL_bda2271f8c21480ab169fce6a0f2c169",
            "value": " 8393/8393 [00:00&lt;00:00, 21214.81 examples/s]"
          }
        },
        "765f547e4b8341799fc0815da5cc40cc": {
          "model_module": "@jupyter-widgets/controls",
          "model_module_version": "1.5.0",
          "model_name": "FloatProgressModel",
          "state": {
            "_dom_classes": [],
            "_model_module": "@jupyter-widgets/controls",
            "_model_module_version": "1.5.0",
            "_model_name": "FloatProgressModel",
            "_view_count": null,
            "_view_module": "@jupyter-widgets/controls",
            "_view_module_version": "1.5.0",
            "_view_name": "ProgressView",
            "bar_style": "success",
            "description": "",
            "description_tooltip": null,
            "layout": "IPY_MODEL_7bd0482d98734d47ae48d3d2cbdb0443",
            "max": 52521,
            "min": 0,
            "orientation": "horizontal",
            "style": "IPY_MODEL_9f8d11b1104c4f1487e993d747344bd1",
            "value": 52521
          }
        },
        "7bd0482d98734d47ae48d3d2cbdb0443": {
          "model_module": "@jupyter-widgets/base",
          "model_module_version": "1.2.0",
          "model_name": "LayoutModel",
          "state": {
            "_model_module": "@jupyter-widgets/base",
            "_model_module_version": "1.2.0",
            "_model_name": "LayoutModel",
            "_view_count": null,
            "_view_module": "@jupyter-widgets/base",
            "_view_module_version": "1.2.0",
            "_view_name": "LayoutView",
            "align_content": null,
            "align_items": null,
            "align_self": null,
            "border": null,
            "bottom": null,
            "display": null,
            "flex": null,
            "flex_flow": null,
            "grid_area": null,
            "grid_auto_columns": null,
            "grid_auto_flow": null,
            "grid_auto_rows": null,
            "grid_column": null,
            "grid_gap": null,
            "grid_row": null,
            "grid_template_areas": null,
            "grid_template_columns": null,
            "grid_template_rows": null,
            "height": null,
            "justify_content": null,
            "justify_items": null,
            "left": null,
            "margin": null,
            "max_height": null,
            "max_width": null,
            "min_height": null,
            "min_width": null,
            "object_fit": null,
            "object_position": null,
            "order": null,
            "overflow": null,
            "overflow_x": null,
            "overflow_y": null,
            "padding": null,
            "right": null,
            "top": null,
            "visibility": null,
            "width": null
          }
        },
        "95d7bb319ff145988179355bdd29a51a": {
          "model_module": "@jupyter-widgets/controls",
          "model_module_version": "1.5.0",
          "model_name": "DescriptionStyleModel",
          "state": {
            "_model_module": "@jupyter-widgets/controls",
            "_model_module_version": "1.5.0",
            "_model_name": "DescriptionStyleModel",
            "_view_count": null,
            "_view_module": "@jupyter-widgets/base",
            "_view_module_version": "1.2.0",
            "_view_name": "StyleView",
            "description_width": ""
          }
        },
        "9655e3d2eba145e69c84faf572899235": {
          "model_module": "@jupyter-widgets/controls",
          "model_module_version": "1.5.0",
          "model_name": "HTMLModel",
          "state": {
            "_dom_classes": [],
            "_model_module": "@jupyter-widgets/controls",
            "_model_module_version": "1.5.0",
            "_model_name": "HTMLModel",
            "_view_count": null,
            "_view_module": "@jupyter-widgets/controls",
            "_view_module_version": "1.5.0",
            "_view_name": "HTMLView",
            "description": "",
            "description_tooltip": null,
            "layout": "IPY_MODEL_5563324c5c1c475d814f67fb48eff254",
            "placeholder": "​",
            "style": "IPY_MODEL_a0e6878436b643ca8af3a510759f5b5a",
            "value": " 7268/7268 [00:00&lt;00:00, 23124.00 examples/s]"
          }
        },
        "9f8d11b1104c4f1487e993d747344bd1": {
          "model_module": "@jupyter-widgets/controls",
          "model_module_version": "1.5.0",
          "model_name": "ProgressStyleModel",
          "state": {
            "_model_module": "@jupyter-widgets/controls",
            "_model_module_version": "1.5.0",
            "_model_name": "ProgressStyleModel",
            "_view_count": null,
            "_view_module": "@jupyter-widgets/base",
            "_view_module_version": "1.2.0",
            "_view_name": "StyleView",
            "bar_color": null,
            "description_width": ""
          }
        },
        "a0e6878436b643ca8af3a510759f5b5a": {
          "model_module": "@jupyter-widgets/controls",
          "model_module_version": "1.5.0",
          "model_name": "DescriptionStyleModel",
          "state": {
            "_model_module": "@jupyter-widgets/controls",
            "_model_module_version": "1.5.0",
            "_model_name": "DescriptionStyleModel",
            "_view_count": null,
            "_view_module": "@jupyter-widgets/base",
            "_view_module_version": "1.2.0",
            "_view_name": "StyleView",
            "description_width": ""
          }
        },
        "a58ad51f04764eb9a9d896c5c652e9d0": {
          "model_module": "@jupyter-widgets/controls",
          "model_module_version": "1.5.0",
          "model_name": "HBoxModel",
          "state": {
            "_dom_classes": [],
            "_model_module": "@jupyter-widgets/controls",
            "_model_module_version": "1.5.0",
            "_model_name": "HBoxModel",
            "_view_count": null,
            "_view_module": "@jupyter-widgets/controls",
            "_view_module_version": "1.5.0",
            "_view_name": "HBoxView",
            "box_style": "",
            "children": [
              "IPY_MODEL_5fbefd70aab54a0c9a2f9e62f8aea35a",
              "IPY_MODEL_b4f6e7e26c6b4637a1b4429354101158",
              "IPY_MODEL_9655e3d2eba145e69c84faf572899235"
            ],
            "layout": "IPY_MODEL_6c7167a14e3d474aa3adf1b00735c38c"
          }
        },
        "a72290dcce5e427a9c4b9d71b49632f0": {
          "model_module": "@jupyter-widgets/controls",
          "model_module_version": "1.5.0",
          "model_name": "DescriptionStyleModel",
          "state": {
            "_model_module": "@jupyter-widgets/controls",
            "_model_module_version": "1.5.0",
            "_model_name": "DescriptionStyleModel",
            "_view_count": null,
            "_view_module": "@jupyter-widgets/base",
            "_view_module_version": "1.2.0",
            "_view_name": "StyleView",
            "description_width": ""
          }
        },
        "a9a6180ba06449a298175324b920a721": {
          "model_module": "@jupyter-widgets/controls",
          "model_module_version": "1.5.0",
          "model_name": "HTMLModel",
          "state": {
            "_dom_classes": [],
            "_model_module": "@jupyter-widgets/controls",
            "_model_module_version": "1.5.0",
            "_model_name": "HTMLModel",
            "_view_count": null,
            "_view_module": "@jupyter-widgets/controls",
            "_view_module_version": "1.5.0",
            "_view_name": "HTMLView",
            "description": "",
            "description_tooltip": null,
            "layout": "IPY_MODEL_2bdf8322c5af4d25be2233aea61af0ec",
            "placeholder": "​",
            "style": "IPY_MODEL_a72290dcce5e427a9c4b9d71b49632f0",
            "value": "Map: 100%"
          }
        },
        "a9cbf40399a14571b4dfe9af499ef899": {
          "model_module": "@jupyter-widgets/controls",
          "model_module_version": "1.5.0",
          "model_name": "HBoxModel",
          "state": {
            "_dom_classes": [],
            "_model_module": "@jupyter-widgets/controls",
            "_model_module_version": "1.5.0",
            "_model_name": "HBoxModel",
            "_view_count": null,
            "_view_module": "@jupyter-widgets/controls",
            "_view_module_version": "1.5.0",
            "_view_name": "HBoxView",
            "box_style": "",
            "children": [
              "IPY_MODEL_063aa3f5cb4b4218b1ce1770a7a82fd1",
              "IPY_MODEL_c862728eb87a41cbb355e61c7abedc79",
              "IPY_MODEL_6dbc8dcef4634b2ab62347697223eac9"
            ],
            "layout": "IPY_MODEL_19e027594cdd4897bd53de80ea6596c1"
          }
        },
        "b1f1c9fe380344cfae770ca0b64155bd": {
          "model_module": "@jupyter-widgets/controls",
          "model_module_version": "1.5.0",
          "model_name": "DescriptionStyleModel",
          "state": {
            "_model_module": "@jupyter-widgets/controls",
            "_model_module_version": "1.5.0",
            "_model_name": "DescriptionStyleModel",
            "_view_count": null,
            "_view_module": "@jupyter-widgets/base",
            "_view_module_version": "1.2.0",
            "_view_name": "StyleView",
            "description_width": ""
          }
        },
        "b4f6e7e26c6b4637a1b4429354101158": {
          "model_module": "@jupyter-widgets/controls",
          "model_module_version": "1.5.0",
          "model_name": "FloatProgressModel",
          "state": {
            "_dom_classes": [],
            "_model_module": "@jupyter-widgets/controls",
            "_model_module_version": "1.5.0",
            "_model_name": "FloatProgressModel",
            "_view_count": null,
            "_view_module": "@jupyter-widgets/controls",
            "_view_module_version": "1.5.0",
            "_view_name": "ProgressView",
            "bar_style": "success",
            "description": "",
            "description_tooltip": null,
            "layout": "IPY_MODEL_c242ed08719c491d8c0d0ee271649776",
            "max": 7268,
            "min": 0,
            "orientation": "horizontal",
            "style": "IPY_MODEL_ec03201232f744aaa82daabda20ad721",
            "value": 7268
          }
        },
        "bac2516f1e834216ab3b7cfdf8fd1397": {
          "model_module": "@jupyter-widgets/base",
          "model_module_version": "1.2.0",
          "model_name": "LayoutModel",
          "state": {
            "_model_module": "@jupyter-widgets/base",
            "_model_module_version": "1.2.0",
            "_model_name": "LayoutModel",
            "_view_count": null,
            "_view_module": "@jupyter-widgets/base",
            "_view_module_version": "1.2.0",
            "_view_name": "LayoutView",
            "align_content": null,
            "align_items": null,
            "align_self": null,
            "border": null,
            "bottom": null,
            "display": null,
            "flex": null,
            "flex_flow": null,
            "grid_area": null,
            "grid_auto_columns": null,
            "grid_auto_flow": null,
            "grid_auto_rows": null,
            "grid_column": null,
            "grid_gap": null,
            "grid_row": null,
            "grid_template_areas": null,
            "grid_template_columns": null,
            "grid_template_rows": null,
            "height": null,
            "justify_content": null,
            "justify_items": null,
            "left": null,
            "margin": null,
            "max_height": null,
            "max_width": null,
            "min_height": null,
            "min_width": null,
            "object_fit": null,
            "object_position": null,
            "order": null,
            "overflow": null,
            "overflow_x": null,
            "overflow_y": null,
            "padding": null,
            "right": null,
            "top": null,
            "visibility": null,
            "width": null
          }
        },
        "bda2271f8c21480ab169fce6a0f2c169": {
          "model_module": "@jupyter-widgets/controls",
          "model_module_version": "1.5.0",
          "model_name": "DescriptionStyleModel",
          "state": {
            "_model_module": "@jupyter-widgets/controls",
            "_model_module_version": "1.5.0",
            "_model_name": "DescriptionStyleModel",
            "_view_count": null,
            "_view_module": "@jupyter-widgets/base",
            "_view_module_version": "1.2.0",
            "_view_name": "StyleView",
            "description_width": ""
          }
        },
        "c242ed08719c491d8c0d0ee271649776": {
          "model_module": "@jupyter-widgets/base",
          "model_module_version": "1.2.0",
          "model_name": "LayoutModel",
          "state": {
            "_model_module": "@jupyter-widgets/base",
            "_model_module_version": "1.2.0",
            "_model_name": "LayoutModel",
            "_view_count": null,
            "_view_module": "@jupyter-widgets/base",
            "_view_module_version": "1.2.0",
            "_view_name": "LayoutView",
            "align_content": null,
            "align_items": null,
            "align_self": null,
            "border": null,
            "bottom": null,
            "display": null,
            "flex": null,
            "flex_flow": null,
            "grid_area": null,
            "grid_auto_columns": null,
            "grid_auto_flow": null,
            "grid_auto_rows": null,
            "grid_column": null,
            "grid_gap": null,
            "grid_row": null,
            "grid_template_areas": null,
            "grid_template_columns": null,
            "grid_template_rows": null,
            "height": null,
            "justify_content": null,
            "justify_items": null,
            "left": null,
            "margin": null,
            "max_height": null,
            "max_width": null,
            "min_height": null,
            "min_width": null,
            "object_fit": null,
            "object_position": null,
            "order": null,
            "overflow": null,
            "overflow_x": null,
            "overflow_y": null,
            "padding": null,
            "right": null,
            "top": null,
            "visibility": null,
            "width": null
          }
        },
        "c3125ae6f03249fdaea902044f463717": {
          "model_module": "@jupyter-widgets/controls",
          "model_module_version": "1.5.0",
          "model_name": "HBoxModel",
          "state": {
            "_dom_classes": [],
            "_model_module": "@jupyter-widgets/controls",
            "_model_module_version": "1.5.0",
            "_model_name": "HBoxModel",
            "_view_count": null,
            "_view_module": "@jupyter-widgets/controls",
            "_view_module_version": "1.5.0",
            "_view_name": "HBoxView",
            "box_style": "",
            "children": [
              "IPY_MODEL_a9a6180ba06449a298175324b920a721",
              "IPY_MODEL_765f547e4b8341799fc0815da5cc40cc",
              "IPY_MODEL_f83d6f9002924b479db78507844dc28c"
            ],
            "layout": "IPY_MODEL_d20156bf86714656aa9a614e61414208"
          }
        },
        "c862728eb87a41cbb355e61c7abedc79": {
          "model_module": "@jupyter-widgets/controls",
          "model_module_version": "1.5.0",
          "model_name": "FloatProgressModel",
          "state": {
            "_dom_classes": [],
            "_model_module": "@jupyter-widgets/controls",
            "_model_module_version": "1.5.0",
            "_model_name": "FloatProgressModel",
            "_view_count": null,
            "_view_module": "@jupyter-widgets/controls",
            "_view_module_version": "1.5.0",
            "_view_name": "ProgressView",
            "bar_style": "success",
            "description": "",
            "description_tooltip": null,
            "layout": "IPY_MODEL_380b4ce312484b10b9fff28ca96361c3",
            "max": 8393,
            "min": 0,
            "orientation": "horizontal",
            "style": "IPY_MODEL_3a3aac121b5441fdb735551c03d86088",
            "value": 8393
          }
        },
        "d20156bf86714656aa9a614e61414208": {
          "model_module": "@jupyter-widgets/base",
          "model_module_version": "1.2.0",
          "model_name": "LayoutModel",
          "state": {
            "_model_module": "@jupyter-widgets/base",
            "_model_module_version": "1.2.0",
            "_model_name": "LayoutModel",
            "_view_count": null,
            "_view_module": "@jupyter-widgets/base",
            "_view_module_version": "1.2.0",
            "_view_name": "LayoutView",
            "align_content": null,
            "align_items": null,
            "align_self": null,
            "border": null,
            "bottom": null,
            "display": null,
            "flex": null,
            "flex_flow": null,
            "grid_area": null,
            "grid_auto_columns": null,
            "grid_auto_flow": null,
            "grid_auto_rows": null,
            "grid_column": null,
            "grid_gap": null,
            "grid_row": null,
            "grid_template_areas": null,
            "grid_template_columns": null,
            "grid_template_rows": null,
            "height": null,
            "justify_content": null,
            "justify_items": null,
            "left": null,
            "margin": null,
            "max_height": null,
            "max_width": null,
            "min_height": null,
            "min_width": null,
            "object_fit": null,
            "object_position": null,
            "order": null,
            "overflow": null,
            "overflow_x": null,
            "overflow_y": null,
            "padding": null,
            "right": null,
            "top": null,
            "visibility": null,
            "width": null
          }
        },
        "de8865075fef4d13b6ea1491957f3602": {
          "model_module": "@jupyter-widgets/base",
          "model_module_version": "1.2.0",
          "model_name": "LayoutModel",
          "state": {
            "_model_module": "@jupyter-widgets/base",
            "_model_module_version": "1.2.0",
            "_model_name": "LayoutModel",
            "_view_count": null,
            "_view_module": "@jupyter-widgets/base",
            "_view_module_version": "1.2.0",
            "_view_name": "LayoutView",
            "align_content": null,
            "align_items": null,
            "align_self": null,
            "border": null,
            "bottom": null,
            "display": null,
            "flex": null,
            "flex_flow": null,
            "grid_area": null,
            "grid_auto_columns": null,
            "grid_auto_flow": null,
            "grid_auto_rows": null,
            "grid_column": null,
            "grid_gap": null,
            "grid_row": null,
            "grid_template_areas": null,
            "grid_template_columns": null,
            "grid_template_rows": null,
            "height": null,
            "justify_content": null,
            "justify_items": null,
            "left": null,
            "margin": null,
            "max_height": null,
            "max_width": null,
            "min_height": null,
            "min_width": null,
            "object_fit": null,
            "object_position": null,
            "order": null,
            "overflow": null,
            "overflow_x": null,
            "overflow_y": null,
            "padding": null,
            "right": null,
            "top": null,
            "visibility": null,
            "width": null
          }
        },
        "ea93cd854bc642bcab697ab08539a1bf": {
          "model_module": "@jupyter-widgets/controls",
          "model_module_version": "1.5.0",
          "model_name": "DescriptionStyleModel",
          "state": {
            "_model_module": "@jupyter-widgets/controls",
            "_model_module_version": "1.5.0",
            "_model_name": "DescriptionStyleModel",
            "_view_count": null,
            "_view_module": "@jupyter-widgets/base",
            "_view_module_version": "1.2.0",
            "_view_name": "StyleView",
            "description_width": ""
          }
        },
        "ec03201232f744aaa82daabda20ad721": {
          "model_module": "@jupyter-widgets/controls",
          "model_module_version": "1.5.0",
          "model_name": "ProgressStyleModel",
          "state": {
            "_model_module": "@jupyter-widgets/controls",
            "_model_module_version": "1.5.0",
            "_model_name": "ProgressStyleModel",
            "_view_count": null,
            "_view_module": "@jupyter-widgets/base",
            "_view_module_version": "1.2.0",
            "_view_name": "StyleView",
            "bar_color": null,
            "description_width": ""
          }
        },
        "f83d6f9002924b479db78507844dc28c": {
          "model_module": "@jupyter-widgets/controls",
          "model_module_version": "1.5.0",
          "model_name": "HTMLModel",
          "state": {
            "_dom_classes": [],
            "_model_module": "@jupyter-widgets/controls",
            "_model_module_version": "1.5.0",
            "_model_name": "HTMLModel",
            "_view_count": null,
            "_view_module": "@jupyter-widgets/controls",
            "_view_module_version": "1.5.0",
            "_view_name": "HTMLView",
            "description": "",
            "description_tooltip": null,
            "layout": "IPY_MODEL_bac2516f1e834216ab3b7cfdf8fd1397",
            "placeholder": "​",
            "style": "IPY_MODEL_95d7bb319ff145988179355bdd29a51a",
            "value": " 52521/52521 [00:02&lt;00:00, 24241.36 examples/s]"
          }
        }
      }
    }
  },
  "nbformat": 4,
  "nbformat_minor": 0
}
