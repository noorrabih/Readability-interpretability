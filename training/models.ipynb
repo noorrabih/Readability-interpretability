{
 "cells": [
  {
   "attachments": {},
   "cell_type": "markdown",
   "metadata": {},
   "source": [
    "data"
   ]
  },
  {
   "cell_type": "code",
   "execution_count": 1,
   "metadata": {},
   "outputs": [],
   "source": [
    "import pandas as pd\n",
    "from sklearn.metrics import classification_report\n",
    "\n",
    "# Load the uploaded dataset\n",
    "file_path = '../features/full_features_train.csv'\n",
    "train_data = pd.read_csv(file_path)\n",
    "# train_data = train_data[train_data['RL_num_19']>=12]\n",
    "dev_data = pd.read_csv('../features/full_features_Dev.csv')\n",
    "# dev_data = dev_data[dev_data['RL_num_19']>=12]\n",
    "\n",
    "test_data = pd.read_csv('../features/full_features_Test.csv')\n",
    "# test_data = test_data[test_data['RL_num_19']>=12]\n",
    "\n",
    "# Check the unique values in the \"Split\" column\n",
    "# data['Split'].unique()\n",
    "\n",
    "# remove the irrelevant columns\n",
    "train_data = train_data.drop(columns=['syllable_word', 'exception_lex', 'coordinated_verbs', 'words_max_level', 'levels_margin_0.02', 'vocab_samersubset_0.01', 'max_samerMSADA', 'words_max_level.1', 'levels_margin_0.02.1', 'vocab_samersubset_0.01.1', 'unique_words', 'max word count in RL', 'RL_num_7', 'RL_num_5', 'RL_num_3', 'd3lex_sents', 'lex_sents', 'd3tok_sents', 'word_sents', 'Sentence', 'Word Count', 'Readability Level', 'Annotator', 'annotation file', 'Project Phase', 'Source', 'Book', 'Author', 'Domain', 'Text Class', 'Reader Class', 'File', 'Split', 'Clean_Sentnece'])\n",
    "dev_data = dev_data.drop(columns=['syllable_word', 'exception_lex', 'coordinated_verbs', 'unique_words', 'max word count in RL', 'RL_num_7', 'RL_num_5', 'RL_num_3', 'd3lex_sents', 'lex_sents', 'd3tok_sents', 'word_sents', 'Sentence', 'Word Count', 'Readability Level', 'Annotator', 'annotation file', 'Project Phase', 'Source', 'Book', 'Author', 'Domain', 'Text Class', 'Reader Class', 'File', 'Split', 'Clean_Sentnece'])\n",
    "\n",
    "test_data = test_data.drop(columns=['words_max_level', 'levels_margin_0.02', 'vocab_samersubset_0.01', 'syllable_word', 'exception_lex', 'coordinated_verbs', 'unique_words', 'max word count in RL', 'RL_num_7', 'RL_num_5', 'RL_num_3', 'd3lex_sents', 'lex_sents', 'd3tok_sents', 'word_sents', 'Sentence', 'Word Count', 'Readability Level', 'Annotator', 'annotation file', 'Project Phase', 'Source', 'Book', 'Author', 'Domain', 'Text Class', 'Reader Class', 'File', 'Split', 'Clean_Sentnece'])\n",
    "# add vocab_1.0 to test data\n",
    "test_data['vocab_1.0'] = False\n",
    "\n",
    "# relevant_columns = all columns except the target column \"RL_num_19\"\n",
    "relevant_columns = train_data.columns.tolist()\n",
    "relevant_columns.remove('RL_num_19')\n",
    "relevant_columns.remove('ID')\n",
    "\n",
    "X_train = train_data[relevant_columns]\n",
    "y_train = train_data['RL_num_19']\n",
    "\n",
    "X_dev = dev_data[relevant_columns]\n",
    "y_dev = dev_data['RL_num_19']\n",
    "\n",
    "X_test = test_data[relevant_columns]\n",
    "y_test = test_data['RL_num_19']\n",
    "\n",
    "X_train = X_train.fillna(X_train.mean())\n",
    "X_dev = X_dev.fillna(X_dev.mean())\n",
    "X_test = X_test.fillna(X_test.mean())\n",
    "\n",
    "from sklearn.preprocessing import StandardScaler\n",
    "scaler = StandardScaler()\n",
    "# numerical columns\n",
    "# num_cols = ['word count unique','syllables']\n",
    "num_cols = X_train.select_dtypes(include=['int64', 'float64']).columns.tolist() \n",
    "\n",
    "X_train[num_cols] = scaler.fit_transform(X_train[num_cols])\n",
    "X_dev[num_cols] = scaler.transform(X_dev[num_cols])\n",
    "X_test[num_cols] = scaler.transform(X_test[num_cols])\n",
    "\n",
    "X_train = X_train.fillna(0)\n",
    "\n",
    "X_dev = X_dev.fillna(0)\n",
    "\n",
    "X_test = X_test.fillna(0)\n",
    "\n",
    "# true false columns\n",
    "bool_cols = X_train.select_dtypes(include=['bool']).columns.tolist()\n",
    "X_train[bool_cols] = X_train[bool_cols].astype(int)\n",
    "X_dev[bool_cols] = X_dev[bool_cols].astype(int)\n",
    "X_test[bool_cols] = X_test[bool_cols].astype(int)\n",
    "\n",
    "# the rest of the columns, if value is 0 -> False if value is >0 -> True\n",
    "# num_cols_remaining = X_train.select_dtypes(include=['int64', 'float64']).columns.tolist() \n",
    "# # remove ['word count unique','syllables'] from the list\n",
    "# num_cols.remove('word count unique')\n",
    "# num_cols.remove('syllables')\n",
    "# X_train[num_cols_remaining] = X_train[num_cols_remaining].applymap(lambda x: True if x > 0 else False)\n",
    "# X_dev[num_cols_remaining] = X_dev[num_cols_remaining].applymap(lambda x: True if x > 0 else False)\n",
    "# X_test[num_cols_remaining] = X_test[num_cols_remaining].applymap(lambda x: True if x > 0 else False)"
   ]
  },
  {
   "cell_type": "code",
   "execution_count": 16,
   "metadata": {},
   "outputs": [
    {
     "data": {
      "text/plain": [
       "8395"
      ]
     },
     "execution_count": 16,
     "metadata": {},
     "output_type": "execute_result"
    }
   ],
   "source": [
    "len(dev_data)"
   ]
  },
  {
   "attachments": {},
   "cell_type": "markdown",
   "metadata": {},
   "source": [
    "## Random Forest"
   ]
  },
  {
   "cell_type": "code",
   "execution_count": 11,
   "metadata": {},
   "outputs": [
    {
     "data": {
      "text/html": [
       "<style>#sk-container-id-1 {color: black;background-color: white;}#sk-container-id-1 pre{padding: 0;}#sk-container-id-1 div.sk-toggleable {background-color: white;}#sk-container-id-1 label.sk-toggleable__label {cursor: pointer;display: block;width: 100%;margin-bottom: 0;padding: 0.3em;box-sizing: border-box;text-align: center;}#sk-container-id-1 label.sk-toggleable__label-arrow:before {content: \"▸\";float: left;margin-right: 0.25em;color: #696969;}#sk-container-id-1 label.sk-toggleable__label-arrow:hover:before {color: black;}#sk-container-id-1 div.sk-estimator:hover label.sk-toggleable__label-arrow:before {color: black;}#sk-container-id-1 div.sk-toggleable__content {max-height: 0;max-width: 0;overflow: hidden;text-align: left;background-color: #f0f8ff;}#sk-container-id-1 div.sk-toggleable__content pre {margin: 0.2em;color: black;border-radius: 0.25em;background-color: #f0f8ff;}#sk-container-id-1 input.sk-toggleable__control:checked~div.sk-toggleable__content {max-height: 200px;max-width: 100%;overflow: auto;}#sk-container-id-1 input.sk-toggleable__control:checked~label.sk-toggleable__label-arrow:before {content: \"▾\";}#sk-container-id-1 div.sk-estimator input.sk-toggleable__control:checked~label.sk-toggleable__label {background-color: #d4ebff;}#sk-container-id-1 div.sk-label input.sk-toggleable__control:checked~label.sk-toggleable__label {background-color: #d4ebff;}#sk-container-id-1 input.sk-hidden--visually {border: 0;clip: rect(1px 1px 1px 1px);clip: rect(1px, 1px, 1px, 1px);height: 1px;margin: -1px;overflow: hidden;padding: 0;position: absolute;width: 1px;}#sk-container-id-1 div.sk-estimator {font-family: monospace;background-color: #f0f8ff;border: 1px dotted black;border-radius: 0.25em;box-sizing: border-box;margin-bottom: 0.5em;}#sk-container-id-1 div.sk-estimator:hover {background-color: #d4ebff;}#sk-container-id-1 div.sk-parallel-item::after {content: \"\";width: 100%;border-bottom: 1px solid gray;flex-grow: 1;}#sk-container-id-1 div.sk-label:hover label.sk-toggleable__label {background-color: #d4ebff;}#sk-container-id-1 div.sk-serial::before {content: \"\";position: absolute;border-left: 1px solid gray;box-sizing: border-box;top: 0;bottom: 0;left: 50%;z-index: 0;}#sk-container-id-1 div.sk-serial {display: flex;flex-direction: column;align-items: center;background-color: white;padding-right: 0.2em;padding-left: 0.2em;position: relative;}#sk-container-id-1 div.sk-item {position: relative;z-index: 1;}#sk-container-id-1 div.sk-parallel {display: flex;align-items: stretch;justify-content: center;background-color: white;position: relative;}#sk-container-id-1 div.sk-item::before, #sk-container-id-1 div.sk-parallel-item::before {content: \"\";position: absolute;border-left: 1px solid gray;box-sizing: border-box;top: 0;bottom: 0;left: 50%;z-index: -1;}#sk-container-id-1 div.sk-parallel-item {display: flex;flex-direction: column;z-index: 1;position: relative;background-color: white;}#sk-container-id-1 div.sk-parallel-item:first-child::after {align-self: flex-end;width: 50%;}#sk-container-id-1 div.sk-parallel-item:last-child::after {align-self: flex-start;width: 50%;}#sk-container-id-1 div.sk-parallel-item:only-child::after {width: 0;}#sk-container-id-1 div.sk-dashed-wrapped {border: 1px dashed gray;margin: 0 0.4em 0.5em 0.4em;box-sizing: border-box;padding-bottom: 0.4em;background-color: white;}#sk-container-id-1 div.sk-label label {font-family: monospace;font-weight: bold;display: inline-block;line-height: 1.2em;}#sk-container-id-1 div.sk-label-container {text-align: center;}#sk-container-id-1 div.sk-container {/* jupyter's `normalize.less` sets `[hidden] { display: none; }` but bootstrap.min.css set `[hidden] { display: none !important; }` so we also need the `!important` here to be able to override the default hidden behavior on the sphinx rendered scikit-learn.org. See: https://github.com/scikit-learn/scikit-learn/issues/21755 */display: inline-block !important;position: relative;}#sk-container-id-1 div.sk-text-repr-fallback {display: none;}</style><div id=\"sk-container-id-1\" class=\"sk-top-container\"><div class=\"sk-text-repr-fallback\"><pre>RandomForestClassifier(random_state=42)</pre><b>In a Jupyter environment, please rerun this cell to show the HTML representation or trust the notebook. <br />On GitHub, the HTML representation is unable to render, please try loading this page with nbviewer.org.</b></div><div class=\"sk-container\" hidden><div class=\"sk-item\"><div class=\"sk-estimator sk-toggleable\"><input class=\"sk-toggleable__control sk-hidden--visually\" id=\"sk-estimator-id-1\" type=\"checkbox\" checked><label for=\"sk-estimator-id-1\" class=\"sk-toggleable__label sk-toggleable__label-arrow\">RandomForestClassifier</label><div class=\"sk-toggleable__content\"><pre>RandomForestClassifier(random_state=42)</pre></div></div></div></div></div>"
      ],
      "text/plain": [
       "RandomForestClassifier(random_state=42)"
      ]
     },
     "execution_count": 11,
     "metadata": {},
     "output_type": "execute_result"
    }
   ],
   "source": [
    "# Train a RandomForest model on the training set\n",
    "from sklearn.ensemble import RandomForestClassifier\n",
    "model = RandomForestClassifier(n_estimators=100, random_state=42)\n",
    "model.fit(X_train, y_train)"
   ]
  },
  {
   "cell_type": "code",
   "execution_count": 12,
   "metadata": {},
   "outputs": [],
   "source": [
    "# Make predictions on Dev and Test datasets\n",
    "y_pred_dev = model.predict(X_dev)\n",
    "y_pred_test = model.predict(X_test)"
   ]
  },
  {
   "cell_type": "code",
   "execution_count": 13,
   "metadata": {},
   "outputs": [
    {
     "name": "stdout",
     "output_type": "stream",
     "text": [
      "Classification Report for Dev Set:\n",
      "              precision    recall  f1-score   support\n",
      "\n",
      "          12       0.67      0.80      0.73      1945\n",
      "          13       0.39      0.23      0.29       486\n",
      "          14       0.54      0.52      0.53      1303\n",
      "          15       0.20      0.26      0.22       302\n",
      "          16       0.40      0.04      0.07       156\n",
      "          17       0.33      0.08      0.13        48\n",
      "          18       0.00      0.00      0.00        13\n",
      "          19       0.00      0.00      0.00        15\n",
      "\n",
      "    accuracy                           0.57      4268\n",
      "   macro avg       0.32      0.24      0.25      4268\n",
      "weighted avg       0.55      0.57      0.55      4268\n",
      "\n"
     ]
    },
    {
     "name": "stderr",
     "output_type": "stream",
     "text": [
      "/Users/noor/anaconda3/envs/camel_parser/lib/python3.9/site-packages/sklearn/metrics/_classification.py:1344: UndefinedMetricWarning: Precision and F-score are ill-defined and being set to 0.0 in labels with no predicted samples. Use `zero_division` parameter to control this behavior.\n",
      "  _warn_prf(average, modifier, msg_start, len(result))\n",
      "/Users/noor/anaconda3/envs/camel_parser/lib/python3.9/site-packages/sklearn/metrics/_classification.py:1344: UndefinedMetricWarning: Precision and F-score are ill-defined and being set to 0.0 in labels with no predicted samples. Use `zero_division` parameter to control this behavior.\n",
      "  _warn_prf(average, modifier, msg_start, len(result))\n",
      "/Users/noor/anaconda3/envs/camel_parser/lib/python3.9/site-packages/sklearn/metrics/_classification.py:1344: UndefinedMetricWarning: Precision and F-score are ill-defined and being set to 0.0 in labels with no predicted samples. Use `zero_division` parameter to control this behavior.\n",
      "  _warn_prf(average, modifier, msg_start, len(result))\n"
     ]
    }
   ],
   "source": [
    "# classification report\n",
    "from sklearn.metrics import classification_report\n",
    "print(\"Classification Report for Dev Set:\")\n",
    "print(classification_report(y_dev, y_pred_dev))"
   ]
  },
  {
   "cell_type": "code",
   "execution_count": 14,
   "metadata": {},
   "outputs": [],
   "source": [
    "# save predictions to a file\n",
    "dev_data['predicted_RL'] = y_pred_dev"
   ]
  },
  {
   "cell_type": "code",
   "execution_count": 15,
   "metadata": {},
   "outputs": [],
   "source": [
    "# save just id, RL_num_19 and predicted_RL\n",
    "dev_data[['ID', 'RL_num_19', 'predicted_RL']].to_csv('/Users/noor/Desktop/Thesis/Thesis/thesis_data/s31/conventional/random_forest/12_levels_dev_predictions.csv', index=False)"
   ]
  },
  {
   "cell_type": "code",
   "execution_count": 16,
   "metadata": {},
   "outputs": [
    {
     "name": "stdout",
     "output_type": "stream",
     "text": [
      "Classification Report for Test Set:\n",
      "              precision    recall  f1-score   support\n",
      "\n",
      "          12       0.63      0.77      0.70      1555\n",
      "          13       0.41      0.19      0.26       455\n",
      "          14       0.51      0.56      0.53      1223\n",
      "          15       0.23      0.33      0.27       356\n",
      "          16       0.25      0.02      0.04       261\n",
      "          17       0.14      0.01      0.02        87\n",
      "          18       0.20      0.04      0.07        23\n",
      "          19       0.00      0.00      0.00        15\n",
      "\n",
      "    accuracy                           0.53      3975\n",
      "   macro avg       0.30      0.24      0.24      3975\n",
      "weighted avg       0.49      0.53      0.49      3975\n",
      "\n"
     ]
    },
    {
     "name": "stderr",
     "output_type": "stream",
     "text": [
      "/Users/noor/anaconda3/envs/camel_parser/lib/python3.9/site-packages/sklearn/metrics/_classification.py:1344: UndefinedMetricWarning: Precision and F-score are ill-defined and being set to 0.0 in labels with no predicted samples. Use `zero_division` parameter to control this behavior.\n",
      "  _warn_prf(average, modifier, msg_start, len(result))\n",
      "/Users/noor/anaconda3/envs/camel_parser/lib/python3.9/site-packages/sklearn/metrics/_classification.py:1344: UndefinedMetricWarning: Precision and F-score are ill-defined and being set to 0.0 in labels with no predicted samples. Use `zero_division` parameter to control this behavior.\n",
      "  _warn_prf(average, modifier, msg_start, len(result))\n",
      "/Users/noor/anaconda3/envs/camel_parser/lib/python3.9/site-packages/sklearn/metrics/_classification.py:1344: UndefinedMetricWarning: Precision and F-score are ill-defined and being set to 0.0 in labels with no predicted samples. Use `zero_division` parameter to control this behavior.\n",
      "  _warn_prf(average, modifier, msg_start, len(result))\n"
     ]
    }
   ],
   "source": [
    "# classification report\n",
    "from sklearn.metrics import classification_report\n",
    "print(\"Classification Report for Test Set:\")\n",
    "print(classification_report(y_test, y_pred_test))"
   ]
  },
  {
   "cell_type": "code",
   "execution_count": 17,
   "metadata": {},
   "outputs": [],
   "source": [
    "test_data['predicted_RL'] = y_pred_test"
   ]
  },
  {
   "cell_type": "code",
   "execution_count": 18,
   "metadata": {},
   "outputs": [],
   "source": [
    "test_data[['ID', 'RL_num_19', 'predicted_RL']].to_csv('/Users/noor/Desktop/Thesis/Thesis/thesis_data/s31/conventional/random_forest/12_levels_test_predictions.csv', index=False)"
   ]
  },
  {
   "cell_type": "code",
   "execution_count": null,
   "metadata": {},
   "outputs": [],
   "source": [
    "from sklearn.model_selection import GridSearchCV\n",
    "param_grid = {\n",
    "    'n_estimators': [ 350, 400],\n",
    "    'max_depth': [40, 45, 50, 55],\n",
    "    'min_samples_split': [15, 20, 22, 23, 25],\n",
    "    'min_samples_leaf': [2, 4, 6, ],\n",
    "    'criterion': ['gini', 'entropy']\n",
    "}\n",
    "grid_search = GridSearchCV(estimator=model, param_grid=param_grid, cv=10, n_jobs=-1, verbose=2)\n",
    "grid_search.fit(X_train, y_train)\n",
    "best_params = grid_search.best_params_\n",
    "best_params\n",
    "\n",
    "# Train a RandomForest model with the best hyperparameters\n",
    "best_model = RandomForestClassifier(**best_params)"
   ]
  },
  {
   "cell_type": "code",
   "execution_count": 17,
   "metadata": {},
   "outputs": [
    {
     "data": {
      "text/html": [
       "<style>#sk-container-id-3 {color: black;background-color: white;}#sk-container-id-3 pre{padding: 0;}#sk-container-id-3 div.sk-toggleable {background-color: white;}#sk-container-id-3 label.sk-toggleable__label {cursor: pointer;display: block;width: 100%;margin-bottom: 0;padding: 0.3em;box-sizing: border-box;text-align: center;}#sk-container-id-3 label.sk-toggleable__label-arrow:before {content: \"▸\";float: left;margin-right: 0.25em;color: #696969;}#sk-container-id-3 label.sk-toggleable__label-arrow:hover:before {color: black;}#sk-container-id-3 div.sk-estimator:hover label.sk-toggleable__label-arrow:before {color: black;}#sk-container-id-3 div.sk-toggleable__content {max-height: 0;max-width: 0;overflow: hidden;text-align: left;background-color: #f0f8ff;}#sk-container-id-3 div.sk-toggleable__content pre {margin: 0.2em;color: black;border-radius: 0.25em;background-color: #f0f8ff;}#sk-container-id-3 input.sk-toggleable__control:checked~div.sk-toggleable__content {max-height: 200px;max-width: 100%;overflow: auto;}#sk-container-id-3 input.sk-toggleable__control:checked~label.sk-toggleable__label-arrow:before {content: \"▾\";}#sk-container-id-3 div.sk-estimator input.sk-toggleable__control:checked~label.sk-toggleable__label {background-color: #d4ebff;}#sk-container-id-3 div.sk-label input.sk-toggleable__control:checked~label.sk-toggleable__label {background-color: #d4ebff;}#sk-container-id-3 input.sk-hidden--visually {border: 0;clip: rect(1px 1px 1px 1px);clip: rect(1px, 1px, 1px, 1px);height: 1px;margin: -1px;overflow: hidden;padding: 0;position: absolute;width: 1px;}#sk-container-id-3 div.sk-estimator {font-family: monospace;background-color: #f0f8ff;border: 1px dotted black;border-radius: 0.25em;box-sizing: border-box;margin-bottom: 0.5em;}#sk-container-id-3 div.sk-estimator:hover {background-color: #d4ebff;}#sk-container-id-3 div.sk-parallel-item::after {content: \"\";width: 100%;border-bottom: 1px solid gray;flex-grow: 1;}#sk-container-id-3 div.sk-label:hover label.sk-toggleable__label {background-color: #d4ebff;}#sk-container-id-3 div.sk-serial::before {content: \"\";position: absolute;border-left: 1px solid gray;box-sizing: border-box;top: 0;bottom: 0;left: 50%;z-index: 0;}#sk-container-id-3 div.sk-serial {display: flex;flex-direction: column;align-items: center;background-color: white;padding-right: 0.2em;padding-left: 0.2em;position: relative;}#sk-container-id-3 div.sk-item {position: relative;z-index: 1;}#sk-container-id-3 div.sk-parallel {display: flex;align-items: stretch;justify-content: center;background-color: white;position: relative;}#sk-container-id-3 div.sk-item::before, #sk-container-id-3 div.sk-parallel-item::before {content: \"\";position: absolute;border-left: 1px solid gray;box-sizing: border-box;top: 0;bottom: 0;left: 50%;z-index: -1;}#sk-container-id-3 div.sk-parallel-item {display: flex;flex-direction: column;z-index: 1;position: relative;background-color: white;}#sk-container-id-3 div.sk-parallel-item:first-child::after {align-self: flex-end;width: 50%;}#sk-container-id-3 div.sk-parallel-item:last-child::after {align-self: flex-start;width: 50%;}#sk-container-id-3 div.sk-parallel-item:only-child::after {width: 0;}#sk-container-id-3 div.sk-dashed-wrapped {border: 1px dashed gray;margin: 0 0.4em 0.5em 0.4em;box-sizing: border-box;padding-bottom: 0.4em;background-color: white;}#sk-container-id-3 div.sk-label label {font-family: monospace;font-weight: bold;display: inline-block;line-height: 1.2em;}#sk-container-id-3 div.sk-label-container {text-align: center;}#sk-container-id-3 div.sk-container {/* jupyter's `normalize.less` sets `[hidden] { display: none; }` but bootstrap.min.css set `[hidden] { display: none !important; }` so we also need the `!important` here to be able to override the default hidden behavior on the sphinx rendered scikit-learn.org. See: https://github.com/scikit-learn/scikit-learn/issues/21755 */display: inline-block !important;position: relative;}#sk-container-id-3 div.sk-text-repr-fallback {display: none;}</style><div id=\"sk-container-id-3\" class=\"sk-top-container\"><div class=\"sk-text-repr-fallback\"><pre>RandomForestClassifier(max_depth=40, min_samples_leaf=2, min_samples_split=15,\n",
       "                       n_estimators=350)</pre><b>In a Jupyter environment, please rerun this cell to show the HTML representation or trust the notebook. <br />On GitHub, the HTML representation is unable to render, please try loading this page with nbviewer.org.</b></div><div class=\"sk-container\" hidden><div class=\"sk-item\"><div class=\"sk-estimator sk-toggleable\"><input class=\"sk-toggleable__control sk-hidden--visually\" id=\"sk-estimator-id-3\" type=\"checkbox\" checked><label for=\"sk-estimator-id-3\" class=\"sk-toggleable__label sk-toggleable__label-arrow\">RandomForestClassifier</label><div class=\"sk-toggleable__content\"><pre>RandomForestClassifier(max_depth=40, min_samples_leaf=2, min_samples_split=15,\n",
       "                       n_estimators=350)</pre></div></div></div></div></div>"
      ],
      "text/plain": [
       "RandomForestClassifier(max_depth=40, min_samples_leaf=2, min_samples_split=15,\n",
       "                       n_estimators=350)"
      ]
     },
     "execution_count": 17,
     "metadata": {},
     "output_type": "execute_result"
    }
   ],
   "source": [
    "best_model.fit(X_train, y_train)"
   ]
  },
  {
   "cell_type": "code",
   "execution_count": 18,
   "metadata": {},
   "outputs": [],
   "source": [
    "# Make predictions on Dev and Test datasets\n",
    "y_pred_dev_best = best_model.predict(X_dev)\n",
    "y_pred_test_best = best_model.predict(X_test)"
   ]
  },
  {
   "attachments": {},
   "cell_type": "markdown",
   "metadata": {},
   "source": [
    "## Decision Tree"
   ]
  },
  {
   "cell_type": "code",
   "execution_count": 9,
   "metadata": {},
   "outputs": [
    {
     "data": {
      "text/html": [
       "<style>#sk-container-id-1 {color: black;background-color: white;}#sk-container-id-1 pre{padding: 0;}#sk-container-id-1 div.sk-toggleable {background-color: white;}#sk-container-id-1 label.sk-toggleable__label {cursor: pointer;display: block;width: 100%;margin-bottom: 0;padding: 0.3em;box-sizing: border-box;text-align: center;}#sk-container-id-1 label.sk-toggleable__label-arrow:before {content: \"▸\";float: left;margin-right: 0.25em;color: #696969;}#sk-container-id-1 label.sk-toggleable__label-arrow:hover:before {color: black;}#sk-container-id-1 div.sk-estimator:hover label.sk-toggleable__label-arrow:before {color: black;}#sk-container-id-1 div.sk-toggleable__content {max-height: 0;max-width: 0;overflow: hidden;text-align: left;background-color: #f0f8ff;}#sk-container-id-1 div.sk-toggleable__content pre {margin: 0.2em;color: black;border-radius: 0.25em;background-color: #f0f8ff;}#sk-container-id-1 input.sk-toggleable__control:checked~div.sk-toggleable__content {max-height: 200px;max-width: 100%;overflow: auto;}#sk-container-id-1 input.sk-toggleable__control:checked~label.sk-toggleable__label-arrow:before {content: \"▾\";}#sk-container-id-1 div.sk-estimator input.sk-toggleable__control:checked~label.sk-toggleable__label {background-color: #d4ebff;}#sk-container-id-1 div.sk-label input.sk-toggleable__control:checked~label.sk-toggleable__label {background-color: #d4ebff;}#sk-container-id-1 input.sk-hidden--visually {border: 0;clip: rect(1px 1px 1px 1px);clip: rect(1px, 1px, 1px, 1px);height: 1px;margin: -1px;overflow: hidden;padding: 0;position: absolute;width: 1px;}#sk-container-id-1 div.sk-estimator {font-family: monospace;background-color: #f0f8ff;border: 1px dotted black;border-radius: 0.25em;box-sizing: border-box;margin-bottom: 0.5em;}#sk-container-id-1 div.sk-estimator:hover {background-color: #d4ebff;}#sk-container-id-1 div.sk-parallel-item::after {content: \"\";width: 100%;border-bottom: 1px solid gray;flex-grow: 1;}#sk-container-id-1 div.sk-label:hover label.sk-toggleable__label {background-color: #d4ebff;}#sk-container-id-1 div.sk-serial::before {content: \"\";position: absolute;border-left: 1px solid gray;box-sizing: border-box;top: 0;bottom: 0;left: 50%;z-index: 0;}#sk-container-id-1 div.sk-serial {display: flex;flex-direction: column;align-items: center;background-color: white;padding-right: 0.2em;padding-left: 0.2em;position: relative;}#sk-container-id-1 div.sk-item {position: relative;z-index: 1;}#sk-container-id-1 div.sk-parallel {display: flex;align-items: stretch;justify-content: center;background-color: white;position: relative;}#sk-container-id-1 div.sk-item::before, #sk-container-id-1 div.sk-parallel-item::before {content: \"\";position: absolute;border-left: 1px solid gray;box-sizing: border-box;top: 0;bottom: 0;left: 50%;z-index: -1;}#sk-container-id-1 div.sk-parallel-item {display: flex;flex-direction: column;z-index: 1;position: relative;background-color: white;}#sk-container-id-1 div.sk-parallel-item:first-child::after {align-self: flex-end;width: 50%;}#sk-container-id-1 div.sk-parallel-item:last-child::after {align-self: flex-start;width: 50%;}#sk-container-id-1 div.sk-parallel-item:only-child::after {width: 0;}#sk-container-id-1 div.sk-dashed-wrapped {border: 1px dashed gray;margin: 0 0.4em 0.5em 0.4em;box-sizing: border-box;padding-bottom: 0.4em;background-color: white;}#sk-container-id-1 div.sk-label label {font-family: monospace;font-weight: bold;display: inline-block;line-height: 1.2em;}#sk-container-id-1 div.sk-label-container {text-align: center;}#sk-container-id-1 div.sk-container {/* jupyter's `normalize.less` sets `[hidden] { display: none; }` but bootstrap.min.css set `[hidden] { display: none !important; }` so we also need the `!important` here to be able to override the default hidden behavior on the sphinx rendered scikit-learn.org. See: https://github.com/scikit-learn/scikit-learn/issues/21755 */display: inline-block !important;position: relative;}#sk-container-id-1 div.sk-text-repr-fallback {display: none;}</style><div id=\"sk-container-id-1\" class=\"sk-top-container\"><div class=\"sk-text-repr-fallback\"><pre>DecisionTreeClassifier(max_depth=30, random_state=42)</pre><b>In a Jupyter environment, please rerun this cell to show the HTML representation or trust the notebook. <br />On GitHub, the HTML representation is unable to render, please try loading this page with nbviewer.org.</b></div><div class=\"sk-container\" hidden><div class=\"sk-item\"><div class=\"sk-estimator sk-toggleable\"><input class=\"sk-toggleable__control sk-hidden--visually\" id=\"sk-estimator-id-1\" type=\"checkbox\" checked><label for=\"sk-estimator-id-1\" class=\"sk-toggleable__label sk-toggleable__label-arrow\">DecisionTreeClassifier</label><div class=\"sk-toggleable__content\"><pre>DecisionTreeClassifier(max_depth=30, random_state=42)</pre></div></div></div></div></div>"
      ],
      "text/plain": [
       "DecisionTreeClassifier(max_depth=30, random_state=42)"
      ]
     },
     "execution_count": 9,
     "metadata": {},
     "output_type": "execute_result"
    }
   ],
   "source": [
    "# train a decision tree model\n",
    "from sklearn.tree import DecisionTreeClassifier\n",
    "model = DecisionTreeClassifier(max_depth=30, random_state=42)\n",
    "model.fit(X_train, y_train)"
   ]
  },
  {
   "cell_type": "code",
   "execution_count": 10,
   "metadata": {},
   "outputs": [],
   "source": [
    "# Make predictions on Dev and Test datasets\n",
    "y_pred_dev = model.predict(X_dev)\n",
    "y_pred_test = model.predict(X_test)"
   ]
  },
  {
   "cell_type": "code",
   "execution_count": 11,
   "metadata": {},
   "outputs": [
    {
     "name": "stdout",
     "output_type": "stream",
     "text": [
      "Classification Report for Dev Set:\n",
      "              precision    recall  f1-score   support\n",
      "\n",
      "           1       0.48      0.32      0.38        31\n",
      "           2       0.35      0.46      0.40        41\n",
      "           3       0.44      0.50      0.46       117\n",
      "           4       0.21      0.41      0.28        63\n",
      "           5       0.45      0.53      0.48       280\n",
      "           6       0.39      0.49      0.43       188\n",
      "           7       0.63      0.57      0.60       666\n",
      "           8       0.79      0.64      0.71       740\n",
      "           9       0.53      0.43      0.47       261\n",
      "          10       0.81      0.65      0.72      1219\n",
      "          11       0.42      0.67      0.52       521\n",
      "\n",
      "    accuracy                           0.60      4127\n",
      "   macro avg       0.50      0.52      0.50      4127\n",
      "weighted avg       0.64      0.60      0.61      4127\n",
      "\n"
     ]
    }
   ],
   "source": [
    "# classification report\n",
    "print(\"Classification Report for Dev Set:\")\n",
    "print(classification_report(y_dev, y_pred_dev))"
   ]
  },
  {
   "cell_type": "code",
   "execution_count": 12,
   "metadata": {},
   "outputs": [],
   "source": [
    "dev_data['predicted_RL'] = y_pred_dev\n",
    "\n",
    "dev_data[['ID', 'RL_num_19', 'predicted_RL']].to_csv('/Users/noor/Desktop/Thesis/Thesis/thesis_data/s31/conventional/decision tree/11_levels_dev_predictions.csv', index=False)"
   ]
  },
  {
   "cell_type": "code",
   "execution_count": 13,
   "metadata": {},
   "outputs": [],
   "source": [
    "test_data['predicted_RL'] = y_pred_test\n",
    "test_data[['ID', 'RL_num_19', 'predicted_RL']].to_csv('/Users/noor/Desktop/Thesis/Thesis/thesis_data/s31/conventional/decision tree/11_levelstest_predictions.csv', index=False)"
   ]
  },
  {
   "cell_type": "code",
   "execution_count": null,
   "metadata": {},
   "outputs": [],
   "source": [
    "from sklearn.model_selection import GridSearchCV\n",
    "\n",
    "# grid search for decision tree\n",
    "param_grid = {\n",
    "    'max_depth': [30, 35, 40, 45, 50],\n",
    "    'min_samples_split': [15, 20, 22, 23, 25],\n",
    "    'min_samples_leaf': [2, 4, 6, ],\n",
    "    'criterion': ['gini', 'entropy']\n",
    "}\n",
    "grid_search = GridSearchCV(estimator=model, param_grid=param_grid, cv=10, n_jobs=-1, verbose=2)\n",
    "grid_search.fit(X_train, y_train)\n",
    "best_params = grid_search.best_params_\n",
    "best_params\n",
    "\n"
   ]
  },
  {
   "cell_type": "code",
   "execution_count": 25,
   "metadata": {},
   "outputs": [
    {
     "name": "stdout",
     "output_type": "stream",
     "text": [
      "Classification Report for Dev Set:\n",
      "              precision    recall  f1-score   support\n",
      "\n",
      "          12       0.64      0.59      0.62      1945\n",
      "          13       0.35      0.27      0.30       486\n",
      "          14       0.55      0.48      0.51      1303\n",
      "          15       0.09      0.27      0.14       302\n",
      "          16       0.12      0.08      0.09       156\n",
      "          17       0.33      0.08      0.13        48\n",
      "          18       0.00      0.00      0.00        13\n",
      "          19       0.00      0.00      0.00        15\n",
      "\n",
      "    accuracy                           0.47      4268\n",
      "   macro avg       0.26      0.22      0.22      4268\n",
      "weighted avg       0.52      0.47      0.49      4268\n",
      "\n"
     ]
    },
    {
     "name": "stderr",
     "output_type": "stream",
     "text": [
      "/Users/noor/anaconda3/envs/camel_parser/lib/python3.9/site-packages/sklearn/metrics/_classification.py:1344: UndefinedMetricWarning: Precision and F-score are ill-defined and being set to 0.0 in labels with no predicted samples. Use `zero_division` parameter to control this behavior.\n",
      "  _warn_prf(average, modifier, msg_start, len(result))\n",
      "/Users/noor/anaconda3/envs/camel_parser/lib/python3.9/site-packages/sklearn/metrics/_classification.py:1344: UndefinedMetricWarning: Precision and F-score are ill-defined and being set to 0.0 in labels with no predicted samples. Use `zero_division` parameter to control this behavior.\n",
      "  _warn_prf(average, modifier, msg_start, len(result))\n",
      "/Users/noor/anaconda3/envs/camel_parser/lib/python3.9/site-packages/sklearn/metrics/_classification.py:1344: UndefinedMetricWarning: Precision and F-score are ill-defined and being set to 0.0 in labels with no predicted samples. Use `zero_division` parameter to control this behavior.\n",
      "  _warn_prf(average, modifier, msg_start, len(result))\n"
     ]
    }
   ],
   "source": [
    "# Train a DecisionTree model with the best hyperparameters\n",
    "best_model = DecisionTreeClassifier(**best_params)\n",
    "\n",
    "best_model.fit(X_train, y_train)\n",
    "\n",
    "# Make predictions on Dev and Test datasets\n",
    "y_pred_dev_best = best_model.predict(X_dev)\n",
    "y_pred_test_best = best_model.predict(X_test)\n",
    "\n",
    "# classification report\n",
    "from sklearn.metrics import classification_report\n",
    "print(\"Classification Report for Dev Set:\")\n",
    "print(classification_report(y_dev, y_pred_dev_best))"
   ]
  },
  {
   "attachments": {},
   "cell_type": "markdown",
   "metadata": {},
   "source": [
    "## SVM"
   ]
  },
  {
   "cell_type": "code",
   "execution_count": 2,
   "metadata": {},
   "outputs": [],
   "source": [
    "from sklearn.metrics import classification_report\n"
   ]
  },
  {
   "cell_type": "code",
   "execution_count": 4,
   "metadata": {},
   "outputs": [],
   "source": [
    "# train an svm model\n",
    "from sklearn.svm import SVC\n",
    "model = SVC(kernel='linear', C=1)\n",
    "model.fit(X_train, y_train)\n",
    "\n",
    "# Make predictions on Dev and Test datasets\n",
    "y_pred_dev = model.predict(X_dev)\n",
    "y_pred_test = model.predict(X_test)\n",
    "\n"
   ]
  },
  {
   "cell_type": "code",
   "execution_count": 5,
   "metadata": {},
   "outputs": [
    {
     "name": "stdout",
     "output_type": "stream",
     "text": [
      "Classification Report SVM for Dev Set:\n",
      "              precision    recall  f1-score   support\n",
      "\n",
      "           1       0.30      0.23      0.26        31\n",
      "           2       0.24      0.32      0.27        41\n",
      "           3       0.42      0.50      0.45       117\n",
      "           4       0.48      0.37      0.41        63\n",
      "           5       0.39      0.56      0.46       280\n",
      "           6       0.37      0.46      0.41       188\n",
      "           7       0.51      0.57      0.54       666\n",
      "           8       0.63      0.64      0.64       740\n",
      "           9       0.58      0.34      0.43       261\n",
      "          10       0.64      0.69      0.66      1219\n",
      "          11       0.14      0.07      0.09       521\n",
      "          12       0.44      0.53      0.48      1945\n",
      "          13       0.36      0.17      0.24       486\n",
      "          14       0.51      0.52      0.52      1301\n",
      "          15       0.24      0.25      0.25       302\n",
      "          16       0.42      0.03      0.06       156\n",
      "          17       0.27      0.06      0.10        48\n",
      "          18       0.00      0.00      0.00        13\n",
      "          19       0.00      0.00      0.00        15\n",
      "\n",
      "    accuracy                           0.48      8393\n",
      "   macro avg       0.37      0.33      0.33      8393\n",
      "weighted avg       0.47      0.48      0.47      8393\n",
      "\n"
     ]
    },
    {
     "name": "stderr",
     "output_type": "stream",
     "text": [
      "/Users/noor/anaconda3/envs/camel_parser/lib/python3.9/site-packages/sklearn/metrics/_classification.py:1344: UndefinedMetricWarning: Precision and F-score are ill-defined and being set to 0.0 in labels with no predicted samples. Use `zero_division` parameter to control this behavior.\n",
      "  _warn_prf(average, modifier, msg_start, len(result))\n",
      "/Users/noor/anaconda3/envs/camel_parser/lib/python3.9/site-packages/sklearn/metrics/_classification.py:1344: UndefinedMetricWarning: Precision and F-score are ill-defined and being set to 0.0 in labels with no predicted samples. Use `zero_division` parameter to control this behavior.\n",
      "  _warn_prf(average, modifier, msg_start, len(result))\n",
      "/Users/noor/anaconda3/envs/camel_parser/lib/python3.9/site-packages/sklearn/metrics/_classification.py:1344: UndefinedMetricWarning: Precision and F-score are ill-defined and being set to 0.0 in labels with no predicted samples. Use `zero_division` parameter to control this behavior.\n",
      "  _warn_prf(average, modifier, msg_start, len(result))\n"
     ]
    }
   ],
   "source": [
    "# classification report\n",
    "print(\"Classification Report SVM for Dev Set:\")\n",
    "print(classification_report(y_dev, y_pred_dev))"
   ]
  },
  {
   "cell_type": "code",
   "execution_count": 7,
   "metadata": {},
   "outputs": [],
   "source": [
    "dev_data['predicted_RL'] = y_pred_dev\n",
    "dev_data[['ID', 'RL_num_19', 'predicted_RL']].to_csv('/Users/noor/Desktop/Thesis/Thesis/thesis_data/s31/conventional/SVM/11_levels_dev_predictions.csv', index=False)\n",
    "test_data['predicted_RL'] = y_pred_test\n",
    "test_data[['ID', 'RL_num_19', 'predicted_RL']].to_csv('/Users/noor/Desktop/Thesis/Thesis/thesis_data/s31/conventional/SVM/11_levels_test_predictions.csv', index=False)"
   ]
  },
  {
   "cell_type": "code",
   "execution_count": 3,
   "metadata": {},
   "outputs": [
    {
     "name": "stdout",
     "output_type": "stream",
     "text": [
      "Fitting 3 folds for each of 48 candidates, totalling 144 fits\n",
      "[CV] END ........................C=0.1, gamma=1, kernel=poly; total time= 3.3min\n",
      "[CV] END ........................C=0.1, gamma=1, kernel=poly; total time= 3.4min\n",
      "[CV] END ........................C=0.1, gamma=1, kernel=poly; total time= 3.5min\n",
      "[CV] END .....................C=0.1, gamma=1, kernel=sigmoid; total time= 7.5min\n",
      "[CV] END .....................C=0.1, gamma=1, kernel=sigmoid; total time= 8.1min\n",
      "[CV] END .....................C=0.1, gamma=1, kernel=sigmoid; total time= 8.2min\n",
      "[CV] END ......................C=0.1, gamma=0.1, kernel=poly; total time= 3.8min\n",
      "[CV] END .......................C=0.1, gamma=0.1, kernel=rbf; total time=11.0min\n",
      "[CV] END .......................C=0.1, gamma=0.1, kernel=rbf; total time=11.3min\n",
      "[CV] END ......................C=0.1, gamma=0.1, kernel=poly; total time= 3.4min\n",
      "[CV] END ......................C=0.1, gamma=0.1, kernel=poly; total time= 3.4min\n",
      "[CV] END .......................C=0.1, gamma=0.1, kernel=rbf; total time=10.2min\n",
      "[CV] END ...................C=0.1, gamma=0.1, kernel=sigmoid; total time= 3.4min\n",
      "[CV] END ...................C=0.1, gamma=0.1, kernel=sigmoid; total time= 3.3min\n",
      "[CV] END ...................C=0.1, gamma=0.1, kernel=sigmoid; total time= 3.6min\n",
      "[CV] END ......................C=0.1, gamma=0.01, kernel=rbf; total time= 7.0min\n",
      "[CV] END ......................C=0.1, gamma=0.01, kernel=rbf; total time= 6.8min\n",
      "[CV] END .........................C=0.1, gamma=1, kernel=rbf; total time=24.8min\n",
      "[CV] END .........................C=0.1, gamma=1, kernel=rbf; total time=24.8min\n",
      "[CV] END ......................C=0.1, gamma=0.01, kernel=rbf; total time= 6.8min\n",
      "[CV] END .........................C=0.1, gamma=1, kernel=rbf; total time=24.9min\n",
      "[CV] END .....................C=0.1, gamma=0.01, kernel=poly; total time= 7.3min\n",
      "[CV] END .....................C=0.1, gamma=0.01, kernel=poly; total time= 7.4min\n",
      "[CV] END ..................C=0.1, gamma=0.01, kernel=sigmoid; total time= 5.2min\n",
      "[CV] END ..................C=0.1, gamma=0.01, kernel=sigmoid; total time= 5.4min\n",
      "[CV] END ..................C=0.1, gamma=0.01, kernel=sigmoid; total time= 5.4min\n",
      "[CV] END .....................C=0.1, gamma=0.01, kernel=poly; total time= 8.2min\n",
      "[CV] END ....................C=0.1, gamma=0.001, kernel=poly; total time= 8.0min\n",
      "[CV] END .....................C=0.1, gamma=0.001, kernel=rbf; total time=11.2min\n",
      "[CV] END .....................C=0.1, gamma=0.001, kernel=rbf; total time=11.2min\n",
      "[CV] END .....................C=0.1, gamma=0.001, kernel=rbf; total time=11.4min\n",
      "[CV] END ....................C=0.1, gamma=0.001, kernel=poly; total time= 7.6min\n",
      "[CV] END ....................C=0.1, gamma=0.001, kernel=poly; total time= 7.6min\n",
      "[CV] END .................C=0.1, gamma=0.001, kernel=sigmoid; total time= 7.8min\n",
      "[CV] END .................C=0.1, gamma=0.001, kernel=sigmoid; total time= 8.0min\n",
      "[CV] END ..........................C=1, gamma=1, kernel=poly; total time= 4.5min\n",
      "[CV] END .................C=0.1, gamma=0.001, kernel=sigmoid; total time= 8.5min\n",
      "[CV] END ..........................C=1, gamma=1, kernel=poly; total time= 5.2min\n",
      "[CV] END ..........................C=1, gamma=1, kernel=poly; total time= 5.0min\n",
      "[CV] END .......................C=1, gamma=1, kernel=sigmoid; total time= 6.5min\n",
      "[CV] END .......................C=1, gamma=1, kernel=sigmoid; total time= 6.1min\n",
      "[CV] END .......................C=1, gamma=1, kernel=sigmoid; total time= 6.8min\n",
      "[CV] END ........................C=1, gamma=0.1, kernel=poly; total time= 2.5min\n",
      "[CV] END .........................C=1, gamma=0.1, kernel=rbf; total time= 7.7min\n",
      "[CV] END .........................C=1, gamma=0.1, kernel=rbf; total time= 7.9min\n",
      "[CV] END ........................C=1, gamma=0.1, kernel=poly; total time= 2.5min\n",
      "[CV] END .........................C=1, gamma=0.1, kernel=rbf; total time= 7.6min\n",
      "[CV] END ........................C=1, gamma=0.1, kernel=poly; total time= 2.5min\n",
      "[CV] END .....................C=1, gamma=0.1, kernel=sigmoid; total time= 2.6min\n",
      "[CV] END .....................C=1, gamma=0.1, kernel=sigmoid; total time= 2.8min\n",
      "[CV] END .....................C=1, gamma=0.1, kernel=sigmoid; total time= 2.5min\n",
      "[CV] END ........................C=1, gamma=0.01, kernel=rbf; total time= 3.5min\n",
      "[CV] END ........................C=1, gamma=0.01, kernel=rbf; total time= 3.6min\n",
      "[CV] END ........................C=1, gamma=0.01, kernel=rbf; total time= 3.6min\n",
      "[CV] END ....................C=1, gamma=0.01, kernel=sigmoid; total time= 1.9min\n",
      "[CV] END ....................C=1, gamma=0.01, kernel=sigmoid; total time= 1.9min\n",
      "[CV] END ....................C=1, gamma=0.01, kernel=sigmoid; total time= 2.6min\n",
      "[CV] END .......................C=1, gamma=0.01, kernel=poly; total time= 8.0min\n",
      "[CV] END .......................C=1, gamma=0.01, kernel=poly; total time= 8.1min\n",
      "[CV] END ...........................C=1, gamma=1, kernel=rbf; total time=27.2min\n",
      "[CV] END ...........................C=1, gamma=1, kernel=rbf; total time=27.4min\n",
      "[CV] END .......................C=1, gamma=0.01, kernel=poly; total time= 7.9min\n",
      "[CV] END ...........................C=1, gamma=1, kernel=rbf; total time=27.6min\n",
      "[CV] END .......................C=1, gamma=0.001, kernel=rbf; total time= 6.5min\n",
      "[CV] END .......................C=1, gamma=0.001, kernel=rbf; total time= 5.7min\n",
      "[CV] END .......................C=1, gamma=0.001, kernel=rbf; total time= 5.8min\n",
      "[CV] END ...................C=1, gamma=0.001, kernel=sigmoid; total time= 4.8min\n",
      "[CV] END ......................C=1, gamma=0.001, kernel=poly; total time= 7.3min\n",
      "[CV] END ...................C=1, gamma=0.001, kernel=sigmoid; total time= 4.9min\n",
      "[CV] END ...................C=1, gamma=0.001, kernel=sigmoid; total time= 4.8min\n",
      "[CV] END ......................C=1, gamma=0.001, kernel=poly; total time= 7.4min\n",
      "[CV] END ......................C=1, gamma=0.001, kernel=poly; total time= 7.4min\n",
      "[CV] END .........................C=10, gamma=1, kernel=poly; total time= 4.5min\n",
      "[CV] END .........................C=10, gamma=1, kernel=poly; total time= 5.2min\n",
      "[CV] END .........................C=10, gamma=1, kernel=poly; total time= 6.8min\n",
      "[CV] END ......................C=10, gamma=1, kernel=sigmoid; total time= 5.5min\n",
      "[CV] END ......................C=10, gamma=1, kernel=sigmoid; total time= 6.0min\n",
      "[CV] END ......................C=10, gamma=1, kernel=sigmoid; total time= 5.5min\n",
      "[CV] END .......................C=10, gamma=0.1, kernel=poly; total time= 2.6min\n",
      "[CV] END .......................C=10, gamma=0.1, kernel=poly; total time= 2.7min\n",
      "[CV] END .......................C=10, gamma=0.1, kernel=poly; total time= 2.6min\n",
      "[CV] END ........................C=10, gamma=0.1, kernel=rbf; total time= 7.8min\n",
      "[CV] END ........................C=10, gamma=0.1, kernel=rbf; total time= 7.4min\n",
      "[CV] END ........................C=10, gamma=0.1, kernel=rbf; total time= 7.6min\n",
      "[CV] END ....................C=10, gamma=0.1, kernel=sigmoid; total time= 2.3min\n",
      "[CV] END ....................C=10, gamma=0.1, kernel=sigmoid; total time= 2.3min\n",
      "[CV] END ....................C=10, gamma=0.1, kernel=sigmoid; total time= 2.1min\n",
      "[CV] END .......................C=10, gamma=0.01, kernel=rbf; total time= 2.9min\n",
      "[CV] END .......................C=10, gamma=0.01, kernel=rbf; total time= 2.9min\n",
      "[CV] END .......................C=10, gamma=0.01, kernel=rbf; total time= 2.9min\n",
      "[CV] END ...................C=10, gamma=0.01, kernel=sigmoid; total time= 1.4min\n",
      "[CV] END ...................C=10, gamma=0.01, kernel=sigmoid; total time= 1.4min\n",
      "[CV] END ...................C=10, gamma=0.01, kernel=sigmoid; total time= 1.3min\n",
      "[CV] END ......................C=10, gamma=0.01, kernel=poly; total time= 5.0min\n",
      "[CV] END ......................C=10, gamma=0.01, kernel=poly; total time= 5.2min\n",
      "[CV] END ......................C=10, gamma=0.001, kernel=rbf; total time= 3.1min\n",
      "[CV] END ......................C=10, gamma=0.01, kernel=poly; total time= 5.1min\n",
      "[CV] END ......................C=10, gamma=0.001, kernel=rbf; total time= 3.5min\n",
      "[CV] END ......................C=10, gamma=0.001, kernel=rbf; total time= 3.4min\n",
      "[CV] END ..................C=10, gamma=0.001, kernel=sigmoid; total time= 2.3min\n",
      "[CV] END ..................C=10, gamma=0.001, kernel=sigmoid; total time= 2.3min\n",
      "[CV] END ..........................C=10, gamma=1, kernel=rbf; total time=29.7min\n",
      "[CV] END ..........................C=10, gamma=1, kernel=rbf; total time=29.5min\n",
      "[CV] END ..................C=10, gamma=0.001, kernel=sigmoid; total time= 2.4min\n",
      "[CV] END .....................C=10, gamma=0.001, kernel=poly; total time= 7.7min\n",
      "[CV] END ..........................C=10, gamma=1, kernel=rbf; total time=29.6min\n",
      "[CV] END .....................C=10, gamma=0.001, kernel=poly; total time= 7.9min\n",
      "[CV] END .....................C=10, gamma=0.001, kernel=poly; total time= 7.9min\n",
      "[CV] END ........................C=100, gamma=1, kernel=poly; total time= 5.3min\n",
      "[CV] END .....................C=100, gamma=1, kernel=sigmoid; total time= 5.9min\n",
      "[CV] END .....................C=100, gamma=1, kernel=sigmoid; total time= 6.4min\n",
      "[CV] END ........................C=100, gamma=1, kernel=poly; total time= 9.4min\n",
      "[CV] END ........................C=100, gamma=1, kernel=poly; total time= 9.3min\n",
      "[CV] END .....................C=100, gamma=1, kernel=sigmoid; total time= 5.9min\n",
      "[CV] END ......................C=100, gamma=0.1, kernel=poly; total time= 3.7min\n",
      "[CV] END ......................C=100, gamma=0.1, kernel=poly; total time= 3.9min\n",
      "[CV] END .......................C=100, gamma=0.1, kernel=rbf; total time= 8.7min\n",
      "[CV] END .......................C=100, gamma=0.1, kernel=rbf; total time= 8.4min\n",
      "[CV] END ...................C=100, gamma=0.1, kernel=sigmoid; total time= 2.3min\n",
      "[CV] END ......................C=100, gamma=0.1, kernel=poly; total time= 3.3min\n",
      "[CV] END .......................C=100, gamma=0.1, kernel=rbf; total time= 8.5min\n",
      "[CV] END ...................C=100, gamma=0.1, kernel=sigmoid; total time= 2.5min\n",
      "[CV] END ...................C=100, gamma=0.1, kernel=sigmoid; total time= 2.4min\n",
      "[CV] END ......................C=100, gamma=0.01, kernel=rbf; total time= 3.6min\n",
      "[CV] END ......................C=100, gamma=0.01, kernel=rbf; total time= 3.5min\n",
      "[CV] END .....................C=100, gamma=0.01, kernel=poly; total time= 2.8min\n",
      "[CV] END ..................C=100, gamma=0.01, kernel=sigmoid; total time= 1.2min\n",
      "[CV] END ......................C=100, gamma=0.01, kernel=rbf; total time= 3.4min\n",
      "[CV] END .....................C=100, gamma=0.01, kernel=poly; total time= 2.9min\n",
      "[CV] END ..................C=100, gamma=0.01, kernel=sigmoid; total time= 1.4min\n",
      "[CV] END ..................C=100, gamma=0.01, kernel=sigmoid; total time= 1.3min\n",
      "[CV] END .....................C=100, gamma=0.01, kernel=poly; total time= 3.3min\n",
      "[CV] END .....................C=100, gamma=0.001, kernel=rbf; total time= 3.8min\n",
      "[CV] END .....................C=100, gamma=0.001, kernel=rbf; total time= 3.9min\n",
      "[CV] END .....................C=100, gamma=0.001, kernel=rbf; total time= 3.9min\n",
      "[CV] END .................C=100, gamma=0.001, kernel=sigmoid; total time= 2.1min\n",
      "[CV] END .................C=100, gamma=0.001, kernel=sigmoid; total time= 2.1min\n",
      "[CV] END .................C=100, gamma=0.001, kernel=sigmoid; total time= 2.0min\n",
      "[CV] END .........................C=100, gamma=1, kernel=rbf; total time=33.0min\n",
      "[CV] END .........................C=100, gamma=1, kernel=rbf; total time=32.8min\n",
      "[CV] END ....................C=100, gamma=0.001, kernel=poly; total time= 8.8min\n",
      "[CV] END .........................C=100, gamma=1, kernel=rbf; total time=33.1min\n",
      "[CV] END ....................C=100, gamma=0.001, kernel=poly; total time= 8.4min\n",
      "[CV] END ....................C=100, gamma=0.001, kernel=poly; total time= 7.3min\n",
      "Classification Report for Dev Set:\n",
      "              precision    recall  f1-score   support\n",
      "\n",
      "           1       0.67      0.06      0.12        31\n",
      "           2       0.00      0.00      0.00        41\n",
      "           3       0.32      0.56      0.41       117\n",
      "           4       0.51      0.40      0.45        63\n",
      "           5       0.39      0.56      0.46       280\n",
      "           6       0.37      0.46      0.41       188\n",
      "           7       0.51      0.57      0.54       666\n",
      "           8       0.63      0.64      0.64       740\n",
      "           9       0.63      0.33      0.43       261\n",
      "          10       0.63      0.69      0.66      1219\n",
      "          11       0.15      0.07      0.10       521\n",
      "          12       0.44      0.54      0.48      1945\n",
      "          13       0.37      0.22      0.27       486\n",
      "          14       0.52      0.51      0.52      1301\n",
      "          15       0.24      0.25      0.25       302\n",
      "          16       0.42      0.03      0.06       156\n",
      "          17       0.27      0.06      0.10        48\n",
      "          18       0.00      0.00      0.00        13\n",
      "          19       0.00      0.00      0.00        15\n",
      "\n",
      "    accuracy                           0.48      8393\n",
      "   macro avg       0.37      0.31      0.31      8393\n",
      "weighted avg       0.47      0.48      0.47      8393\n",
      "\n"
     ]
    },
    {
     "name": "stderr",
     "output_type": "stream",
     "text": [
      "/Users/noor/anaconda3/envs/camel_parser/lib/python3.9/site-packages/sklearn/metrics/_classification.py:1344: UndefinedMetricWarning: Precision and F-score are ill-defined and being set to 0.0 in labels with no predicted samples. Use `zero_division` parameter to control this behavior.\n",
      "  _warn_prf(average, modifier, msg_start, len(result))\n",
      "/Users/noor/anaconda3/envs/camel_parser/lib/python3.9/site-packages/sklearn/metrics/_classification.py:1344: UndefinedMetricWarning: Precision and F-score are ill-defined and being set to 0.0 in labels with no predicted samples. Use `zero_division` parameter to control this behavior.\n",
      "  _warn_prf(average, modifier, msg_start, len(result))\n",
      "/Users/noor/anaconda3/envs/camel_parser/lib/python3.9/site-packages/sklearn/metrics/_classification.py:1344: UndefinedMetricWarning: Precision and F-score are ill-defined and being set to 0.0 in labels with no predicted samples. Use `zero_division` parameter to control this behavior.\n",
      "  _warn_prf(average, modifier, msg_start, len(result))\n"
     ]
    }
   ],
   "source": [
    "# grid search to find the best hyperparameters\n",
    "from sklearn.model_selection import GridSearchCV\n",
    "from sklearn.svm import SVC\n",
    "\n",
    "param_grid = {\n",
    "    'C': [0.1, 1, 10, 100],\n",
    "    'gamma': [1, 0.1, 0.01, 0.001],\n",
    "    'kernel': ['rbf', 'poly', 'sigmoid']\n",
    "}\n",
    "model = SVC()\n",
    "grid_search = GridSearchCV(estimator=model, param_grid=param_grid, cv=3, n_jobs=-1, verbose=2)\n",
    "grid_search.fit(X_train, y_train)\n",
    "best_params = grid_search.best_params_\n",
    "best_params\n",
    "\n",
    "# Train an SVM model with the best hyperparameters\n",
    "best_model = SVC(**best_params)\n",
    "best_model.fit(X_train, y_train)\n",
    "\n",
    "# Make predictions on Dev and Test datasets \n",
    "y_pred_dev = best_model.predict(X_dev)\n",
    "\n",
    "# classification report\n",
    "print(\"Classification Report for Dev Set:\")\n",
    "print(classification_report(y_dev, y_pred_dev))"
   ]
  },
  {
   "cell_type": "code",
   "execution_count": 6,
   "metadata": {},
   "outputs": [
    {
     "data": {
      "text/plain": [
       "{'C': 100, 'gamma': 0.001, 'kernel': 'rbf'}"
      ]
     },
     "execution_count": 6,
     "metadata": {},
     "output_type": "execute_result"
    }
   ],
   "source": [
    "grid_search.best_params_"
   ]
  },
  {
   "attachments": {},
   "cell_type": "markdown",
   "metadata": {},
   "source": [
    "## BOOST"
   ]
  },
  {
   "cell_type": "code",
   "execution_count": 9,
   "metadata": {},
   "outputs": [
    {
     "name": "stdout",
     "output_type": "stream",
     "text": [
      "Collecting xgboost\n",
      "  Downloading xgboost-2.1.4-py3-none-macosx_10_15_x86_64.macosx_11_0_x86_64.macosx_12_0_x86_64.whl.metadata (2.1 kB)\n",
      "Requirement already satisfied: numpy in /Users/noor/anaconda3/envs/camel_parser/lib/python3.9/site-packages (from xgboost) (1.24.3)\n",
      "Requirement already satisfied: scipy in /Users/noor/anaconda3/envs/camel_parser/lib/python3.9/site-packages (from xgboost) (1.10.1)\n",
      "Downloading xgboost-2.1.4-py3-none-macosx_10_15_x86_64.macosx_11_0_x86_64.macosx_12_0_x86_64.whl (2.1 MB)\n",
      "\u001b[2K   \u001b[90m━━━━━━━━━━━━━━━━━━━━━━━━━━━━━━━━━━━━━━━━\u001b[0m \u001b[32m2.1/2.1 MB\u001b[0m \u001b[31m3.6 MB/s\u001b[0m eta \u001b[36m0:00:00\u001b[0ma \u001b[36m0:00:01\u001b[0m\n",
      "\u001b[?25hInstalling collected packages: xgboost\n",
      "Successfully installed xgboost-2.1.4\n"
     ]
    }
   ],
   "source": [
    "!pip install xgboost"
   ]
  },
  {
   "cell_type": "code",
   "execution_count": 2,
   "metadata": {},
   "outputs": [
    {
     "name": "stdout",
     "output_type": "stream",
     "text": [
      "Running `brew update --auto-update`...\n"
     ]
    }
   ],
   "source": [
    "! brew install libomp"
   ]
  },
  {
   "cell_type": "code",
   "execution_count": 8,
   "metadata": {},
   "outputs": [
    {
     "name": "stdout",
     "output_type": "stream",
     "text": [
      "Classification Report for Dev Set:\n",
      "              precision    recall  f1-score   support\n",
      "\n",
      "           0       0.50      0.48      0.49        31\n",
      "           1       0.30      0.39      0.34        41\n",
      "           2       0.47      0.51      0.49       117\n",
      "           3       0.48      0.41      0.44        63\n",
      "           4       0.40      0.54      0.46       280\n",
      "           5       0.34      0.48      0.40       188\n",
      "           6       0.51      0.57      0.54       666\n",
      "           7       0.63      0.64      0.64       740\n",
      "           8       0.60      0.41      0.49       261\n",
      "           9       0.65      0.69      0.67      1219\n",
      "          10       0.31      0.37      0.34       521\n",
      "          11       0.46      0.47      0.47      1945\n",
      "          12       0.38      0.25      0.30       486\n",
      "          13       0.53      0.51      0.52      1303\n",
      "          14       0.25      0.23      0.24       302\n",
      "          15       0.30      0.06      0.11       156\n",
      "          16       0.14      0.04      0.06        48\n",
      "          17       0.00      0.00      0.00        13\n",
      "          18       0.00      0.00      0.00        15\n",
      "\n",
      "    accuracy                           0.49      8395\n",
      "   macro avg       0.38      0.37      0.37      8395\n",
      "weighted avg       0.49      0.49      0.49      8395\n",
      "\n"
     ]
    }
   ],
   "source": [
    "# XGBoost\n",
    "from xgboost import XGBClassifier\n",
    "model = XGBClassifier()\n",
    "y_train = y_train -1\n",
    "y_dev = y_dev -1\n",
    "model.fit(X_train, y_train)\n",
    "\n",
    "# Make predictions on Dev and Test datasets\n",
    "y_pred_dev = model.predict(X_dev)\n",
    "y_pred_test = model.predict(X_test)\n",
    "\n",
    "# classification report\n",
    "print(\"Classification Report for Dev Set:\")\n",
    "print(classification_report(y_dev, y_pred_dev))"
   ]
  },
  {
   "cell_type": "code",
   "execution_count": 9,
   "metadata": {},
   "outputs": [],
   "source": [
    "dev_data['predicted_RL'] = y_pred_dev + 1\n",
    "dev_data[['ID', 'RL_num_19', 'predicted_RL']].to_csv('/Users/noor/Desktop/Thesis/Thesis/thesis_data/s31/conventional/boost/dev_predictions.csv', index=False)\n",
    "test_data['predicted_RL'] = y_pred_test + 1\n",
    "test_data[['ID', 'RL_num_19', 'predicted_RL']].to_csv('/Users/noor/Desktop/Thesis/Thesis/thesis_data/s31/conventional/boost/test_predictions.csv', index=False)"
   ]
  },
  {
   "cell_type": "code",
   "execution_count": 10,
   "metadata": {},
   "outputs": [
    {
     "data": {
      "text/plain": [
       "8395"
      ]
     },
     "execution_count": 10,
     "metadata": {},
     "output_type": "execute_result"
    }
   ],
   "source": [
    "len(dev_data)"
   ]
  },
  {
   "cell_type": "code",
   "execution_count": 22,
   "metadata": {},
   "outputs": [],
   "source": [
    "# get the repeated ids\n",
    "repeated_ids = test_data[test_data.duplicated(subset=['ID'], keep=False)]['ID'].unique()"
   ]
  },
  {
   "cell_type": "code",
   "execution_count": 23,
   "metadata": {},
   "outputs": [
    {
     "data": {
      "text/plain": [
       "array([53871, 67307, 55494, 67422])"
      ]
     },
     "execution_count": 23,
     "metadata": {},
     "output_type": "execute_result"
    }
   ],
   "source": [
    "repeated_ids"
   ]
  },
  {
   "cell_type": "code",
   "execution_count": 24,
   "metadata": {},
   "outputs": [
    {
     "data": {
      "text/plain": [
       "array([37137, 58949])"
      ]
     },
     "execution_count": 24,
     "metadata": {},
     "output_type": "execute_result"
    }
   ],
   "source": [
    "dev_data[dev_data.duplicated(subset=['ID'], keep=False)]['ID'].unique()"
   ]
  },
  {
   "cell_type": "code",
   "execution_count": 4,
   "metadata": {},
   "outputs": [
    {
     "name": "stdout",
     "output_type": "stream",
     "text": [
      "[CV] END colsample_bylevel=0.5, colsample_bynode=0.5, colsample_bytree=0.5, gamma=1, learning_rate=0.1, max_depth=8, min_child_weight=1, n_estimators=200, reg_alpha=0, reg_lambda=1, subsample=0.5; total time=   0.1s\n",
      "[CV] END colsample_bylevel=0.5, colsample_bynode=0.5, colsample_bytree=0.5, gamma=1, learning_rate=0.1, max_depth=8, min_child_weight=1, n_estimators=200, reg_alpha=0, reg_lambda=1, subsample=0.5; total time=   0.0s\n",
      "[CV] END colsample_bylevel=0.5, colsample_bynode=0.5, colsample_bytree=0.5, gamma=1, learning_rate=0.1, max_depth=8, min_child_weight=1, n_estimators=200, reg_alpha=0, reg_lambda=1, subsample=0.5; total time=   0.1s\n",
      "[CV] END colsample_bylevel=0.5, colsample_bynode=0.5, colsample_bytree=0.5, gamma=1, learning_rate=0.1, max_depth=8, min_child_weight=1, n_estimators=200, reg_alpha=0, reg_lambda=1, subsample=0.7; total time=   0.0s\n",
      "[CV] END colsample_bylevel=0.5, colsample_bynode=0.5, colsample_bytree=0.5, gamma=1, learning_rate=0.1, max_depth=8, min_child_weight=1, n_estimators=200, reg_alpha=0, reg_lambda=1, subsample=0.7; total time=   0.1s\n",
      "[CV] END colsample_bylevel=0.5, colsample_bynode=0.5, colsample_bytree=0.5, gamma=1, learning_rate=0.1, max_depth=8, min_child_weight=1, n_estimators=200, reg_alpha=0, reg_lambda=1, subsample=0.7; total time=   0.0s\n",
      "[CV] END colsample_bylevel=0.5, colsample_bynode=0.5, colsample_bytree=0.5, gamma=1, learning_rate=0.1, max_depth=8, min_child_weight=1, n_estimators=200, reg_alpha=0, reg_lambda=1, subsample=0.9; total time=   0.1s\n",
      "[CV] END colsample_bylevel=0.5, colsample_bynode=0.5, colsample_bytree=0.5, gamma=1, learning_rate=0.1, max_depth=8, min_child_weight=1, n_estimators=200, reg_alpha=0, reg_lambda=1, subsample=0.9; total time=   0.0s\n",
      "[CV] END colsample_bylevel=0.5, colsample_bynode=0.5, colsample_bytree=0.5, gamma=1, learning_rate=0.1, max_depth=8, min_child_weight=1, n_estimators=200, reg_alpha=0, reg_lambda=1, subsample=0.9; total time=   0.0s\n",
      "[CV] END colsample_bylevel=0.5, colsample_bynode=0.5, colsample_bytree=0.5, gamma=1, learning_rate=0.1, max_depth=8, min_child_weight=1, n_estimators=200, reg_alpha=0, reg_lambda=1.5, subsample=0.5; total time=   0.0s\n",
      "[CV] END colsample_bylevel=0.5, colsample_bynode=0.5, colsample_bytree=0.5, gamma=1, learning_rate=0.1, max_depth=8, min_child_weight=1, n_estimators=200, reg_alpha=0, reg_lambda=1.5, subsample=0.5; total time=   0.0s\n",
      "[CV] END colsample_bylevel=0.5, colsample_bynode=0.5, colsample_bytree=0.5, gamma=1, learning_rate=0.1, max_depth=8, min_child_weight=1, n_estimators=200, reg_alpha=0, reg_lambda=1.5, subsample=0.5; total time=   0.0s\n",
      "[CV] END colsample_bylevel=0.5, colsample_bynode=0.5, colsample_bytree=0.5, gamma=1, learning_rate=0.1, max_depth=8, min_child_weight=1, n_estimators=200, reg_alpha=0, reg_lambda=1.5, subsample=0.7; total time=   0.0s\n",
      "[CV] END colsample_bylevel=0.5, colsample_bynode=0.5, colsample_bytree=0.5, gamma=1, learning_rate=0.1, max_depth=8, min_child_weight=1, n_estimators=200, reg_alpha=0, reg_lambda=1.5, subsample=0.7; total time=   0.0s\n",
      "[CV] END colsample_bylevel=0.5, colsample_bynode=0.5, colsample_bytree=0.5, gamma=1, learning_rate=0.1, max_depth=8, min_child_weight=1, n_estimators=200, reg_alpha=0, reg_lambda=1.5, subsample=0.7; total time=   0.0s\n",
      "[CV] END colsample_bylevel=0.5, colsample_bynode=0.5, colsample_bytree=0.5, gamma=1, learning_rate=0.1, max_depth=8, min_child_weight=1, n_estimators=200, reg_alpha=0, reg_lambda=1.5, subsample=0.9; total time=   0.0s\n",
      "[CV] END colsample_bylevel=0.5, colsample_bynode=0.5, colsample_bytree=0.5, gamma=1, learning_rate=0.1, max_depth=8, min_child_weight=1, n_estimators=200, reg_alpha=0, reg_lambda=1.5, subsample=0.9; total time=   0.1s\n",
      "[CV] END colsample_bylevel=0.5, colsample_bynode=0.5, colsample_bytree=0.5, gamma=1, learning_rate=0.1, max_depth=8, min_child_weight=1, n_estimators=200, reg_alpha=0, reg_lambda=1.5, subsample=0.9; total time=   0.1s\n",
      "[CV] END colsample_bylevel=0.5, colsample_bynode=0.5, colsample_bytree=0.5, gamma=1, learning_rate=0.1, max_depth=8, min_child_weight=1, n_estimators=200, reg_alpha=0, reg_lambda=2, subsample=0.5; total time=   0.0s\n",
      "[CV] END colsample_bylevel=0.5, colsample_bynode=0.5, colsample_bytree=0.5, gamma=1, learning_rate=0.1, max_depth=8, min_child_weight=1, n_estimators=200, reg_alpha=0, reg_lambda=2, subsample=0.5; total time=   0.0s\n",
      "[CV] END colsample_bylevel=0.5, colsample_bynode=0.5, colsample_bytree=0.5, gamma=1, learning_rate=0.1, max_depth=8, min_child_weight=1, n_estimators=200, reg_alpha=0, reg_lambda=2, subsample=0.5; total time=   0.1s\n",
      "[CV] END colsample_bylevel=0.5, colsample_bynode=0.5, colsample_bytree=0.5, gamma=1, learning_rate=0.1, max_depth=8, min_child_weight=1, n_estimators=200, reg_alpha=0, reg_lambda=2, subsample=0.7; total time=   0.0s\n",
      "[CV] END colsample_bylevel=0.5, colsample_bynode=0.5, colsample_bytree=0.5, gamma=1, learning_rate=0.1, max_depth=8, min_child_weight=1, n_estimators=200, reg_alpha=0, reg_lambda=2, subsample=0.7; total time=   0.0s\n",
      "[CV] END colsample_bylevel=0.5, colsample_bynode=0.5, colsample_bytree=0.5, gamma=1, learning_rate=0.1, max_depth=8, min_child_weight=1, n_estimators=200, reg_alpha=0, reg_lambda=2, subsample=0.7; total time=   0.0s\n",
      "[CV] END colsample_bylevel=0.5, colsample_bynode=0.5, colsample_bytree=0.5, gamma=1, learning_rate=0.1, max_depth=8, min_child_weight=1, n_estimators=200, reg_alpha=0, reg_lambda=2, subsample=0.9; total time=   0.0s\n",
      "[CV] END colsample_bylevel=0.5, colsample_bynode=0.5, colsample_bytree=0.5, gamma=1, learning_rate=0.1, max_depth=8, min_child_weight=1, n_estimators=200, reg_alpha=0, reg_lambda=2, subsample=0.9; total time=   0.0s\n",
      "[CV] END colsample_bylevel=0.5, colsample_bynode=0.5, colsample_bytree=0.5, gamma=1, learning_rate=0.1, max_depth=8, min_child_weight=1, n_estimators=200, reg_alpha=0, reg_lambda=2, subsample=0.9; total time=   0.0s\n",
      "[CV] END colsample_bylevel=0.5, colsample_bynode=0.5, colsample_bytree=0.5, gamma=1, learning_rate=0.1, max_depth=8, min_child_weight=1, n_estimators=200, reg_alpha=0.5, reg_lambda=1, subsample=0.5; total time=   0.0s\n",
      "[CV] END colsample_bylevel=0.5, colsample_bynode=0.5, colsample_bytree=0.5, gamma=1, learning_rate=0.1, max_depth=8, min_child_weight=1, n_estimators=200, reg_alpha=0.5, reg_lambda=1, subsample=0.5; total time=   0.0s\n",
      "[CV] END colsample_bylevel=0.5, colsample_bynode=0.5, colsample_bytree=0.5, gamma=1, learning_rate=0.1, max_depth=8, min_child_weight=1, n_estimators=200, reg_alpha=0.5, reg_lambda=1, subsample=0.5; total time=   0.0s\n",
      "[CV] END colsample_bylevel=0.5, colsample_bynode=0.5, colsample_bytree=0.5, gamma=1, learning_rate=0.1, max_depth=8, min_child_weight=1, n_estimators=200, reg_alpha=0.5, reg_lambda=1, subsample=0.7; total time=   0.0s\n",
      "[CV] END colsample_bylevel=0.5, colsample_bynode=0.5, colsample_bytree=0.5, gamma=1, learning_rate=0.1, max_depth=8, min_child_weight=1, n_estimators=200, reg_alpha=0.5, reg_lambda=1, subsample=0.7; total time=   0.0s\n",
      "[CV] END colsample_bylevel=0.5, colsample_bynode=0.5, colsample_bytree=0.5, gamma=1, learning_rate=0.1, max_depth=8, min_child_weight=1, n_estimators=200, reg_alpha=0.5, reg_lambda=1, subsample=0.7; total time=   0.0s\n",
      "[CV] END colsample_bylevel=0.5, colsample_bynode=0.5, colsample_bytree=0.5, gamma=1, learning_rate=0.1, max_depth=8, min_child_weight=1, n_estimators=200, reg_alpha=0.5, reg_lambda=1, subsample=0.9; total time=   0.1s\n",
      "[CV] END colsample_bylevel=0.5, colsample_bynode=0.5, colsample_bytree=0.5, gamma=1, learning_rate=0.1, max_depth=8, min_child_weight=1, n_estimators=200, reg_alpha=0.5, reg_lambda=1, subsample=0.9; total time=   0.1s\n",
      "[CV] END colsample_bylevel=0.5, colsample_bynode=0.5, colsample_bytree=0.5, gamma=1, learning_rate=0.1, max_depth=8, min_child_weight=1, n_estimators=200, reg_alpha=0.5, reg_lambda=1, subsample=0.9; total time=   0.1s\n",
      "[CV] END colsample_bylevel=0.5, colsample_bynode=0.5, colsample_bytree=0.5, gamma=1, learning_rate=0.1, max_depth=8, min_child_weight=1, n_estimators=200, reg_alpha=0.5, reg_lambda=1.5, subsample=0.5; total time=   0.1s\n",
      "[CV] END colsample_bylevel=0.5, colsample_bynode=0.5, colsample_bytree=0.5, gamma=1, learning_rate=0.1, max_depth=8, min_child_weight=1, n_estimators=200, reg_alpha=0.5, reg_lambda=1.5, subsample=0.5; total time=   0.1s\n",
      "[CV] END colsample_bylevel=0.5, colsample_bynode=0.5, colsample_bytree=0.5, gamma=1, learning_rate=0.1, max_depth=8, min_child_weight=1, n_estimators=200, reg_alpha=0.5, reg_lambda=1.5, subsample=0.5; total time=   0.1s\n",
      "[CV] END colsample_bylevel=0.5, colsample_bynode=0.5, colsample_bytree=0.5, gamma=1, learning_rate=0.1, max_depth=8, min_child_weight=1, n_estimators=200, reg_alpha=0.5, reg_lambda=1.5, subsample=0.7; total time=   0.1s\n",
      "[CV] END colsample_bylevel=0.5, colsample_bynode=0.5, colsample_bytree=0.5, gamma=1, learning_rate=0.1, max_depth=8, min_child_weight=1, n_estimators=200, reg_alpha=0.5, reg_lambda=1.5, subsample=0.7; total time=   0.1s\n",
      "[CV] END colsample_bylevel=0.5, colsample_bynode=0.5, colsample_bytree=0.5, gamma=1, learning_rate=0.1, max_depth=8, min_child_weight=1, n_estimators=200, reg_alpha=0.5, reg_lambda=1.5, subsample=0.7; total time=   0.0s\n",
      "[CV] END colsample_bylevel=0.5, colsample_bynode=0.5, colsample_bytree=0.5, gamma=1, learning_rate=0.1, max_depth=8, min_child_weight=1, n_estimators=200, reg_alpha=0.5, reg_lambda=1.5, subsample=0.9; total time=   0.1s\n",
      "[CV] END colsample_bylevel=0.5, colsample_bynode=0.5, colsample_bytree=0.5, gamma=1, learning_rate=0.1, max_depth=8, min_child_weight=1, n_estimators=200, reg_alpha=0.5, reg_lambda=1.5, subsample=0.9; total time=   0.1s\n",
      "[CV] END colsample_bylevel=0.5, colsample_bynode=0.5, colsample_bytree=0.5, gamma=1, learning_rate=0.1, max_depth=8, min_child_weight=1, n_estimators=200, reg_alpha=0.5, reg_lambda=1.5, subsample=0.9; total time=   0.1s\n",
      "[CV] END colsample_bylevel=0.5, colsample_bynode=0.5, colsample_bytree=0.5, gamma=1, learning_rate=0.1, max_depth=8, min_child_weight=1, n_estimators=200, reg_alpha=0.5, reg_lambda=2, subsample=0.5; total time=   0.0s\n",
      "[CV] END colsample_bylevel=0.5, colsample_bynode=0.5, colsample_bytree=0.5, gamma=1, learning_rate=0.1, max_depth=8, min_child_weight=1, n_estimators=200, reg_alpha=0.5, reg_lambda=2, subsample=0.5; total time=   0.0s\n",
      "[CV] END colsample_bylevel=0.5, colsample_bynode=0.5, colsample_bytree=0.5, gamma=1, learning_rate=0.1, max_depth=8, min_child_weight=1, n_estimators=200, reg_alpha=0.5, reg_lambda=2, subsample=0.5; total time=   0.0s\n",
      "[CV] END colsample_bylevel=0.5, colsample_bynode=0.5, colsample_bytree=0.5, gamma=1, learning_rate=0.1, max_depth=8, min_child_weight=1, n_estimators=200, reg_alpha=0.5, reg_lambda=2, subsample=0.7; total time=   0.0s\n",
      "[CV] END colsample_bylevel=0.5, colsample_bynode=0.5, colsample_bytree=0.5, gamma=1, learning_rate=0.1, max_depth=8, min_child_weight=1, n_estimators=200, reg_alpha=0.5, reg_lambda=2, subsample=0.7; total time=   0.1s\n",
      "[CV] END colsample_bylevel=0.5, colsample_bynode=0.5, colsample_bytree=0.5, gamma=1, learning_rate=0.1, max_depth=8, min_child_weight=1, n_estimators=200, reg_alpha=0.5, reg_lambda=2, subsample=0.7; total time=   0.1s\n",
      "[CV] END colsample_bylevel=0.5, colsample_bynode=0.5, colsample_bytree=0.5, gamma=1, learning_rate=0.1, max_depth=8, min_child_weight=1, n_estimators=200, reg_alpha=0.5, reg_lambda=2, subsample=0.9; total time=   0.0s\n",
      "[CV] END colsample_bylevel=0.5, colsample_bynode=0.5, colsample_bytree=0.5, gamma=1, learning_rate=0.1, max_depth=8, min_child_weight=1, n_estimators=200, reg_alpha=0.5, reg_lambda=2, subsample=0.9; total time=   0.0s\n",
      "[CV] END colsample_bylevel=0.5, colsample_bynode=0.5, colsample_bytree=0.5, gamma=1, learning_rate=0.1, max_depth=8, min_child_weight=1, n_estimators=200, reg_alpha=0.5, reg_lambda=2, subsample=0.9; total time=   0.0s\n",
      "[CV] END colsample_bylevel=0.5, colsample_bynode=0.5, colsample_bytree=0.5, gamma=1, learning_rate=0.1, max_depth=8, min_child_weight=1, n_estimators=200, reg_alpha=1, reg_lambda=1, subsample=0.5; total time=   0.0s\n",
      "[CV] END colsample_bylevel=0.5, colsample_bynode=0.5, colsample_bytree=0.5, gamma=1, learning_rate=0.1, max_depth=8, min_child_weight=1, n_estimators=200, reg_alpha=1, reg_lambda=1, subsample=0.5; total time=   0.0s\n",
      "[CV] END colsample_bylevel=0.5, colsample_bynode=0.5, colsample_bytree=0.5, gamma=1, learning_rate=0.1, max_depth=8, min_child_weight=1, n_estimators=200, reg_alpha=1, reg_lambda=1, subsample=0.5; total time=   0.0s\n",
      "[CV] END colsample_bylevel=0.5, colsample_bynode=0.5, colsample_bytree=0.5, gamma=1, learning_rate=0.1, max_depth=8, min_child_weight=1, n_estimators=200, reg_alpha=1, reg_lambda=1, subsample=0.7; total time=   0.0s\n",
      "[CV] END colsample_bylevel=0.5, colsample_bynode=0.5, colsample_bytree=0.5, gamma=1, learning_rate=0.1, max_depth=8, min_child_weight=1, n_estimators=200, reg_alpha=1, reg_lambda=1, subsample=0.7; total time=   0.1s\n",
      "[CV] END colsample_bylevel=0.5, colsample_bynode=0.5, colsample_bytree=0.5, gamma=1, learning_rate=0.1, max_depth=8, min_child_weight=1, n_estimators=200, reg_alpha=1, reg_lambda=1, subsample=0.7; total time=   0.0s\n",
      "[CV] END colsample_bylevel=0.5, colsample_bynode=0.5, colsample_bytree=0.5, gamma=1, learning_rate=0.1, max_depth=8, min_child_weight=1, n_estimators=200, reg_alpha=1, reg_lambda=1, subsample=0.9; total time=   0.1s\n",
      "[CV] END colsample_bylevel=0.5, colsample_bynode=0.5, colsample_bytree=0.5, gamma=1, learning_rate=0.1, max_depth=8, min_child_weight=1, n_estimators=200, reg_alpha=1, reg_lambda=1, subsample=0.9; total time=   0.1s\n",
      "[CV] END colsample_bylevel=0.5, colsample_bynode=0.5, colsample_bytree=0.5, gamma=1, learning_rate=0.1, max_depth=8, min_child_weight=1, n_estimators=200, reg_alpha=1, reg_lambda=1, subsample=0.9; total time=   0.0s\n",
      "[CV] END colsample_bylevel=0.5, colsample_bynode=0.5, colsample_bytree=0.5, gamma=1, learning_rate=0.1, max_depth=8, min_child_weight=1, n_estimators=200, reg_alpha=1, reg_lambda=1.5, subsample=0.5; total time=   0.1s\n",
      "[CV] END colsample_bylevel=0.5, colsample_bynode=0.5, colsample_bytree=0.5, gamma=1, learning_rate=0.1, max_depth=8, min_child_weight=1, n_estimators=200, reg_alpha=1, reg_lambda=1.5, subsample=0.5; total time=   0.0s\n",
      "[CV] END colsample_bylevel=0.5, colsample_bynode=0.5, colsample_bytree=0.5, gamma=1, learning_rate=0.1, max_depth=8, min_child_weight=1, n_estimators=200, reg_alpha=1, reg_lambda=1.5, subsample=0.5; total time=   0.0s\n",
      "[CV] END colsample_bylevel=0.5, colsample_bynode=0.5, colsample_bytree=0.5, gamma=1, learning_rate=0.1, max_depth=8, min_child_weight=1, n_estimators=200, reg_alpha=1, reg_lambda=1.5, subsample=0.7; total time=   0.1s\n",
      "[CV] END colsample_bylevel=0.5, colsample_bynode=0.5, colsample_bytree=0.5, gamma=1, learning_rate=0.1, max_depth=8, min_child_weight=1, n_estimators=200, reg_alpha=1, reg_lambda=1.5, subsample=0.7; total time=   0.0s\n",
      "[CV] END colsample_bylevel=0.5, colsample_bynode=0.5, colsample_bytree=0.5, gamma=1, learning_rate=0.1, max_depth=8, min_child_weight=1, n_estimators=200, reg_alpha=1, reg_lambda=1.5, subsample=0.7; total time=   0.1s\n",
      "[CV] END colsample_bylevel=0.5, colsample_bynode=0.5, colsample_bytree=0.5, gamma=1, learning_rate=0.1, max_depth=8, min_child_weight=1, n_estimators=200, reg_alpha=1, reg_lambda=1.5, subsample=0.9; total time=   0.1s\n",
      "[CV] END colsample_bylevel=0.5, colsample_bynode=0.5, colsample_bytree=0.5, gamma=1, learning_rate=0.1, max_depth=8, min_child_weight=1, n_estimators=200, reg_alpha=1, reg_lambda=1.5, subsample=0.9; total time=   0.0s\n",
      "[CV] END colsample_bylevel=0.5, colsample_bynode=0.5, colsample_bytree=0.5, gamma=1, learning_rate=0.1, max_depth=8, min_child_weight=1, n_estimators=200, reg_alpha=1, reg_lambda=1.5, subsample=0.9; total time=   0.0s\n",
      "[CV] END colsample_bylevel=0.5, colsample_bynode=0.5, colsample_bytree=0.5, gamma=1, learning_rate=0.1, max_depth=8, min_child_weight=1, n_estimators=200, reg_alpha=1, reg_lambda=2, subsample=0.5; total time=   0.0s\n",
      "[CV] END colsample_bylevel=0.5, colsample_bynode=0.5, colsample_bytree=0.5, gamma=1, learning_rate=0.1, max_depth=8, min_child_weight=1, n_estimators=200, reg_alpha=1, reg_lambda=2, subsample=0.5; total time=   0.0s\n",
      "[CV] END colsample_bylevel=0.5, colsample_bynode=0.5, colsample_bytree=0.5, gamma=1, learning_rate=0.1, max_depth=8, min_child_weight=1, n_estimators=200, reg_alpha=1, reg_lambda=2, subsample=0.5; total time=   0.1s\n",
      "[CV] END colsample_bylevel=0.5, colsample_bynode=0.5, colsample_bytree=0.5, gamma=1, learning_rate=0.1, max_depth=8, min_child_weight=1, n_estimators=200, reg_alpha=1, reg_lambda=2, subsample=0.7; total time=   0.0s\n",
      "[CV] END colsample_bylevel=0.5, colsample_bynode=0.5, colsample_bytree=0.5, gamma=1, learning_rate=0.1, max_depth=8, min_child_weight=1, n_estimators=200, reg_alpha=1, reg_lambda=2, subsample=0.7; total time=   0.1s\n",
      "[CV] END colsample_bylevel=0.5, colsample_bynode=0.5, colsample_bytree=0.5, gamma=1, learning_rate=0.1, max_depth=8, min_child_weight=1, n_estimators=200, reg_alpha=1, reg_lambda=2, subsample=0.7; total time=   0.1s\n",
      "[CV] END colsample_bylevel=0.5, colsample_bynode=0.5, colsample_bytree=0.5, gamma=1, learning_rate=0.1, max_depth=8, min_child_weight=1, n_estimators=200, reg_alpha=1, reg_lambda=2, subsample=0.9; total time=   0.1s\n",
      "[CV] END colsample_bylevel=0.5, colsample_bynode=0.5, colsample_bytree=0.5, gamma=1, learning_rate=0.1, max_depth=8, min_child_weight=1, n_estimators=200, reg_alpha=1, reg_lambda=2, subsample=0.9; total time=   0.0s\n",
      "[CV] END colsample_bylevel=0.5, colsample_bynode=0.5, colsample_bytree=0.5, gamma=1, learning_rate=0.1, max_depth=8, min_child_weight=1, n_estimators=200, reg_alpha=1, reg_lambda=2, subsample=0.9; total time=   0.0s\n",
      "[CV] END colsample_bylevel=0.5, colsample_bynode=0.5, colsample_bytree=0.5, gamma=1, learning_rate=0.1, max_depth=8, min_child_weight=1, n_estimators=300, reg_alpha=0, reg_lambda=1, subsample=0.5; total time=   0.0s\n",
      "[CV] END colsample_bylevel=0.5, colsample_bynode=0.5, colsample_bytree=0.5, gamma=1, learning_rate=0.1, max_depth=8, min_child_weight=1, n_estimators=300, reg_alpha=0, reg_lambda=1, subsample=0.5; total time=   0.0s\n",
      "[CV] END colsample_bylevel=0.5, colsample_bynode=0.5, colsample_bytree=0.5, gamma=1, learning_rate=0.1, max_depth=8, min_child_weight=1, n_estimators=300, reg_alpha=0, reg_lambda=1, subsample=0.5; total time=   0.0s\n",
      "[CV] END colsample_bylevel=0.5, colsample_bynode=0.5, colsample_bytree=0.5, gamma=1, learning_rate=0.1, max_depth=8, min_child_weight=1, n_estimators=300, reg_alpha=0, reg_lambda=1, subsample=0.7; total time=   0.0s\n",
      "[CV] END colsample_bylevel=0.5, colsample_bynode=0.5, colsample_bytree=0.5, gamma=1, learning_rate=0.1, max_depth=8, min_child_weight=1, n_estimators=300, reg_alpha=0, reg_lambda=1, subsample=0.7; total time=   0.0s\n",
      "[CV] END colsample_bylevel=0.5, colsample_bynode=0.5, colsample_bytree=0.5, gamma=1, learning_rate=0.1, max_depth=8, min_child_weight=1, n_estimators=300, reg_alpha=0, reg_lambda=1, subsample=0.7; total time=   0.0s\n",
      "[CV] END colsample_bylevel=0.5, colsample_bynode=0.5, colsample_bytree=0.5, gamma=1, learning_rate=0.1, max_depth=8, min_child_weight=1, n_estimators=300, reg_alpha=0, reg_lambda=1, subsample=0.9; total time=   0.1s\n",
      "[CV] END colsample_bylevel=0.5, colsample_bynode=0.5, colsample_bytree=0.5, gamma=1, learning_rate=0.1, max_depth=8, min_child_weight=1, n_estimators=300, reg_alpha=0, reg_lambda=1, subsample=0.9; total time=   0.1s\n",
      "[CV] END colsample_bylevel=0.5, colsample_bynode=0.5, colsample_bytree=0.5, gamma=1, learning_rate=0.1, max_depth=8, min_child_weight=1, n_estimators=300, reg_alpha=0, reg_lambda=1, subsample=0.9; total time=   0.1s\n",
      "[CV] END colsample_bylevel=0.5, colsample_bynode=0.5, colsample_bytree=0.5, gamma=1, learning_rate=0.1, max_depth=8, min_child_weight=1, n_estimators=300, reg_alpha=0, reg_lambda=1.5, subsample=0.5; total time=   0.0s\n",
      "[CV] END colsample_bylevel=0.5, colsample_bynode=0.5, colsample_bytree=0.5, gamma=1, learning_rate=0.1, max_depth=8, min_child_weight=1, n_estimators=300, reg_alpha=0, reg_lambda=1.5, subsample=0.5; total time=   0.1s\n",
      "[CV] END colsample_bylevel=0.5, colsample_bynode=0.5, colsample_bytree=0.5, gamma=1, learning_rate=0.1, max_depth=8, min_child_weight=1, n_estimators=300, reg_alpha=0, reg_lambda=1.5, subsample=0.5; total time=   0.1s\n",
      "[CV] END colsample_bylevel=0.5, colsample_bynode=0.5, colsample_bytree=0.5, gamma=1, learning_rate=0.1, max_depth=8, min_child_weight=1, n_estimators=300, reg_alpha=0, reg_lambda=1.5, subsample=0.7; total time=   0.0s\n",
      "[CV] END colsample_bylevel=0.5, colsample_bynode=0.5, colsample_bytree=0.5, gamma=1, learning_rate=0.1, max_depth=8, min_child_weight=1, n_estimators=300, reg_alpha=0, reg_lambda=1.5, subsample=0.7; total time=   0.0s\n",
      "[CV] END colsample_bylevel=0.5, colsample_bynode=0.5, colsample_bytree=0.5, gamma=1, learning_rate=0.1, max_depth=8, min_child_weight=1, n_estimators=300, reg_alpha=0, reg_lambda=1.5, subsample=0.7; total time=   0.0s\n",
      "[CV] END colsample_bylevel=0.5, colsample_bynode=0.5, colsample_bytree=0.5, gamma=1, learning_rate=0.1, max_depth=8, min_child_weight=1, n_estimators=300, reg_alpha=0, reg_lambda=1.5, subsample=0.9; total time=   0.0s\n",
      "[CV] END colsample_bylevel=0.5, colsample_bynode=0.5, colsample_bytree=0.5, gamma=1, learning_rate=0.1, max_depth=8, min_child_weight=1, n_estimators=300, reg_alpha=0, reg_lambda=1.5, subsample=0.9; total time=   0.1s\n",
      "[CV] END colsample_bylevel=0.5, colsample_bynode=0.5, colsample_bytree=0.5, gamma=1, learning_rate=0.1, max_depth=8, min_child_weight=1, n_estimators=300, reg_alpha=0, reg_lambda=1.5, subsample=0.9; total time=   0.0s\n",
      "[CV] END colsample_bylevel=0.5, colsample_bynode=0.5, colsample_bytree=0.5, gamma=1, learning_rate=0.1, max_depth=8, min_child_weight=1, n_estimators=300, reg_alpha=0, reg_lambda=2, subsample=0.5; total time=   0.1s\n",
      "[CV] END colsample_bylevel=0.5, colsample_bynode=0.5, colsample_bytree=0.5, gamma=1, learning_rate=0.1, max_depth=8, min_child_weight=1, n_estimators=300, reg_alpha=0, reg_lambda=2, subsample=0.5; total time=   0.1s\n",
      "[CV] END colsample_bylevel=0.5, colsample_bynode=0.5, colsample_bytree=0.5, gamma=1, learning_rate=0.1, max_depth=8, min_child_weight=1, n_estimators=300, reg_alpha=0, reg_lambda=2, subsample=0.5; total time=   0.1s\n",
      "[CV] END colsample_bylevel=0.5, colsample_bynode=0.5, colsample_bytree=0.5, gamma=1, learning_rate=0.1, max_depth=8, min_child_weight=1, n_estimators=300, reg_alpha=0, reg_lambda=2, subsample=0.7; total time=   0.1s\n",
      "[CV] END colsample_bylevel=0.5, colsample_bynode=0.5, colsample_bytree=0.5, gamma=1, learning_rate=0.1, max_depth=8, min_child_weight=1, n_estimators=300, reg_alpha=0, reg_lambda=2, subsample=0.7; total time=   0.0s\n",
      "[CV] END colsample_bylevel=0.5, colsample_bynode=0.5, colsample_bytree=0.5, gamma=1, learning_rate=0.1, max_depth=8, min_child_weight=1, n_estimators=300, reg_alpha=0, reg_lambda=2, subsample=0.7; total time=   0.0s\n",
      "[CV] END colsample_bylevel=0.5, colsample_bynode=0.5, colsample_bytree=0.5, gamma=1, learning_rate=0.1, max_depth=8, min_child_weight=1, n_estimators=300, reg_alpha=0, reg_lambda=2, subsample=0.9; total time=   0.0s\n",
      "[CV] END colsample_bylevel=0.5, colsample_bynode=0.5, colsample_bytree=0.5, gamma=1, learning_rate=0.1, max_depth=8, min_child_weight=1, n_estimators=300, reg_alpha=0, reg_lambda=2, subsample=0.9; total time=   0.0s\n",
      "[CV] END colsample_bylevel=0.5, colsample_bynode=0.5, colsample_bytree=0.5, gamma=1, learning_rate=0.1, max_depth=8, min_child_weight=1, n_estimators=300, reg_alpha=0, reg_lambda=2, subsample=0.9; total time=   0.0s\n",
      "[CV] END colsample_bylevel=0.5, colsample_bynode=0.5, colsample_bytree=0.5, gamma=1, learning_rate=0.1, max_depth=8, min_child_weight=1, n_estimators=300, reg_alpha=0.5, reg_lambda=1, subsample=0.5; total time=   0.0s\n",
      "[CV] END colsample_bylevel=0.5, colsample_bynode=0.5, colsample_bytree=0.5, gamma=1, learning_rate=0.1, max_depth=8, min_child_weight=1, n_estimators=300, reg_alpha=0.5, reg_lambda=1, subsample=0.5; total time=   0.1s\n",
      "[CV] END colsample_bylevel=0.5, colsample_bynode=0.5, colsample_bytree=0.5, gamma=1, learning_rate=0.1, max_depth=8, min_child_weight=1, n_estimators=300, reg_alpha=0.5, reg_lambda=1, subsample=0.5; total time=   0.0s\n",
      "[CV] END colsample_bylevel=0.5, colsample_bynode=0.5, colsample_bytree=0.5, gamma=1, learning_rate=0.1, max_depth=8, min_child_weight=1, n_estimators=300, reg_alpha=0.5, reg_lambda=1, subsample=0.7; total time=   0.0s\n",
      "[CV] END colsample_bylevel=0.5, colsample_bynode=0.5, colsample_bytree=0.5, gamma=1, learning_rate=0.1, max_depth=8, min_child_weight=1, n_estimators=300, reg_alpha=0.5, reg_lambda=1, subsample=0.7; total time=   0.0s\n",
      "[CV] END colsample_bylevel=0.5, colsample_bynode=0.5, colsample_bytree=0.5, gamma=1, learning_rate=0.1, max_depth=8, min_child_weight=1, n_estimators=300, reg_alpha=0.5, reg_lambda=1, subsample=0.7; total time=   0.1s\n",
      "[CV] END colsample_bylevel=0.5, colsample_bynode=0.5, colsample_bytree=0.5, gamma=1, learning_rate=0.1, max_depth=8, min_child_weight=1, n_estimators=300, reg_alpha=0.5, reg_lambda=1, subsample=0.9; total time=   0.0s\n",
      "[CV] END colsample_bylevel=0.5, colsample_bynode=0.5, colsample_bytree=0.5, gamma=1, learning_rate=0.1, max_depth=8, min_child_weight=1, n_estimators=300, reg_alpha=0.5, reg_lambda=1, subsample=0.9; total time=   0.0s\n",
      "[CV] END colsample_bylevel=0.5, colsample_bynode=0.5, colsample_bytree=0.5, gamma=1, learning_rate=0.1, max_depth=8, min_child_weight=1, n_estimators=300, reg_alpha=0.5, reg_lambda=1, subsample=0.9; total time=   0.0s\n",
      "[CV] END colsample_bylevel=0.5, colsample_bynode=0.5, colsample_bytree=0.5, gamma=1, learning_rate=0.1, max_depth=8, min_child_weight=1, n_estimators=300, reg_alpha=0.5, reg_lambda=1.5, subsample=0.5; total time=   0.0s\n",
      "[CV] END colsample_bylevel=0.5, colsample_bynode=0.5, colsample_bytree=0.5, gamma=1, learning_rate=0.1, max_depth=8, min_child_weight=1, n_estimators=300, reg_alpha=0.5, reg_lambda=1.5, subsample=0.5; total time=   0.0s\n",
      "[CV] END colsample_bylevel=0.5, colsample_bynode=0.5, colsample_bytree=0.5, gamma=1, learning_rate=0.1, max_depth=8, min_child_weight=1, n_estimators=300, reg_alpha=0.5, reg_lambda=1.5, subsample=0.5; total time=   0.0s\n",
      "[CV] END colsample_bylevel=0.5, colsample_bynode=0.5, colsample_bytree=0.5, gamma=1, learning_rate=0.1, max_depth=8, min_child_weight=1, n_estimators=300, reg_alpha=0.5, reg_lambda=1.5, subsample=0.7; total time=   0.0s\n",
      "[CV] END colsample_bylevel=0.5, colsample_bynode=0.5, colsample_bytree=0.5, gamma=1, learning_rate=0.1, max_depth=8, min_child_weight=1, n_estimators=300, reg_alpha=0.5, reg_lambda=1.5, subsample=0.7; total time=   0.0s\n",
      "[CV] END colsample_bylevel=0.5, colsample_bynode=0.5, colsample_bytree=0.5, gamma=1, learning_rate=0.1, max_depth=8, min_child_weight=1, n_estimators=300, reg_alpha=0.5, reg_lambda=1.5, subsample=0.7; total time=   0.0s\n",
      "[CV] END colsample_bylevel=0.5, colsample_bynode=0.5, colsample_bytree=0.5, gamma=1, learning_rate=0.1, max_depth=8, min_child_weight=1, n_estimators=300, reg_alpha=0.5, reg_lambda=1.5, subsample=0.9; total time=   0.0s\n",
      "[CV] END colsample_bylevel=0.5, colsample_bynode=0.5, colsample_bytree=0.5, gamma=1, learning_rate=0.1, max_depth=8, min_child_weight=1, n_estimators=300, reg_alpha=0.5, reg_lambda=1.5, subsample=0.9; total time=   0.0s\n",
      "[CV] END colsample_bylevel=0.5, colsample_bynode=0.5, colsample_bytree=0.5, gamma=1, learning_rate=0.1, max_depth=8, min_child_weight=1, n_estimators=300, reg_alpha=0.5, reg_lambda=1.5, subsample=0.9; total time=   0.0s\n",
      "[CV] END colsample_bylevel=0.5, colsample_bynode=0.5, colsample_bytree=0.5, gamma=1, learning_rate=0.1, max_depth=8, min_child_weight=1, n_estimators=300, reg_alpha=0.5, reg_lambda=2, subsample=0.5; total time=   0.0s\n",
      "[CV] END colsample_bylevel=0.5, colsample_bynode=0.5, colsample_bytree=0.5, gamma=1, learning_rate=0.1, max_depth=8, min_child_weight=1, n_estimators=300, reg_alpha=0.5, reg_lambda=2, subsample=0.5; total time=   0.1s\n",
      "[CV] END colsample_bylevel=0.5, colsample_bynode=0.5, colsample_bytree=0.5, gamma=1, learning_rate=0.1, max_depth=8, min_child_weight=1, n_estimators=300, reg_alpha=0.5, reg_lambda=2, subsample=0.5; total time=   0.0s\n",
      "[CV] END colsample_bylevel=0.5, colsample_bynode=0.5, colsample_bytree=0.5, gamma=1, learning_rate=0.1, max_depth=8, min_child_weight=1, n_estimators=300, reg_alpha=0.5, reg_lambda=2, subsample=0.7; total time=   0.0s\n",
      "[CV] END colsample_bylevel=0.5, colsample_bynode=0.5, colsample_bytree=0.5, gamma=1, learning_rate=0.1, max_depth=8, min_child_weight=1, n_estimators=300, reg_alpha=0.5, reg_lambda=2, subsample=0.7; total time=   0.0s\n",
      "[CV] END colsample_bylevel=0.5, colsample_bynode=0.5, colsample_bytree=0.5, gamma=1, learning_rate=0.1, max_depth=8, min_child_weight=1, n_estimators=300, reg_alpha=0.5, reg_lambda=2, subsample=0.7; total time=   0.0s\n",
      "[CV] END colsample_bylevel=0.5, colsample_bynode=0.5, colsample_bytree=0.5, gamma=1, learning_rate=0.1, max_depth=8, min_child_weight=1, n_estimators=300, reg_alpha=0.5, reg_lambda=2, subsample=0.9; total time=   0.0s\n",
      "[CV] END colsample_bylevel=0.5, colsample_bynode=0.5, colsample_bytree=0.5, gamma=1, learning_rate=0.1, max_depth=8, min_child_weight=1, n_estimators=300, reg_alpha=0.5, reg_lambda=2, subsample=0.9; total time=   0.0s\n",
      "[CV] END colsample_bylevel=0.5, colsample_bynode=0.5, colsample_bytree=0.5, gamma=1, learning_rate=0.1, max_depth=8, min_child_weight=1, n_estimators=300, reg_alpha=0.5, reg_lambda=2, subsample=0.9; total time=   0.0s\n",
      "[CV] END colsample_bylevel=0.5, colsample_bynode=0.5, colsample_bytree=0.5, gamma=1, learning_rate=0.1, max_depth=8, min_child_weight=1, n_estimators=300, reg_alpha=1, reg_lambda=1, subsample=0.5; total time=   0.1s\n",
      "[CV] END colsample_bylevel=0.5, colsample_bynode=0.5, colsample_bytree=0.5, gamma=1, learning_rate=0.1, max_depth=8, min_child_weight=1, n_estimators=300, reg_alpha=1, reg_lambda=1, subsample=0.5; total time=   0.1s\n",
      "[CV] END colsample_bylevel=0.5, colsample_bynode=0.5, colsample_bytree=0.5, gamma=1, learning_rate=0.1, max_depth=8, min_child_weight=1, n_estimators=300, reg_alpha=1, reg_lambda=1, subsample=0.5; total time=   0.1s\n",
      "[CV] END colsample_bylevel=0.5, colsample_bynode=0.5, colsample_bytree=0.5, gamma=1, learning_rate=0.1, max_depth=8, min_child_weight=1, n_estimators=300, reg_alpha=1, reg_lambda=1, subsample=0.7; total time=   0.1s\n",
      "[CV] END colsample_bylevel=0.5, colsample_bynode=0.5, colsample_bytree=0.5, gamma=1, learning_rate=0.1, max_depth=8, min_child_weight=1, n_estimators=300, reg_alpha=1, reg_lambda=1, subsample=0.7; total time=   0.1s\n",
      "[CV] END colsample_bylevel=0.5, colsample_bynode=0.5, colsample_bytree=0.5, gamma=1, learning_rate=0.1, max_depth=8, min_child_weight=1, n_estimators=300, reg_alpha=1, reg_lambda=1, subsample=0.7; total time=   0.1s\n",
      "[CV] END colsample_bylevel=0.5, colsample_bynode=0.5, colsample_bytree=0.5, gamma=1, learning_rate=0.1, max_depth=8, min_child_weight=1, n_estimators=300, reg_alpha=1, reg_lambda=1, subsample=0.9; total time=   0.1s\n",
      "[CV] END colsample_bylevel=0.5, colsample_bynode=0.5, colsample_bytree=0.5, gamma=1, learning_rate=0.1, max_depth=8, min_child_weight=1, n_estimators=300, reg_alpha=1, reg_lambda=1, subsample=0.9; total time=   0.1s\n",
      "[CV] END colsample_bylevel=0.5, colsample_bynode=0.5, colsample_bytree=0.5, gamma=1, learning_rate=0.1, max_depth=8, min_child_weight=1, n_estimators=300, reg_alpha=1, reg_lambda=1, subsample=0.9; total time=   0.1s\n",
      "[CV] END colsample_bylevel=0.5, colsample_bynode=0.5, colsample_bytree=0.5, gamma=1, learning_rate=0.1, max_depth=8, min_child_weight=1, n_estimators=300, reg_alpha=1, reg_lambda=1.5, subsample=0.5; total time=   0.1s\n",
      "[CV] END colsample_bylevel=0.5, colsample_bynode=0.5, colsample_bytree=0.5, gamma=1, learning_rate=0.1, max_depth=8, min_child_weight=1, n_estimators=300, reg_alpha=1, reg_lambda=1.5, subsample=0.5; total time=   0.1s\n",
      "[CV] END colsample_bylevel=0.5, colsample_bynode=0.5, colsample_bytree=0.5, gamma=1, learning_rate=0.1, max_depth=8, min_child_weight=1, n_estimators=300, reg_alpha=1, reg_lambda=1.5, subsample=0.5; total time=   0.1s\n",
      "[CV] END colsample_bylevel=0.5, colsample_bynode=0.5, colsample_bytree=0.5, gamma=1, learning_rate=0.1, max_depth=8, min_child_weight=1, n_estimators=300, reg_alpha=1, reg_lambda=1.5, subsample=0.7; total time=   0.1s\n",
      "[CV] END colsample_bylevel=0.5, colsample_bynode=0.5, colsample_bytree=0.5, gamma=1, learning_rate=0.1, max_depth=8, min_child_weight=1, n_estimators=300, reg_alpha=1, reg_lambda=1.5, subsample=0.7; total time=   0.1s\n",
      "[CV] END colsample_bylevel=0.5, colsample_bynode=0.5, colsample_bytree=0.5, gamma=1, learning_rate=0.1, max_depth=8, min_child_weight=1, n_estimators=300, reg_alpha=1, reg_lambda=1.5, subsample=0.7; total time=   0.1s\n",
      "[CV] END colsample_bylevel=0.5, colsample_bynode=0.5, colsample_bytree=0.5, gamma=1, learning_rate=0.1, max_depth=8, min_child_weight=1, n_estimators=300, reg_alpha=1, reg_lambda=1.5, subsample=0.9; total time=   0.1s\n",
      "[CV] END colsample_bylevel=0.5, colsample_bynode=0.5, colsample_bytree=0.5, gamma=1, learning_rate=0.1, max_depth=8, min_child_weight=1, n_estimators=300, reg_alpha=1, reg_lambda=1.5, subsample=0.9; total time=   0.1s\n",
      "[CV] END colsample_bylevel=0.5, colsample_bynode=0.5, colsample_bytree=0.5, gamma=1, learning_rate=0.1, max_depth=8, min_child_weight=1, n_estimators=300, reg_alpha=1, reg_lambda=1.5, subsample=0.9; total time=   0.1s\n",
      "[CV] END colsample_bylevel=0.5, colsample_bynode=0.5, colsample_bytree=0.5, gamma=1, learning_rate=0.1, max_depth=8, min_child_weight=1, n_estimators=300, reg_alpha=1, reg_lambda=2, subsample=0.5; total time=   0.1s\n",
      "[CV] END colsample_bylevel=0.5, colsample_bynode=0.5, colsample_bytree=0.5, gamma=1, learning_rate=0.1, max_depth=8, min_child_weight=1, n_estimators=300, reg_alpha=1, reg_lambda=2, subsample=0.5; total time=   0.1s\n",
      "[CV] END colsample_bylevel=0.5, colsample_bynode=0.5, colsample_bytree=0.5, gamma=1, learning_rate=0.1, max_depth=8, min_child_weight=1, n_estimators=300, reg_alpha=1, reg_lambda=2, subsample=0.5; total time=   0.1s\n",
      "[CV] END colsample_bylevel=0.5, colsample_bynode=0.5, colsample_bytree=0.5, gamma=1, learning_rate=0.1, max_depth=8, min_child_weight=1, n_estimators=300, reg_alpha=1, reg_lambda=2, subsample=0.7; total time=   0.1s\n",
      "[CV] END colsample_bylevel=0.5, colsample_bynode=0.5, colsample_bytree=0.5, gamma=1, learning_rate=0.1, max_depth=8, min_child_weight=1, n_estimators=300, reg_alpha=1, reg_lambda=2, subsample=0.7; total time=   0.1s\n",
      "[CV] END colsample_bylevel=0.5, colsample_bynode=0.5, colsample_bytree=0.5, gamma=1, learning_rate=0.1, max_depth=8, min_child_weight=1, n_estimators=300, reg_alpha=1, reg_lambda=2, subsample=0.7; total time=   0.1s\n",
      "[CV] END colsample_bylevel=0.5, colsample_bynode=0.5, colsample_bytree=0.5, gamma=1, learning_rate=0.1, max_depth=8, min_child_weight=1, n_estimators=300, reg_alpha=1, reg_lambda=2, subsample=0.9; total time=   0.1s\n",
      "[CV] END colsample_bylevel=0.5, colsample_bynode=0.5, colsample_bytree=0.5, gamma=1, learning_rate=0.1, max_depth=8, min_child_weight=1, n_estimators=300, reg_alpha=1, reg_lambda=2, subsample=0.9; total time=   0.0s\n",
      "[CV] END colsample_bylevel=0.5, colsample_bynode=0.5, colsample_bytree=0.5, gamma=1, learning_rate=0.1, max_depth=8, min_child_weight=1, n_estimators=300, reg_alpha=1, reg_lambda=2, subsample=0.9; total time=   0.0s\n",
      "[CV] END colsample_bylevel=0.5, colsample_bynode=0.5, colsample_bytree=0.5, gamma=1, learning_rate=0.1, max_depth=8, min_child_weight=5, n_estimators=100, reg_alpha=0, reg_lambda=1, subsample=0.5; total time=   0.0s\n",
      "[CV] END colsample_bylevel=0.5, colsample_bynode=0.5, colsample_bytree=0.5, gamma=1, learning_rate=0.1, max_depth=8, min_child_weight=5, n_estimators=100, reg_alpha=0, reg_lambda=1, subsample=0.5; total time=   0.0s\n",
      "[CV] END colsample_bylevel=0.5, colsample_bynode=0.5, colsample_bytree=0.5, gamma=1, learning_rate=0.1, max_depth=8, min_child_weight=5, n_estimators=100, reg_alpha=0, reg_lambda=1, subsample=0.5; total time=   0.0s\n",
      "[CV] END colsample_bylevel=0.5, colsample_bynode=0.5, colsample_bytree=0.5, gamma=1, learning_rate=0.1, max_depth=8, min_child_weight=5, n_estimators=100, reg_alpha=0, reg_lambda=1, subsample=0.7; total time=   0.0s\n",
      "[CV] END colsample_bylevel=0.5, colsample_bynode=0.5, colsample_bytree=0.5, gamma=1, learning_rate=0.1, max_depth=8, min_child_weight=5, n_estimators=100, reg_alpha=0, reg_lambda=1, subsample=0.7; total time=   0.0s\n",
      "[CV] END colsample_bylevel=0.5, colsample_bynode=0.5, colsample_bytree=0.5, gamma=1, learning_rate=0.1, max_depth=8, min_child_weight=5, n_estimators=100, reg_alpha=0, reg_lambda=1, subsample=0.7; total time=   0.0s\n",
      "[CV] END colsample_bylevel=0.5, colsample_bynode=0.5, colsample_bytree=0.5, gamma=1, learning_rate=0.1, max_depth=8, min_child_weight=5, n_estimators=100, reg_alpha=0, reg_lambda=1, subsample=0.9; total time=   0.0s\n",
      "[CV] END colsample_bylevel=0.5, colsample_bynode=0.5, colsample_bytree=0.5, gamma=1, learning_rate=0.1, max_depth=8, min_child_weight=5, n_estimators=100, reg_alpha=0, reg_lambda=1, subsample=0.9; total time=   0.1s\n",
      "[CV] END colsample_bylevel=0.5, colsample_bynode=0.5, colsample_bytree=0.5, gamma=1, learning_rate=0.1, max_depth=8, min_child_weight=5, n_estimators=100, reg_alpha=0, reg_lambda=1, subsample=0.9; total time=   0.0s\n",
      "[CV] END colsample_bylevel=0.5, colsample_bynode=0.5, colsample_bytree=0.5, gamma=1, learning_rate=0.1, max_depth=8, min_child_weight=5, n_estimators=100, reg_alpha=0, reg_lambda=1.5, subsample=0.5; total time=   0.0s\n",
      "[CV] END colsample_bylevel=0.5, colsample_bynode=0.5, colsample_bytree=0.5, gamma=1, learning_rate=0.1, max_depth=8, min_child_weight=5, n_estimators=100, reg_alpha=0, reg_lambda=1.5, subsample=0.5; total time=   0.1s\n",
      "[CV] END colsample_bylevel=0.5, colsample_bynode=0.5, colsample_bytree=0.5, gamma=1, learning_rate=0.1, max_depth=8, min_child_weight=5, n_estimators=100, reg_alpha=0, reg_lambda=1.5, subsample=0.5; total time=   0.1s\n",
      "[CV] END colsample_bylevel=0.5, colsample_bynode=0.5, colsample_bytree=0.5, gamma=1, learning_rate=0.1, max_depth=8, min_child_weight=5, n_estimators=100, reg_alpha=0, reg_lambda=1.5, subsample=0.7; total time=   0.1s\n",
      "[CV] END colsample_bylevel=0.5, colsample_bynode=0.5, colsample_bytree=0.5, gamma=1, learning_rate=0.1, max_depth=8, min_child_weight=5, n_estimators=100, reg_alpha=0, reg_lambda=1.5, subsample=0.7; total time=   0.0s\n",
      "[CV] END colsample_bylevel=0.5, colsample_bynode=0.5, colsample_bytree=0.5, gamma=1, learning_rate=0.1, max_depth=8, min_child_weight=5, n_estimators=100, reg_alpha=0, reg_lambda=1.5, subsample=0.7; total time=   0.0s\n",
      "[CV] END colsample_bylevel=0.5, colsample_bynode=0.5, colsample_bytree=0.5, gamma=1, learning_rate=0.1, max_depth=8, min_child_weight=5, n_estimators=100, reg_alpha=0, reg_lambda=1.5, subsample=0.9; total time=   0.0s\n",
      "[CV] END colsample_bylevel=0.5, colsample_bynode=0.5, colsample_bytree=0.5, gamma=1, learning_rate=0.1, max_depth=8, min_child_weight=5, n_estimators=100, reg_alpha=0, reg_lambda=1.5, subsample=0.9; total time=   0.1s\n",
      "[CV] END colsample_bylevel=0.5, colsample_bynode=0.5, colsample_bytree=0.5, gamma=1, learning_rate=0.1, max_depth=8, min_child_weight=5, n_estimators=100, reg_alpha=0, reg_lambda=1.5, subsample=0.9; total time=   0.0s\n",
      "[CV] END colsample_bylevel=0.5, colsample_bynode=0.5, colsample_bytree=0.5, gamma=1, learning_rate=0.1, max_depth=8, min_child_weight=5, n_estimators=100, reg_alpha=0, reg_lambda=2, subsample=0.5; total time=   0.0s\n",
      "[CV] END colsample_bylevel=0.5, colsample_bynode=0.5, colsample_bytree=0.5, gamma=1, learning_rate=0.1, max_depth=8, min_child_weight=5, n_estimators=100, reg_alpha=0, reg_lambda=2, subsample=0.5; total time=   0.1s\n",
      "[CV] END colsample_bylevel=0.5, colsample_bynode=0.5, colsample_bytree=0.5, gamma=1, learning_rate=0.1, max_depth=8, min_child_weight=5, n_estimators=100, reg_alpha=0, reg_lambda=2, subsample=0.5; total time=   0.1s\n",
      "[CV] END colsample_bylevel=0.5, colsample_bynode=0.5, colsample_bytree=0.5, gamma=1, learning_rate=0.1, max_depth=8, min_child_weight=5, n_estimators=100, reg_alpha=0, reg_lambda=2, subsample=0.7; total time=   0.1s\n",
      "[CV] END colsample_bylevel=0.5, colsample_bynode=0.5, colsample_bytree=0.5, gamma=1, learning_rate=0.1, max_depth=8, min_child_weight=5, n_estimators=100, reg_alpha=0, reg_lambda=2, subsample=0.7; total time=   0.1s\n",
      "[CV] END colsample_bylevel=0.5, colsample_bynode=0.5, colsample_bytree=0.5, gamma=1, learning_rate=0.1, max_depth=8, min_child_weight=5, n_estimators=100, reg_alpha=0, reg_lambda=2, subsample=0.7; total time=   0.0s\n",
      "[CV] END colsample_bylevel=0.5, colsample_bynode=0.5, colsample_bytree=0.5, gamma=1, learning_rate=0.1, max_depth=8, min_child_weight=5, n_estimators=100, reg_alpha=0, reg_lambda=2, subsample=0.9; total time=   0.0s\n",
      "[CV] END colsample_bylevel=0.5, colsample_bynode=0.5, colsample_bytree=0.5, gamma=1, learning_rate=0.1, max_depth=8, min_child_weight=5, n_estimators=100, reg_alpha=0, reg_lambda=2, subsample=0.9; total time=   0.1s\n",
      "[CV] END colsample_bylevel=0.5, colsample_bynode=0.5, colsample_bytree=0.5, gamma=1, learning_rate=0.1, max_depth=8, min_child_weight=5, n_estimators=100, reg_alpha=0, reg_lambda=2, subsample=0.9; total time=   0.0s\n",
      "[CV] END colsample_bylevel=0.5, colsample_bynode=0.5, colsample_bytree=0.5, gamma=1, learning_rate=0.1, max_depth=8, min_child_weight=5, n_estimators=100, reg_alpha=0.5, reg_lambda=1, subsample=0.5; total time=   0.0s\n",
      "[CV] END colsample_bylevel=0.5, colsample_bynode=0.5, colsample_bytree=0.5, gamma=1, learning_rate=0.1, max_depth=8, min_child_weight=5, n_estimators=100, reg_alpha=0.5, reg_lambda=1, subsample=0.5; total time=   0.0s\n",
      "[CV] END colsample_bylevel=0.5, colsample_bynode=0.5, colsample_bytree=0.5, gamma=1, learning_rate=0.1, max_depth=8, min_child_weight=5, n_estimators=100, reg_alpha=0.5, reg_lambda=1, subsample=0.5; total time=   0.0s\n",
      "[CV] END colsample_bylevel=0.5, colsample_bynode=0.5, colsample_bytree=0.5, gamma=1, learning_rate=0.1, max_depth=8, min_child_weight=5, n_estimators=100, reg_alpha=0.5, reg_lambda=1, subsample=0.7; total time=   0.0s\n",
      "[CV] END colsample_bylevel=0.5, colsample_bynode=0.5, colsample_bytree=0.5, gamma=1, learning_rate=0.1, max_depth=8, min_child_weight=5, n_estimators=100, reg_alpha=0.5, reg_lambda=1, subsample=0.7; total time=   0.0s\n",
      "[CV] END colsample_bylevel=0.5, colsample_bynode=0.5, colsample_bytree=0.5, gamma=1, learning_rate=0.1, max_depth=8, min_child_weight=5, n_estimators=100, reg_alpha=0.5, reg_lambda=1, subsample=0.7; total time=   0.0s\n",
      "[CV] END colsample_bylevel=0.5, colsample_bynode=0.5, colsample_bytree=0.5, gamma=1, learning_rate=0.1, max_depth=8, min_child_weight=5, n_estimators=100, reg_alpha=0.5, reg_lambda=1, subsample=0.9; total time=   0.1s\n",
      "[CV] END colsample_bylevel=0.5, colsample_bynode=0.5, colsample_bytree=0.5, gamma=1, learning_rate=0.1, max_depth=8, min_child_weight=5, n_estimators=100, reg_alpha=0.5, reg_lambda=1, subsample=0.9; total time=   0.0s\n",
      "[CV] END colsample_bylevel=0.5, colsample_bynode=0.5, colsample_bytree=0.5, gamma=1, learning_rate=0.1, max_depth=8, min_child_weight=5, n_estimators=100, reg_alpha=0.5, reg_lambda=1, subsample=0.9; total time=   0.1s\n",
      "[CV] END colsample_bylevel=0.5, colsample_bynode=0.5, colsample_bytree=0.5, gamma=1, learning_rate=0.1, max_depth=8, min_child_weight=5, n_estimators=100, reg_alpha=0.5, reg_lambda=1.5, subsample=0.5; total time=   0.1s\n",
      "[CV] END colsample_bylevel=0.5, colsample_bynode=0.5, colsample_bytree=0.5, gamma=1, learning_rate=0.1, max_depth=8, min_child_weight=5, n_estimators=100, reg_alpha=0.5, reg_lambda=1.5, subsample=0.5; total time=   0.1s\n",
      "[CV] END colsample_bylevel=0.5, colsample_bynode=0.5, colsample_bytree=0.5, gamma=1, learning_rate=0.1, max_depth=8, min_child_weight=5, n_estimators=100, reg_alpha=0.5, reg_lambda=1.5, subsample=0.5; total time=   0.1s\n",
      "[CV] END colsample_bylevel=0.5, colsample_bynode=0.5, colsample_bytree=0.5, gamma=1, learning_rate=0.1, max_depth=8, min_child_weight=5, n_estimators=100, reg_alpha=0.5, reg_lambda=1.5, subsample=0.7; total time=   0.1s\n",
      "[CV] END colsample_bylevel=0.5, colsample_bynode=0.5, colsample_bytree=0.5, gamma=1, learning_rate=0.1, max_depth=8, min_child_weight=5, n_estimators=100, reg_alpha=0.5, reg_lambda=1.5, subsample=0.7; total time=   0.1s\n",
      "[CV] END colsample_bylevel=0.5, colsample_bynode=0.5, colsample_bytree=0.5, gamma=1, learning_rate=0.1, max_depth=8, min_child_weight=5, n_estimators=100, reg_alpha=0.5, reg_lambda=1.5, subsample=0.7; total time=   0.1s\n",
      "[CV] END colsample_bylevel=0.5, colsample_bynode=0.5, colsample_bytree=0.5, gamma=1, learning_rate=0.1, max_depth=8, min_child_weight=5, n_estimators=100, reg_alpha=0.5, reg_lambda=1.5, subsample=0.9; total time=   0.1s\n",
      "[CV] END colsample_bylevel=0.5, colsample_bynode=0.5, colsample_bytree=0.5, gamma=1, learning_rate=0.1, max_depth=8, min_child_weight=5, n_estimators=100, reg_alpha=0.5, reg_lambda=1.5, subsample=0.9; total time=   0.1s\n",
      "[CV] END colsample_bylevel=0.5, colsample_bynode=0.5, colsample_bytree=0.5, gamma=1, learning_rate=0.1, max_depth=8, min_child_weight=5, n_estimators=100, reg_alpha=0.5, reg_lambda=1.5, subsample=0.9; total time=   0.1s\n",
      "[CV] END colsample_bylevel=0.5, colsample_bynode=0.5, colsample_bytree=0.5, gamma=1, learning_rate=0.1, max_depth=8, min_child_weight=5, n_estimators=100, reg_alpha=0.5, reg_lambda=2, subsample=0.5; total time=   0.1s\n",
      "[CV] END colsample_bylevel=0.5, colsample_bynode=0.5, colsample_bytree=0.5, gamma=1, learning_rate=0.1, max_depth=8, min_child_weight=5, n_estimators=100, reg_alpha=0.5, reg_lambda=2, subsample=0.5; total time=   0.1s\n",
      "[CV] END colsample_bylevel=0.5, colsample_bynode=0.5, colsample_bytree=0.5, gamma=1, learning_rate=0.1, max_depth=8, min_child_weight=5, n_estimators=100, reg_alpha=0.5, reg_lambda=2, subsample=0.5; total time=   0.1s\n",
      "[CV] END colsample_bylevel=0.5, colsample_bynode=0.5, colsample_bytree=0.5, gamma=1, learning_rate=0.1, max_depth=8, min_child_weight=5, n_estimators=100, reg_alpha=0.5, reg_lambda=2, subsample=0.7; total time=   0.1s\n",
      "[CV] END colsample_bylevel=0.5, colsample_bynode=0.5, colsample_bytree=0.5, gamma=1, learning_rate=0.1, max_depth=8, min_child_weight=5, n_estimators=100, reg_alpha=0.5, reg_lambda=2, subsample=0.7; total time=   0.1s\n",
      "[CV] END colsample_bylevel=0.5, colsample_bynode=0.5, colsample_bytree=0.5, gamma=1, learning_rate=0.1, max_depth=8, min_child_weight=5, n_estimators=100, reg_alpha=0.5, reg_lambda=2, subsample=0.7; total time=   0.1s\n",
      "[CV] END colsample_bylevel=0.5, colsample_bynode=0.5, colsample_bytree=0.5, gamma=1, learning_rate=0.1, max_depth=8, min_child_weight=5, n_estimators=100, reg_alpha=0.5, reg_lambda=2, subsample=0.9; total time=   0.1s\n",
      "[CV] END colsample_bylevel=0.5, colsample_bynode=0.5, colsample_bytree=0.5, gamma=1, learning_rate=0.1, max_depth=8, min_child_weight=5, n_estimators=100, reg_alpha=0.5, reg_lambda=2, subsample=0.9; total time=   0.1s\n",
      "[CV] END colsample_bylevel=0.5, colsample_bynode=0.5, colsample_bytree=0.5, gamma=1, learning_rate=0.1, max_depth=8, min_child_weight=5, n_estimators=100, reg_alpha=0.5, reg_lambda=2, subsample=0.9; total time=   0.1s\n",
      "[CV] END colsample_bylevel=0.5, colsample_bynode=0.5, colsample_bytree=0.5, gamma=1, learning_rate=0.1, max_depth=8, min_child_weight=5, n_estimators=100, reg_alpha=1, reg_lambda=1, subsample=0.5; total time=   0.1s\n",
      "[CV] END colsample_bylevel=0.5, colsample_bynode=0.5, colsample_bytree=0.5, gamma=1, learning_rate=0.1, max_depth=8, min_child_weight=5, n_estimators=100, reg_alpha=1, reg_lambda=1, subsample=0.5; total time=   0.1s\n",
      "[CV] END colsample_bylevel=0.5, colsample_bynode=0.5, colsample_bytree=0.5, gamma=1, learning_rate=0.1, max_depth=8, min_child_weight=5, n_estimators=100, reg_alpha=1, reg_lambda=1, subsample=0.5; total time=   0.1s\n",
      "[CV] END colsample_bylevel=0.5, colsample_bynode=0.5, colsample_bytree=0.5, gamma=1, learning_rate=0.1, max_depth=8, min_child_weight=5, n_estimators=100, reg_alpha=1, reg_lambda=1, subsample=0.7; total time=   0.1s\n",
      "[CV] END colsample_bylevel=0.5, colsample_bynode=0.5, colsample_bytree=0.5, gamma=1, learning_rate=0.1, max_depth=8, min_child_weight=5, n_estimators=100, reg_alpha=1, reg_lambda=1, subsample=0.7; total time=   0.1s\n",
      "[CV] END colsample_bylevel=0.5, colsample_bynode=0.5, colsample_bytree=0.5, gamma=1, learning_rate=0.1, max_depth=8, min_child_weight=5, n_estimators=100, reg_alpha=1, reg_lambda=1, subsample=0.7; total time=   0.1s\n",
      "[CV] END colsample_bylevel=0.5, colsample_bynode=0.5, colsample_bytree=0.5, gamma=1, learning_rate=0.1, max_depth=8, min_child_weight=5, n_estimators=100, reg_alpha=1, reg_lambda=1, subsample=0.9; total time=   0.1s\n",
      "[CV] END colsample_bylevel=0.5, colsample_bynode=0.5, colsample_bytree=0.5, gamma=1, learning_rate=0.1, max_depth=8, min_child_weight=5, n_estimators=100, reg_alpha=1, reg_lambda=1, subsample=0.9; total time=   0.1s\n",
      "[CV] END colsample_bylevel=0.5, colsample_bynode=0.5, colsample_bytree=0.5, gamma=1, learning_rate=0.1, max_depth=8, min_child_weight=5, n_estimators=100, reg_alpha=1, reg_lambda=1, subsample=0.9; total time=   0.0s\n",
      "[CV] END colsample_bylevel=0.5, colsample_bynode=0.5, colsample_bytree=0.5, gamma=1, learning_rate=0.1, max_depth=8, min_child_weight=5, n_estimators=100, reg_alpha=1, reg_lambda=1.5, subsample=0.5; total time=   0.1s\n",
      "[CV] END colsample_bylevel=0.5, colsample_bynode=0.5, colsample_bytree=0.5, gamma=1, learning_rate=0.1, max_depth=8, min_child_weight=5, n_estimators=100, reg_alpha=1, reg_lambda=1.5, subsample=0.5; total time=   0.0s\n",
      "[CV] END colsample_bylevel=0.5, colsample_bynode=0.5, colsample_bytree=0.5, gamma=1, learning_rate=0.1, max_depth=8, min_child_weight=5, n_estimators=100, reg_alpha=1, reg_lambda=1.5, subsample=0.5; total time=   0.0s\n",
      "[CV] END colsample_bylevel=0.5, colsample_bynode=0.5, colsample_bytree=0.5, gamma=1, learning_rate=0.1, max_depth=8, min_child_weight=5, n_estimators=100, reg_alpha=1, reg_lambda=1.5, subsample=0.7; total time=   0.0s\n",
      "[CV] END colsample_bylevel=0.5, colsample_bynode=0.5, colsample_bytree=0.5, gamma=1, learning_rate=0.1, max_depth=8, min_child_weight=5, n_estimators=100, reg_alpha=1, reg_lambda=1.5, subsample=0.7; total time=   0.0s\n",
      "[CV] END colsample_bylevel=0.5, colsample_bynode=0.5, colsample_bytree=0.5, gamma=1, learning_rate=0.1, max_depth=8, min_child_weight=5, n_estimators=100, reg_alpha=1, reg_lambda=1.5, subsample=0.7; total time=   0.0s\n",
      "[CV] END colsample_bylevel=0.5, colsample_bynode=0.5, colsample_bytree=0.5, gamma=1, learning_rate=0.1, max_depth=8, min_child_weight=5, n_estimators=100, reg_alpha=1, reg_lambda=1.5, subsample=0.9; total time=   0.0s\n",
      "[CV] END colsample_bylevel=0.5, colsample_bynode=0.5, colsample_bytree=0.5, gamma=1, learning_rate=0.1, max_depth=8, min_child_weight=5, n_estimators=100, reg_alpha=1, reg_lambda=1.5, subsample=0.9; total time=   0.0s\n",
      "[CV] END colsample_bylevel=0.5, colsample_bynode=0.5, colsample_bytree=0.5, gamma=1, learning_rate=0.1, max_depth=8, min_child_weight=5, n_estimators=100, reg_alpha=1, reg_lambda=1.5, subsample=0.9; total time=   0.0s\n",
      "[CV] END colsample_bylevel=0.5, colsample_bynode=0.5, colsample_bytree=0.5, gamma=1, learning_rate=0.1, max_depth=8, min_child_weight=5, n_estimators=100, reg_alpha=1, reg_lambda=2, subsample=0.5; total time=   0.0s\n",
      "[CV] END colsample_bylevel=0.5, colsample_bynode=0.5, colsample_bytree=0.5, gamma=1, learning_rate=0.1, max_depth=8, min_child_weight=5, n_estimators=100, reg_alpha=1, reg_lambda=2, subsample=0.5; total time=   0.0s\n",
      "[CV] END colsample_bylevel=0.5, colsample_bynode=0.5, colsample_bytree=0.5, gamma=1, learning_rate=0.1, max_depth=8, min_child_weight=5, n_estimators=100, reg_alpha=1, reg_lambda=2, subsample=0.5; total time=   0.0s\n",
      "[CV] END colsample_bylevel=0.5, colsample_bynode=0.5, colsample_bytree=0.5, gamma=1, learning_rate=0.1, max_depth=8, min_child_weight=5, n_estimators=100, reg_alpha=1, reg_lambda=2, subsample=0.7; total time=   0.0s\n",
      "[CV] END colsample_bylevel=0.5, colsample_bynode=0.5, colsample_bytree=0.5, gamma=1, learning_rate=0.1, max_depth=8, min_child_weight=5, n_estimators=100, reg_alpha=1, reg_lambda=2, subsample=0.7; total time=   0.0s\n",
      "[CV] END colsample_bylevel=0.5, colsample_bynode=0.5, colsample_bytree=0.5, gamma=1, learning_rate=0.1, max_depth=8, min_child_weight=5, n_estimators=100, reg_alpha=1, reg_lambda=2, subsample=0.7; total time=   0.0s\n",
      "[CV] END colsample_bylevel=0.5, colsample_bynode=0.5, colsample_bytree=0.5, gamma=1, learning_rate=0.1, max_depth=8, min_child_weight=5, n_estimators=100, reg_alpha=1, reg_lambda=2, subsample=0.9; total time=   0.0s\n",
      "[CV] END colsample_bylevel=0.5, colsample_bynode=0.5, colsample_bytree=0.5, gamma=1, learning_rate=0.1, max_depth=8, min_child_weight=5, n_estimators=100, reg_alpha=1, reg_lambda=2, subsample=0.9; total time=   0.0s\n",
      "[CV] END colsample_bylevel=0.5, colsample_bynode=0.5, colsample_bytree=0.5, gamma=1, learning_rate=0.1, max_depth=8, min_child_weight=5, n_estimators=100, reg_alpha=1, reg_lambda=2, subsample=0.9; total time=   0.0s\n",
      "[CV] END colsample_bylevel=0.5, colsample_bynode=0.5, colsample_bytree=0.5, gamma=1, learning_rate=0.1, max_depth=8, min_child_weight=5, n_estimators=200, reg_alpha=0, reg_lambda=1, subsample=0.5; total time=   0.1s\n",
      "[CV] END colsample_bylevel=0.5, colsample_bynode=0.5, colsample_bytree=0.5, gamma=1, learning_rate=0.1, max_depth=8, min_child_weight=5, n_estimators=200, reg_alpha=0, reg_lambda=1, subsample=0.5; total time=   0.0s\n",
      "[CV] END colsample_bylevel=0.5, colsample_bynode=0.5, colsample_bytree=0.5, gamma=1, learning_rate=0.1, max_depth=8, min_child_weight=5, n_estimators=200, reg_alpha=0, reg_lambda=1, subsample=0.5; total time=   0.0s\n",
      "[CV] END colsample_bylevel=0.5, colsample_bynode=0.5, colsample_bytree=0.5, gamma=1, learning_rate=0.1, max_depth=8, min_child_weight=5, n_estimators=200, reg_alpha=0, reg_lambda=1, subsample=0.7; total time=   0.0s\n",
      "[CV] END colsample_bylevel=0.5, colsample_bynode=0.5, colsample_bytree=0.5, gamma=1, learning_rate=0.1, max_depth=8, min_child_weight=5, n_estimators=200, reg_alpha=0, reg_lambda=1, subsample=0.7; total time=   0.0s\n",
      "[CV] END colsample_bylevel=0.5, colsample_bynode=0.5, colsample_bytree=0.5, gamma=1, learning_rate=0.1, max_depth=8, min_child_weight=5, n_estimators=200, reg_alpha=0, reg_lambda=1, subsample=0.7; total time=   0.1s\n",
      "[CV] END colsample_bylevel=0.5, colsample_bynode=0.5, colsample_bytree=0.5, gamma=1, learning_rate=0.1, max_depth=8, min_child_weight=5, n_estimators=200, reg_alpha=0, reg_lambda=1, subsample=0.9; total time=   0.0s\n",
      "[CV] END colsample_bylevel=0.5, colsample_bynode=0.5, colsample_bytree=0.5, gamma=1, learning_rate=0.1, max_depth=8, min_child_weight=5, n_estimators=200, reg_alpha=0, reg_lambda=1, subsample=0.9; total time=   0.0s\n",
      "[CV] END colsample_bylevel=0.5, colsample_bynode=0.5, colsample_bytree=0.5, gamma=1, learning_rate=0.1, max_depth=8, min_child_weight=5, n_estimators=200, reg_alpha=0, reg_lambda=1, subsample=0.9; total time=   0.0s\n",
      "[CV] END colsample_bylevel=0.5, colsample_bynode=0.5, colsample_bytree=0.5, gamma=1, learning_rate=0.1, max_depth=8, min_child_weight=5, n_estimators=200, reg_alpha=0, reg_lambda=1.5, subsample=0.5; total time=   0.0s\n",
      "[CV] END colsample_bylevel=0.5, colsample_bynode=0.5, colsample_bytree=0.5, gamma=1, learning_rate=0.1, max_depth=8, min_child_weight=5, n_estimators=200, reg_alpha=0, reg_lambda=1.5, subsample=0.5; total time=   0.0s\n",
      "[CV] END colsample_bylevel=0.5, colsample_bynode=0.5, colsample_bytree=0.5, gamma=1, learning_rate=0.1, max_depth=8, min_child_weight=5, n_estimators=200, reg_alpha=0, reg_lambda=1.5, subsample=0.5; total time=   0.0s\n",
      "[CV] END colsample_bylevel=0.5, colsample_bynode=0.5, colsample_bytree=0.5, gamma=1, learning_rate=0.1, max_depth=8, min_child_weight=5, n_estimators=200, reg_alpha=0, reg_lambda=1.5, subsample=0.7; total time=   0.0s\n",
      "[CV] END colsample_bylevel=0.5, colsample_bynode=0.5, colsample_bytree=0.5, gamma=1, learning_rate=0.1, max_depth=8, min_child_weight=5, n_estimators=200, reg_alpha=0, reg_lambda=1.5, subsample=0.7; total time=   0.0s\n",
      "[CV] END colsample_bylevel=0.5, colsample_bynode=0.5, colsample_bytree=0.5, gamma=1, learning_rate=0.1, max_depth=8, min_child_weight=5, n_estimators=200, reg_alpha=0, reg_lambda=1.5, subsample=0.7; total time=   0.0s\n",
      "[CV] END colsample_bylevel=0.5, colsample_bynode=0.5, colsample_bytree=0.5, gamma=1, learning_rate=0.1, max_depth=8, min_child_weight=5, n_estimators=200, reg_alpha=0, reg_lambda=1.5, subsample=0.9; total time=   0.0s\n",
      "[CV] END colsample_bylevel=0.5, colsample_bynode=0.5, colsample_bytree=0.5, gamma=1, learning_rate=0.1, max_depth=8, min_child_weight=5, n_estimators=200, reg_alpha=0, reg_lambda=1.5, subsample=0.9; total time=   0.0s\n",
      "[CV] END colsample_bylevel=0.5, colsample_bynode=0.5, colsample_bytree=0.5, gamma=1, learning_rate=0.1, max_depth=8, min_child_weight=5, n_estimators=200, reg_alpha=0, reg_lambda=1.5, subsample=0.9; total time=   0.0s\n",
      "[CV] END colsample_bylevel=0.5, colsample_bynode=0.5, colsample_bytree=0.5, gamma=1, learning_rate=0.1, max_depth=8, min_child_weight=5, n_estimators=200, reg_alpha=0, reg_lambda=2, subsample=0.5; total time=   0.0s\n",
      "[CV] END colsample_bylevel=0.5, colsample_bynode=0.5, colsample_bytree=0.5, gamma=1, learning_rate=0.1, max_depth=8, min_child_weight=5, n_estimators=200, reg_alpha=0, reg_lambda=2, subsample=0.5; total time=   0.0s\n",
      "[CV] END colsample_bylevel=0.5, colsample_bynode=0.5, colsample_bytree=0.5, gamma=1, learning_rate=0.1, max_depth=8, min_child_weight=5, n_estimators=200, reg_alpha=0, reg_lambda=2, subsample=0.5; total time=   0.0s\n",
      "[CV] END colsample_bylevel=0.5, colsample_bynode=0.5, colsample_bytree=0.5, gamma=1, learning_rate=0.1, max_depth=8, min_child_weight=5, n_estimators=200, reg_alpha=0, reg_lambda=2, subsample=0.7; total time=   0.0s\n",
      "[CV] END colsample_bylevel=0.5, colsample_bynode=0.5, colsample_bytree=0.5, gamma=1, learning_rate=0.1, max_depth=8, min_child_weight=5, n_estimators=200, reg_alpha=0, reg_lambda=2, subsample=0.7; total time=   0.0s\n",
      "[CV] END colsample_bylevel=0.5, colsample_bynode=0.5, colsample_bytree=0.5, gamma=1, learning_rate=0.1, max_depth=8, min_child_weight=5, n_estimators=200, reg_alpha=0, reg_lambda=2, subsample=0.7; total time=   0.0s\n",
      "[CV] END colsample_bylevel=0.5, colsample_bynode=0.5, colsample_bytree=0.5, gamma=1, learning_rate=0.1, max_depth=8, min_child_weight=5, n_estimators=200, reg_alpha=0, reg_lambda=2, subsample=0.9; total time=   0.0s\n",
      "[CV] END colsample_bylevel=0.5, colsample_bynode=0.5, colsample_bytree=0.5, gamma=1, learning_rate=0.1, max_depth=8, min_child_weight=5, n_estimators=200, reg_alpha=0, reg_lambda=2, subsample=0.9; total time=   0.0s\n",
      "[CV] END colsample_bylevel=0.5, colsample_bynode=0.5, colsample_bytree=0.5, gamma=1, learning_rate=0.1, max_depth=8, min_child_weight=5, n_estimators=200, reg_alpha=0, reg_lambda=2, subsample=0.9; total time=   0.0s\n",
      "[CV] END colsample_bylevel=0.5, colsample_bynode=0.5, colsample_bytree=0.5, gamma=1, learning_rate=0.1, max_depth=8, min_child_weight=5, n_estimators=200, reg_alpha=0.5, reg_lambda=1, subsample=0.5; total time=   0.0s\n",
      "[CV] END colsample_bylevel=0.5, colsample_bynode=0.5, colsample_bytree=0.5, gamma=1, learning_rate=0.1, max_depth=8, min_child_weight=5, n_estimators=200, reg_alpha=0.5, reg_lambda=1, subsample=0.5; total time=   0.0s\n",
      "[CV] END colsample_bylevel=0.5, colsample_bynode=0.5, colsample_bytree=0.5, gamma=1, learning_rate=0.1, max_depth=8, min_child_weight=5, n_estimators=200, reg_alpha=0.5, reg_lambda=1, subsample=0.5; total time=   0.0s\n",
      "[CV] END colsample_bylevel=0.5, colsample_bynode=0.5, colsample_bytree=0.5, gamma=1, learning_rate=0.1, max_depth=8, min_child_weight=5, n_estimators=200, reg_alpha=0.5, reg_lambda=1, subsample=0.7; total time=   0.0s\n",
      "[CV] END colsample_bylevel=0.5, colsample_bynode=0.5, colsample_bytree=0.5, gamma=1, learning_rate=0.1, max_depth=8, min_child_weight=5, n_estimators=200, reg_alpha=0.5, reg_lambda=1, subsample=0.7; total time=   0.1s\n",
      "[CV] END colsample_bylevel=0.5, colsample_bynode=0.5, colsample_bytree=0.5, gamma=1, learning_rate=0.1, max_depth=8, min_child_weight=5, n_estimators=200, reg_alpha=0.5, reg_lambda=1, subsample=0.7; total time=   0.0s\n",
      "[CV] END colsample_bylevel=0.5, colsample_bynode=0.5, colsample_bytree=0.5, gamma=1, learning_rate=0.1, max_depth=8, min_child_weight=5, n_estimators=200, reg_alpha=0.5, reg_lambda=1, subsample=0.9; total time=   0.1s\n",
      "[CV] END colsample_bylevel=0.5, colsample_bynode=0.5, colsample_bytree=0.5, gamma=1, learning_rate=0.1, max_depth=8, min_child_weight=5, n_estimators=200, reg_alpha=0.5, reg_lambda=1, subsample=0.9; total time=   0.0s\n",
      "[CV] END colsample_bylevel=0.5, colsample_bynode=0.5, colsample_bytree=0.5, gamma=1, learning_rate=0.1, max_depth=8, min_child_weight=5, n_estimators=200, reg_alpha=0.5, reg_lambda=1, subsample=0.9; total time=   0.0s\n",
      "[CV] END colsample_bylevel=0.5, colsample_bynode=0.5, colsample_bytree=0.5, gamma=1, learning_rate=0.1, max_depth=8, min_child_weight=5, n_estimators=200, reg_alpha=0.5, reg_lambda=1.5, subsample=0.5; total time=   0.0s\n",
      "[CV] END colsample_bylevel=0.5, colsample_bynode=0.5, colsample_bytree=0.5, gamma=1, learning_rate=0.1, max_depth=8, min_child_weight=5, n_estimators=200, reg_alpha=0.5, reg_lambda=1.5, subsample=0.5; total time=   0.0s\n",
      "[CV] END colsample_bylevel=0.5, colsample_bynode=0.5, colsample_bytree=0.5, gamma=1, learning_rate=0.1, max_depth=8, min_child_weight=5, n_estimators=200, reg_alpha=0.5, reg_lambda=1.5, subsample=0.5; total time=   0.1s\n",
      "[CV] END colsample_bylevel=0.5, colsample_bynode=0.5, colsample_bytree=0.5, gamma=1, learning_rate=0.1, max_depth=8, min_child_weight=5, n_estimators=200, reg_alpha=0.5, reg_lambda=1.5, subsample=0.7; total time=   0.0s\n",
      "[CV] END colsample_bylevel=0.5, colsample_bynode=0.5, colsample_bytree=0.5, gamma=1, learning_rate=0.1, max_depth=8, min_child_weight=5, n_estimators=200, reg_alpha=0.5, reg_lambda=1.5, subsample=0.7; total time=   0.1s\n",
      "[CV] END colsample_bylevel=0.5, colsample_bynode=0.5, colsample_bytree=0.5, gamma=1, learning_rate=0.1, max_depth=8, min_child_weight=5, n_estimators=200, reg_alpha=0.5, reg_lambda=1.5, subsample=0.7; total time=   0.1s\n",
      "[CV] END colsample_bylevel=0.5, colsample_bynode=0.5, colsample_bytree=0.5, gamma=1, learning_rate=0.1, max_depth=8, min_child_weight=5, n_estimators=200, reg_alpha=0.5, reg_lambda=1.5, subsample=0.9; total time=   0.1s\n",
      "[CV] END colsample_bylevel=0.5, colsample_bynode=0.5, colsample_bytree=0.5, gamma=1, learning_rate=0.1, max_depth=8, min_child_weight=5, n_estimators=200, reg_alpha=0.5, reg_lambda=1.5, subsample=0.9; total time=   0.0s\n",
      "[CV] END colsample_bylevel=0.5, colsample_bynode=0.5, colsample_bytree=0.5, gamma=1, learning_rate=0.1, max_depth=8, min_child_weight=5, n_estimators=200, reg_alpha=0.5, reg_lambda=1.5, subsample=0.9; total time=   0.1s\n",
      "[CV] END colsample_bylevel=0.5, colsample_bynode=0.5, colsample_bytree=0.5, gamma=1, learning_rate=0.1, max_depth=8, min_child_weight=5, n_estimators=200, reg_alpha=0.5, reg_lambda=2, subsample=0.5; total time=   0.1s\n",
      "[CV] END colsample_bylevel=0.5, colsample_bynode=0.5, colsample_bytree=0.5, gamma=1, learning_rate=0.1, max_depth=8, min_child_weight=5, n_estimators=200, reg_alpha=0.5, reg_lambda=2, subsample=0.5; total time=   0.1s\n",
      "[CV] END colsample_bylevel=0.5, colsample_bynode=0.5, colsample_bytree=0.5, gamma=1, learning_rate=0.1, max_depth=8, min_child_weight=5, n_estimators=200, reg_alpha=0.5, reg_lambda=2, subsample=0.5; total time=   0.1s\n",
      "[CV] END colsample_bylevel=0.5, colsample_bynode=0.5, colsample_bytree=0.5, gamma=1, learning_rate=0.1, max_depth=8, min_child_weight=5, n_estimators=200, reg_alpha=0.5, reg_lambda=2, subsample=0.7; total time=   0.1s\n",
      "[CV] END colsample_bylevel=0.5, colsample_bynode=0.5, colsample_bytree=0.5, gamma=1, learning_rate=0.1, max_depth=8, min_child_weight=5, n_estimators=200, reg_alpha=0.5, reg_lambda=2, subsample=0.7; total time=   0.1s\n",
      "[CV] END colsample_bylevel=0.5, colsample_bynode=0.5, colsample_bytree=0.5, gamma=1, learning_rate=0.1, max_depth=8, min_child_weight=5, n_estimators=200, reg_alpha=0.5, reg_lambda=2, subsample=0.7; total time=   0.1s\n"
     ]
    },
    {
     "ename": "KeyboardInterrupt",
     "evalue": "",
     "output_type": "error",
     "traceback": [
      "\u001b[0;31m---------------------------------------------------------------------------\u001b[0m",
      "\u001b[0;31mKeyboardInterrupt\u001b[0m                         Traceback (most recent call last)",
      "Cell \u001b[0;32mIn[4], line 21\u001b[0m\n\u001b[1;32m     18\u001b[0m model \u001b[39m=\u001b[39m XGBClassifier()\n\u001b[1;32m     20\u001b[0m grid_search \u001b[39m=\u001b[39m GridSearchCV(estimator\u001b[39m=\u001b[39mmodel, param_grid\u001b[39m=\u001b[39mparam_grid, cv\u001b[39m=\u001b[39m\u001b[39m3\u001b[39m, n_jobs\u001b[39m=\u001b[39m\u001b[39m-\u001b[39m\u001b[39m1\u001b[39m, verbose\u001b[39m=\u001b[39m\u001b[39m2\u001b[39m)\n\u001b[0;32m---> 21\u001b[0m grid_search\u001b[39m.\u001b[39;49mfit(X_train, y_train)\n\u001b[1;32m     22\u001b[0m best_params \u001b[39m=\u001b[39m grid_search\u001b[39m.\u001b[39mbest_params_\n\u001b[1;32m     23\u001b[0m best_params\n",
      "File \u001b[0;32m~/anaconda3/envs/camel_parser/lib/python3.9/site-packages/sklearn/model_selection/_search.py:874\u001b[0m, in \u001b[0;36mBaseSearchCV.fit\u001b[0;34m(self, X, y, groups, **fit_params)\u001b[0m\n\u001b[1;32m    868\u001b[0m     results \u001b[39m=\u001b[39m \u001b[39mself\u001b[39m\u001b[39m.\u001b[39m_format_results(\n\u001b[1;32m    869\u001b[0m         all_candidate_params, n_splits, all_out, all_more_results\n\u001b[1;32m    870\u001b[0m     )\n\u001b[1;32m    872\u001b[0m     \u001b[39mreturn\u001b[39;00m results\n\u001b[0;32m--> 874\u001b[0m \u001b[39mself\u001b[39;49m\u001b[39m.\u001b[39;49m_run_search(evaluate_candidates)\n\u001b[1;32m    876\u001b[0m \u001b[39m# multimetric is determined here because in the case of a callable\u001b[39;00m\n\u001b[1;32m    877\u001b[0m \u001b[39m# self.scoring the return type is only known after calling\u001b[39;00m\n\u001b[1;32m    878\u001b[0m first_test_score \u001b[39m=\u001b[39m all_out[\u001b[39m0\u001b[39m][\u001b[39m\"\u001b[39m\u001b[39mtest_scores\u001b[39m\u001b[39m\"\u001b[39m]\n",
      "File \u001b[0;32m~/anaconda3/envs/camel_parser/lib/python3.9/site-packages/sklearn/model_selection/_search.py:1388\u001b[0m, in \u001b[0;36mGridSearchCV._run_search\u001b[0;34m(self, evaluate_candidates)\u001b[0m\n\u001b[1;32m   1386\u001b[0m \u001b[39mdef\u001b[39;00m \u001b[39m_run_search\u001b[39m(\u001b[39mself\u001b[39m, evaluate_candidates):\n\u001b[1;32m   1387\u001b[0m \u001b[39m    \u001b[39m\u001b[39m\"\"\"Search all candidates in param_grid\"\"\"\u001b[39;00m\n\u001b[0;32m-> 1388\u001b[0m     evaluate_candidates(ParameterGrid(\u001b[39mself\u001b[39;49m\u001b[39m.\u001b[39;49mparam_grid))\n",
      "File \u001b[0;32m~/anaconda3/envs/camel_parser/lib/python3.9/site-packages/sklearn/model_selection/_search.py:821\u001b[0m, in \u001b[0;36mBaseSearchCV.fit.<locals>.evaluate_candidates\u001b[0;34m(candidate_params, cv, more_results)\u001b[0m\n\u001b[1;32m    813\u001b[0m \u001b[39mif\u001b[39;00m \u001b[39mself\u001b[39m\u001b[39m.\u001b[39mverbose \u001b[39m>\u001b[39m \u001b[39m0\u001b[39m:\n\u001b[1;32m    814\u001b[0m     \u001b[39mprint\u001b[39m(\n\u001b[1;32m    815\u001b[0m         \u001b[39m\"\u001b[39m\u001b[39mFitting \u001b[39m\u001b[39m{0}\u001b[39;00m\u001b[39m folds for each of \u001b[39m\u001b[39m{1}\u001b[39;00m\u001b[39m candidates,\u001b[39m\u001b[39m\"\u001b[39m\n\u001b[1;32m    816\u001b[0m         \u001b[39m\"\u001b[39m\u001b[39m totalling \u001b[39m\u001b[39m{2}\u001b[39;00m\u001b[39m fits\u001b[39m\u001b[39m\"\u001b[39m\u001b[39m.\u001b[39mformat(\n\u001b[1;32m    817\u001b[0m             n_splits, n_candidates, n_candidates \u001b[39m*\u001b[39m n_splits\n\u001b[1;32m    818\u001b[0m         )\n\u001b[1;32m    819\u001b[0m     )\n\u001b[0;32m--> 821\u001b[0m out \u001b[39m=\u001b[39m parallel(\n\u001b[1;32m    822\u001b[0m     delayed(_fit_and_score)(\n\u001b[1;32m    823\u001b[0m         clone(base_estimator),\n\u001b[1;32m    824\u001b[0m         X,\n\u001b[1;32m    825\u001b[0m         y,\n\u001b[1;32m    826\u001b[0m         train\u001b[39m=\u001b[39;49mtrain,\n\u001b[1;32m    827\u001b[0m         test\u001b[39m=\u001b[39;49mtest,\n\u001b[1;32m    828\u001b[0m         parameters\u001b[39m=\u001b[39;49mparameters,\n\u001b[1;32m    829\u001b[0m         split_progress\u001b[39m=\u001b[39;49m(split_idx, n_splits),\n\u001b[1;32m    830\u001b[0m         candidate_progress\u001b[39m=\u001b[39;49m(cand_idx, n_candidates),\n\u001b[1;32m    831\u001b[0m         \u001b[39m*\u001b[39;49m\u001b[39m*\u001b[39;49mfit_and_score_kwargs,\n\u001b[1;32m    832\u001b[0m     )\n\u001b[1;32m    833\u001b[0m     \u001b[39mfor\u001b[39;49;00m (cand_idx, parameters), (split_idx, (train, test)) \u001b[39min\u001b[39;49;00m product(\n\u001b[1;32m    834\u001b[0m         \u001b[39menumerate\u001b[39;49m(candidate_params), \u001b[39menumerate\u001b[39;49m(cv\u001b[39m.\u001b[39;49msplit(X, y, groups))\n\u001b[1;32m    835\u001b[0m     )\n\u001b[1;32m    836\u001b[0m )\n\u001b[1;32m    838\u001b[0m \u001b[39mif\u001b[39;00m \u001b[39mlen\u001b[39m(out) \u001b[39m<\u001b[39m \u001b[39m1\u001b[39m:\n\u001b[1;32m    839\u001b[0m     \u001b[39mraise\u001b[39;00m \u001b[39mValueError\u001b[39;00m(\n\u001b[1;32m    840\u001b[0m         \u001b[39m\"\u001b[39m\u001b[39mNo fits were performed. \u001b[39m\u001b[39m\"\u001b[39m\n\u001b[1;32m    841\u001b[0m         \u001b[39m\"\u001b[39m\u001b[39mWas the CV iterator empty? \u001b[39m\u001b[39m\"\u001b[39m\n\u001b[1;32m    842\u001b[0m         \u001b[39m\"\u001b[39m\u001b[39mWere there no candidates?\u001b[39m\u001b[39m\"\u001b[39m\n\u001b[1;32m    843\u001b[0m     )\n",
      "File \u001b[0;32m~/anaconda3/envs/camel_parser/lib/python3.9/site-packages/sklearn/utils/parallel.py:63\u001b[0m, in \u001b[0;36mParallel.__call__\u001b[0;34m(self, iterable)\u001b[0m\n\u001b[1;32m     58\u001b[0m config \u001b[39m=\u001b[39m get_config()\n\u001b[1;32m     59\u001b[0m iterable_with_config \u001b[39m=\u001b[39m (\n\u001b[1;32m     60\u001b[0m     (_with_config(delayed_func, config), args, kwargs)\n\u001b[1;32m     61\u001b[0m     \u001b[39mfor\u001b[39;00m delayed_func, args, kwargs \u001b[39min\u001b[39;00m iterable\n\u001b[1;32m     62\u001b[0m )\n\u001b[0;32m---> 63\u001b[0m \u001b[39mreturn\u001b[39;00m \u001b[39msuper\u001b[39;49m()\u001b[39m.\u001b[39;49m\u001b[39m__call__\u001b[39;49m(iterable_with_config)\n",
      "File \u001b[0;32m~/anaconda3/envs/camel_parser/lib/python3.9/site-packages/joblib/parallel.py:1098\u001b[0m, in \u001b[0;36mParallel.__call__\u001b[0;34m(self, iterable)\u001b[0m\n\u001b[1;32m   1095\u001b[0m     \u001b[39mself\u001b[39m\u001b[39m.\u001b[39m_iterating \u001b[39m=\u001b[39m \u001b[39mFalse\u001b[39;00m\n\u001b[1;32m   1097\u001b[0m \u001b[39mwith\u001b[39;00m \u001b[39mself\u001b[39m\u001b[39m.\u001b[39m_backend\u001b[39m.\u001b[39mretrieval_context():\n\u001b[0;32m-> 1098\u001b[0m     \u001b[39mself\u001b[39;49m\u001b[39m.\u001b[39;49mretrieve()\n\u001b[1;32m   1099\u001b[0m \u001b[39m# Make sure that we get a last message telling us we are done\u001b[39;00m\n\u001b[1;32m   1100\u001b[0m elapsed_time \u001b[39m=\u001b[39m time\u001b[39m.\u001b[39mtime() \u001b[39m-\u001b[39m \u001b[39mself\u001b[39m\u001b[39m.\u001b[39m_start_time\n",
      "File \u001b[0;32m~/anaconda3/envs/camel_parser/lib/python3.9/site-packages/joblib/parallel.py:975\u001b[0m, in \u001b[0;36mParallel.retrieve\u001b[0;34m(self)\u001b[0m\n\u001b[1;32m    973\u001b[0m \u001b[39mtry\u001b[39;00m:\n\u001b[1;32m    974\u001b[0m     \u001b[39mif\u001b[39;00m \u001b[39mgetattr\u001b[39m(\u001b[39mself\u001b[39m\u001b[39m.\u001b[39m_backend, \u001b[39m'\u001b[39m\u001b[39msupports_timeout\u001b[39m\u001b[39m'\u001b[39m, \u001b[39mFalse\u001b[39;00m):\n\u001b[0;32m--> 975\u001b[0m         \u001b[39mself\u001b[39m\u001b[39m.\u001b[39m_output\u001b[39m.\u001b[39mextend(job\u001b[39m.\u001b[39;49mget(timeout\u001b[39m=\u001b[39;49m\u001b[39mself\u001b[39;49m\u001b[39m.\u001b[39;49mtimeout))\n\u001b[1;32m    976\u001b[0m     \u001b[39melse\u001b[39;00m:\n\u001b[1;32m    977\u001b[0m         \u001b[39mself\u001b[39m\u001b[39m.\u001b[39m_output\u001b[39m.\u001b[39mextend(job\u001b[39m.\u001b[39mget())\n",
      "File \u001b[0;32m~/anaconda3/envs/camel_parser/lib/python3.9/site-packages/joblib/_parallel_backends.py:567\u001b[0m, in \u001b[0;36mLokyBackend.wrap_future_result\u001b[0;34m(future, timeout)\u001b[0m\n\u001b[1;32m    564\u001b[0m \u001b[39m\u001b[39m\u001b[39m\"\"\"Wrapper for Future.result to implement the same behaviour as\u001b[39;00m\n\u001b[1;32m    565\u001b[0m \u001b[39mAsyncResults.get from multiprocessing.\"\"\"\u001b[39;00m\n\u001b[1;32m    566\u001b[0m \u001b[39mtry\u001b[39;00m:\n\u001b[0;32m--> 567\u001b[0m     \u001b[39mreturn\u001b[39;00m future\u001b[39m.\u001b[39;49mresult(timeout\u001b[39m=\u001b[39;49mtimeout)\n\u001b[1;32m    568\u001b[0m \u001b[39mexcept\u001b[39;00m CfTimeoutError \u001b[39mas\u001b[39;00m e:\n\u001b[1;32m    569\u001b[0m     \u001b[39mraise\u001b[39;00m \u001b[39mTimeoutError\u001b[39;00m \u001b[39mfrom\u001b[39;00m \u001b[39me\u001b[39;00m\n",
      "File \u001b[0;32m~/anaconda3/envs/camel_parser/lib/python3.9/concurrent/futures/_base.py:441\u001b[0m, in \u001b[0;36mFuture.result\u001b[0;34m(self, timeout)\u001b[0m\n\u001b[1;32m    438\u001b[0m \u001b[39melif\u001b[39;00m \u001b[39mself\u001b[39m\u001b[39m.\u001b[39m_state \u001b[39m==\u001b[39m FINISHED:\n\u001b[1;32m    439\u001b[0m     \u001b[39mreturn\u001b[39;00m \u001b[39mself\u001b[39m\u001b[39m.\u001b[39m__get_result()\n\u001b[0;32m--> 441\u001b[0m \u001b[39mself\u001b[39;49m\u001b[39m.\u001b[39;49m_condition\u001b[39m.\u001b[39;49mwait(timeout)\n\u001b[1;32m    443\u001b[0m \u001b[39mif\u001b[39;00m \u001b[39mself\u001b[39m\u001b[39m.\u001b[39m_state \u001b[39min\u001b[39;00m [CANCELLED, CANCELLED_AND_NOTIFIED]:\n\u001b[1;32m    444\u001b[0m     \u001b[39mraise\u001b[39;00m CancelledError()\n",
      "File \u001b[0;32m~/anaconda3/envs/camel_parser/lib/python3.9/threading.py:312\u001b[0m, in \u001b[0;36mCondition.wait\u001b[0;34m(self, timeout)\u001b[0m\n\u001b[1;32m    310\u001b[0m \u001b[39mtry\u001b[39;00m:    \u001b[39m# restore state no matter what (e.g., KeyboardInterrupt)\u001b[39;00m\n\u001b[1;32m    311\u001b[0m     \u001b[39mif\u001b[39;00m timeout \u001b[39mis\u001b[39;00m \u001b[39mNone\u001b[39;00m:\n\u001b[0;32m--> 312\u001b[0m         waiter\u001b[39m.\u001b[39;49macquire()\n\u001b[1;32m    313\u001b[0m         gotit \u001b[39m=\u001b[39m \u001b[39mTrue\u001b[39;00m\n\u001b[1;32m    314\u001b[0m     \u001b[39melse\u001b[39;00m:\n",
      "\u001b[0;31mKeyboardInterrupt\u001b[0m: "
     ]
    }
   ],
   "source": [
    "# grid search to find the best hyperparameters\n",
    "from sklearn.model_selection import GridSearchCV\n",
    "from xgboost import XGBClassifier\n",
    "\n",
    "param_grid = {\n",
    "    'n_estimators': [100, 200, 300],\n",
    "    'max_depth': [6, 8, 10, 12],\n",
    "    'learning_rate': [0.01, 0.1, 0.2, 0.3],\n",
    "    'subsample': [0.5, 0.7, 0.9],\n",
    "    'colsample_bytree': [0.5, 0.7, 0.9],\n",
    "    'colsample_bylevel': [0.5, 0.7, 0.9],\n",
    "    'colsample_bynode': [0.5, 0.7, 0.9],\n",
    "    'reg_alpha': [0, 0.5, 1],\n",
    "    'reg_lambda': [1, 1.5, 2],\n",
    "    'gamma': [0, 0.5, 1],\n",
    "    'min_child_weight': [1, 5, 10]\n",
    "}\n",
    "model = XGBClassifier()\n",
    "\n",
    "grid_search = GridSearchCV(estimator=model, param_grid=param_grid, cv=3, n_jobs=-1, verbose=2)\n",
    "grid_search.fit(X_train, y_train)\n",
    "best_params = grid_search.best_params_\n",
    "best_params\n"
   ]
  },
  {
   "cell_type": "code",
   "execution_count": null,
   "metadata": {},
   "outputs": [],
   "source": []
  },
  {
   "attachments": {},
   "cell_type": "markdown",
   "metadata": {},
   "source": [
    "## Logistic Regression"
   ]
  },
  {
   "cell_type": "code",
   "execution_count": 9,
   "metadata": {},
   "outputs": [
    {
     "data": {
      "text/plain": [
       "8393"
      ]
     },
     "execution_count": 9,
     "metadata": {},
     "output_type": "execute_result"
    }
   ],
   "source": [
    "len(y_dev)"
   ]
  },
  {
   "cell_type": "code",
   "execution_count": 10,
   "metadata": {},
   "outputs": [
    {
     "name": "stdout",
     "output_type": "stream",
     "text": [
      "Classification Report for Dev Set:\n",
      "              precision    recall  f1-score   support\n",
      "\n",
      "           1       0.30      0.10      0.15        31\n",
      "           2       0.13      0.12      0.12        41\n",
      "           3       0.37      0.53      0.44       117\n",
      "           4       0.51      0.40      0.45        63\n",
      "           5       0.38      0.54      0.44       280\n",
      "           6       0.35      0.45      0.39       188\n",
      "           7       0.51      0.57      0.54       666\n",
      "           8       0.63      0.64      0.64       740\n",
      "           9       0.65      0.36      0.46       261\n",
      "          10       0.64      0.69      0.67      1219\n",
      "          11       0.14      0.07      0.10       521\n",
      "          12       0.44      0.54      0.49      1945\n",
      "          13       0.36      0.22      0.28       486\n",
      "          14       0.52      0.51      0.52      1301\n",
      "          15       0.25      0.25      0.25       302\n",
      "          16       0.40      0.04      0.07       156\n",
      "          17       0.27      0.06      0.10        48\n",
      "          18       0.00      0.00      0.00        13\n",
      "          19       0.00      0.00      0.00        15\n",
      "\n",
      "    accuracy                           0.48      8393\n",
      "   macro avg       0.36      0.32      0.32      8393\n",
      "weighted avg       0.47      0.48      0.47      8393\n",
      "\n"
     ]
    },
    {
     "name": "stderr",
     "output_type": "stream",
     "text": [
      "/Users/noor/anaconda3/envs/camel_parser/lib/python3.9/site-packages/sklearn/metrics/_classification.py:1344: UndefinedMetricWarning: Precision and F-score are ill-defined and being set to 0.0 in labels with no predicted samples. Use `zero_division` parameter to control this behavior.\n",
      "  _warn_prf(average, modifier, msg_start, len(result))\n",
      "/Users/noor/anaconda3/envs/camel_parser/lib/python3.9/site-packages/sklearn/metrics/_classification.py:1344: UndefinedMetricWarning: Precision and F-score are ill-defined and being set to 0.0 in labels with no predicted samples. Use `zero_division` parameter to control this behavior.\n",
      "  _warn_prf(average, modifier, msg_start, len(result))\n",
      "/Users/noor/anaconda3/envs/camel_parser/lib/python3.9/site-packages/sklearn/metrics/_classification.py:1344: UndefinedMetricWarning: Precision and F-score are ill-defined and being set to 0.0 in labels with no predicted samples. Use `zero_division` parameter to control this behavior.\n",
      "  _warn_prf(average, modifier, msg_start, len(result))\n"
     ]
    }
   ],
   "source": [
    "#Logistic Regression\n",
    "from sklearn.linear_model import LogisticRegression\n",
    "model = LogisticRegression(max_iter=1000)\n",
    "model.fit(X_train, y_train)\n",
    "\n",
    "# Make predictions on Dev and Test datasets\n",
    "y_pred_dev = model.predict(X_dev)\n",
    "y_pred_test = model.predict(X_test)\n",
    "\n",
    "# classification report\n",
    "print(\"Classification Report for Dev Set:\")\n",
    "print(classification_report(y_dev, y_pred_dev))"
   ]
  },
  {
   "cell_type": "code",
   "execution_count": 11,
   "metadata": {},
   "outputs": [
    {
     "name": "stdout",
     "output_type": "stream",
     "text": [
      "Fitting 3 folds for each of 80 candidates, totalling 240 fits\n",
      "[CV] END ....................C=0.1, penalty=l1, solver=lbfgs; total time=   0.1s\n",
      "[CV] END ....................C=0.1, penalty=l1, solver=lbfgs; total time=   0.2s\n",
      "[CV] END ................C=0.1, penalty=l1, solver=newton-cg; total time=   0.2s\n",
      "[CV] END ....................C=0.1, penalty=l1, solver=lbfgs; total time=   0.2s\n",
      "[CV] END ................C=0.1, penalty=l1, solver=newton-cg; total time=   0.2s\n",
      "[CV] END ................C=0.1, penalty=l1, solver=newton-cg; total time=   0.2s\n",
      "[CV] END ......................C=0.1, penalty=l1, solver=sag; total time=   0.1s\n",
      "[CV] END ......................C=0.1, penalty=l1, solver=sag; total time=   0.1s\n",
      "[CV] END ......................C=0.1, penalty=l1, solver=sag; total time=   0.1s\n",
      "[CV] END ................C=0.1, penalty=l2, solver=newton-cg; total time=  24.6s\n",
      "[CV] END ................C=0.1, penalty=l2, solver=newton-cg; total time=  27.1s\n",
      "[CV] END ................C=0.1, penalty=l1, solver=liblinear; total time=  29.3s\n",
      "[CV] END ................C=0.1, penalty=l1, solver=liblinear; total time=  29.7s\n",
      "[CV] END ................C=0.1, penalty=l1, solver=liblinear; total time=  30.0s\n",
      "[CV] END ....................C=0.1, penalty=l2, solver=lbfgs; total time=  13.5s\n",
      "[CV] END ....................C=0.1, penalty=l2, solver=lbfgs; total time=  13.9s\n",
      "[CV] END ....................C=0.1, penalty=l2, solver=lbfgs; total time=  14.0s\n",
      "[CV] END ................C=0.1, penalty=l2, solver=liblinear; total time=  15.7s\n",
      "[CV] END ................C=0.1, penalty=l2, solver=newton-cg; total time=  23.5s\n",
      "[CV] END ................C=0.1, penalty=l2, solver=liblinear; total time=  14.8s\n",
      "[CV] END ................C=0.1, penalty=l2, solver=liblinear; total time=  14.1s\n",
      "[CV] END ......................C=0.1, penalty=l2, solver=sag; total time= 2.2min\n",
      "[CV] END ......................C=0.1, penalty=l2, solver=sag; total time= 2.9min\n",
      "[CV] END ........C=0.1, penalty=elasticnet, solver=newton-cg; total time=   0.1s\n",
      "[CV] END ........C=0.1, penalty=elasticnet, solver=newton-cg; total time=   0.1s\n",
      "[CV] END ........C=0.1, penalty=elasticnet, solver=newton-cg; total time=   0.1s\n",
      "[CV] END ............C=0.1, penalty=elasticnet, solver=lbfgs; total time=   0.1s\n",
      "[CV] END ............C=0.1, penalty=elasticnet, solver=lbfgs; total time=   0.1s\n",
      "[CV] END ............C=0.1, penalty=elasticnet, solver=lbfgs; total time=   0.1s\n",
      "[CV] END ........C=0.1, penalty=elasticnet, solver=liblinear; total time=   0.1s\n",
      "[CV] END ........C=0.1, penalty=elasticnet, solver=liblinear; total time=   0.1s\n",
      "[CV] END ........C=0.1, penalty=elasticnet, solver=liblinear; total time=   0.1s\n",
      "[CV] END ..............C=0.1, penalty=elasticnet, solver=sag; total time=   0.1s\n",
      "[CV] END ..............C=0.1, penalty=elasticnet, solver=sag; total time=   0.1s\n",
      "[CV] END ..............C=0.1, penalty=elasticnet, solver=sag; total time=   0.1s\n",
      "[CV] END .............C=0.1, penalty=elasticnet, solver=saga; total time=   0.1s\n",
      "[CV] END .............C=0.1, penalty=elasticnet, solver=saga; total time=   0.2s\n",
      "[CV] END ......................C=0.1, penalty=l2, solver=sag; total time= 2.9min\n",
      "[CV] END .............C=0.1, penalty=elasticnet, solver=saga; total time=   0.2s\n"
     ]
    },
    {
     "name": "stderr",
     "output_type": "stream",
     "text": [
      "/Users/noor/anaconda3/envs/camel_parser/lib/python3.9/site-packages/sklearn/linear_model/_logistic.py:1173: FutureWarning: `penalty='none'`has been deprecated in 1.2 and will be removed in 1.4. To keep the past behaviour, set `penalty=None`.\n",
      "  warnings.warn(\n",
      "/Users/noor/anaconda3/envs/camel_parser/lib/python3.9/site-packages/sklearn/linear_model/_logistic.py:1181: UserWarning: Setting penalty=None will ignore the C and l1_ratio parameters\n",
      "  warnings.warn(\n",
      "/Users/noor/anaconda3/envs/camel_parser/lib/python3.9/site-packages/sklearn/linear_model/_logistic.py:1173: FutureWarning: `penalty='none'`has been deprecated in 1.2 and will be removed in 1.4. To keep the past behaviour, set `penalty=None`.\n",
      "  warnings.warn(\n",
      "/Users/noor/anaconda3/envs/camel_parser/lib/python3.9/site-packages/sklearn/linear_model/_logistic.py:1181: UserWarning: Setting penalty=None will ignore the C and l1_ratio parameters\n",
      "  warnings.warn(\n"
     ]
    },
    {
     "name": "stdout",
     "output_type": "stream",
     "text": [
      "[CV] END .....................C=0.1, penalty=l2, solver=saga; total time= 3.5min\n"
     ]
    },
    {
     "name": "stderr",
     "output_type": "stream",
     "text": [
      "/Users/noor/anaconda3/envs/camel_parser/lib/python3.9/site-packages/sklearn/linear_model/_logistic.py:1173: FutureWarning: `penalty='none'`has been deprecated in 1.2 and will be removed in 1.4. To keep the past behaviour, set `penalty=None`.\n",
      "  warnings.warn(\n",
      "/Users/noor/anaconda3/envs/camel_parser/lib/python3.9/site-packages/sklearn/linear_model/_logistic.py:1181: UserWarning: Setting penalty=None will ignore the C and l1_ratio parameters\n",
      "  warnings.warn(\n"
     ]
    },
    {
     "ename": "KeyboardInterrupt",
     "evalue": "",
     "output_type": "error",
     "traceback": [
      "\u001b[0;31m---------------------------------------------------------------------------\u001b[0m",
      "\u001b[0;31mKeyboardInterrupt\u001b[0m                         Traceback (most recent call last)",
      "Cell \u001b[0;32mIn[11], line 12\u001b[0m\n\u001b[1;32m     10\u001b[0m model \u001b[39m=\u001b[39m LogisticRegression(max_iter\u001b[39m=\u001b[39m\u001b[39m1000\u001b[39m)\n\u001b[1;32m     11\u001b[0m grid_search \u001b[39m=\u001b[39m GridSearchCV(estimator\u001b[39m=\u001b[39mmodel, param_grid\u001b[39m=\u001b[39mparam_grid, cv\u001b[39m=\u001b[39m\u001b[39m3\u001b[39m, n_jobs\u001b[39m=\u001b[39m\u001b[39m-\u001b[39m\u001b[39m1\u001b[39m, verbose\u001b[39m=\u001b[39m\u001b[39m2\u001b[39m)\n\u001b[0;32m---> 12\u001b[0m grid_search\u001b[39m.\u001b[39;49mfit(X_train, y_train)\n\u001b[1;32m     13\u001b[0m best_params \u001b[39m=\u001b[39m grid_search\u001b[39m.\u001b[39mbest_params_\n\u001b[1;32m     14\u001b[0m best_params\n",
      "File \u001b[0;32m~/anaconda3/envs/camel_parser/lib/python3.9/site-packages/sklearn/model_selection/_search.py:874\u001b[0m, in \u001b[0;36mBaseSearchCV.fit\u001b[0;34m(self, X, y, groups, **fit_params)\u001b[0m\n\u001b[1;32m    868\u001b[0m     results \u001b[39m=\u001b[39m \u001b[39mself\u001b[39m\u001b[39m.\u001b[39m_format_results(\n\u001b[1;32m    869\u001b[0m         all_candidate_params, n_splits, all_out, all_more_results\n\u001b[1;32m    870\u001b[0m     )\n\u001b[1;32m    872\u001b[0m     \u001b[39mreturn\u001b[39;00m results\n\u001b[0;32m--> 874\u001b[0m \u001b[39mself\u001b[39;49m\u001b[39m.\u001b[39;49m_run_search(evaluate_candidates)\n\u001b[1;32m    876\u001b[0m \u001b[39m# multimetric is determined here because in the case of a callable\u001b[39;00m\n\u001b[1;32m    877\u001b[0m \u001b[39m# self.scoring the return type is only known after calling\u001b[39;00m\n\u001b[1;32m    878\u001b[0m first_test_score \u001b[39m=\u001b[39m all_out[\u001b[39m0\u001b[39m][\u001b[39m\"\u001b[39m\u001b[39mtest_scores\u001b[39m\u001b[39m\"\u001b[39m]\n",
      "File \u001b[0;32m~/anaconda3/envs/camel_parser/lib/python3.9/site-packages/sklearn/model_selection/_search.py:1388\u001b[0m, in \u001b[0;36mGridSearchCV._run_search\u001b[0;34m(self, evaluate_candidates)\u001b[0m\n\u001b[1;32m   1386\u001b[0m \u001b[39mdef\u001b[39;00m \u001b[39m_run_search\u001b[39m(\u001b[39mself\u001b[39m, evaluate_candidates):\n\u001b[1;32m   1387\u001b[0m \u001b[39m    \u001b[39m\u001b[39m\"\"\"Search all candidates in param_grid\"\"\"\u001b[39;00m\n\u001b[0;32m-> 1388\u001b[0m     evaluate_candidates(ParameterGrid(\u001b[39mself\u001b[39;49m\u001b[39m.\u001b[39;49mparam_grid))\n",
      "File \u001b[0;32m~/anaconda3/envs/camel_parser/lib/python3.9/site-packages/sklearn/model_selection/_search.py:821\u001b[0m, in \u001b[0;36mBaseSearchCV.fit.<locals>.evaluate_candidates\u001b[0;34m(candidate_params, cv, more_results)\u001b[0m\n\u001b[1;32m    813\u001b[0m \u001b[39mif\u001b[39;00m \u001b[39mself\u001b[39m\u001b[39m.\u001b[39mverbose \u001b[39m>\u001b[39m \u001b[39m0\u001b[39m:\n\u001b[1;32m    814\u001b[0m     \u001b[39mprint\u001b[39m(\n\u001b[1;32m    815\u001b[0m         \u001b[39m\"\u001b[39m\u001b[39mFitting \u001b[39m\u001b[39m{0}\u001b[39;00m\u001b[39m folds for each of \u001b[39m\u001b[39m{1}\u001b[39;00m\u001b[39m candidates,\u001b[39m\u001b[39m\"\u001b[39m\n\u001b[1;32m    816\u001b[0m         \u001b[39m\"\u001b[39m\u001b[39m totalling \u001b[39m\u001b[39m{2}\u001b[39;00m\u001b[39m fits\u001b[39m\u001b[39m\"\u001b[39m\u001b[39m.\u001b[39mformat(\n\u001b[1;32m    817\u001b[0m             n_splits, n_candidates, n_candidates \u001b[39m*\u001b[39m n_splits\n\u001b[1;32m    818\u001b[0m         )\n\u001b[1;32m    819\u001b[0m     )\n\u001b[0;32m--> 821\u001b[0m out \u001b[39m=\u001b[39m parallel(\n\u001b[1;32m    822\u001b[0m     delayed(_fit_and_score)(\n\u001b[1;32m    823\u001b[0m         clone(base_estimator),\n\u001b[1;32m    824\u001b[0m         X,\n\u001b[1;32m    825\u001b[0m         y,\n\u001b[1;32m    826\u001b[0m         train\u001b[39m=\u001b[39;49mtrain,\n\u001b[1;32m    827\u001b[0m         test\u001b[39m=\u001b[39;49mtest,\n\u001b[1;32m    828\u001b[0m         parameters\u001b[39m=\u001b[39;49mparameters,\n\u001b[1;32m    829\u001b[0m         split_progress\u001b[39m=\u001b[39;49m(split_idx, n_splits),\n\u001b[1;32m    830\u001b[0m         candidate_progress\u001b[39m=\u001b[39;49m(cand_idx, n_candidates),\n\u001b[1;32m    831\u001b[0m         \u001b[39m*\u001b[39;49m\u001b[39m*\u001b[39;49mfit_and_score_kwargs,\n\u001b[1;32m    832\u001b[0m     )\n\u001b[1;32m    833\u001b[0m     \u001b[39mfor\u001b[39;49;00m (cand_idx, parameters), (split_idx, (train, test)) \u001b[39min\u001b[39;49;00m product(\n\u001b[1;32m    834\u001b[0m         \u001b[39menumerate\u001b[39;49m(candidate_params), \u001b[39menumerate\u001b[39;49m(cv\u001b[39m.\u001b[39;49msplit(X, y, groups))\n\u001b[1;32m    835\u001b[0m     )\n\u001b[1;32m    836\u001b[0m )\n\u001b[1;32m    838\u001b[0m \u001b[39mif\u001b[39;00m \u001b[39mlen\u001b[39m(out) \u001b[39m<\u001b[39m \u001b[39m1\u001b[39m:\n\u001b[1;32m    839\u001b[0m     \u001b[39mraise\u001b[39;00m \u001b[39mValueError\u001b[39;00m(\n\u001b[1;32m    840\u001b[0m         \u001b[39m\"\u001b[39m\u001b[39mNo fits were performed. \u001b[39m\u001b[39m\"\u001b[39m\n\u001b[1;32m    841\u001b[0m         \u001b[39m\"\u001b[39m\u001b[39mWas the CV iterator empty? \u001b[39m\u001b[39m\"\u001b[39m\n\u001b[1;32m    842\u001b[0m         \u001b[39m\"\u001b[39m\u001b[39mWere there no candidates?\u001b[39m\u001b[39m\"\u001b[39m\n\u001b[1;32m    843\u001b[0m     )\n",
      "File \u001b[0;32m~/anaconda3/envs/camel_parser/lib/python3.9/site-packages/sklearn/utils/parallel.py:63\u001b[0m, in \u001b[0;36mParallel.__call__\u001b[0;34m(self, iterable)\u001b[0m\n\u001b[1;32m     58\u001b[0m config \u001b[39m=\u001b[39m get_config()\n\u001b[1;32m     59\u001b[0m iterable_with_config \u001b[39m=\u001b[39m (\n\u001b[1;32m     60\u001b[0m     (_with_config(delayed_func, config), args, kwargs)\n\u001b[1;32m     61\u001b[0m     \u001b[39mfor\u001b[39;00m delayed_func, args, kwargs \u001b[39min\u001b[39;00m iterable\n\u001b[1;32m     62\u001b[0m )\n\u001b[0;32m---> 63\u001b[0m \u001b[39mreturn\u001b[39;00m \u001b[39msuper\u001b[39;49m()\u001b[39m.\u001b[39;49m\u001b[39m__call__\u001b[39;49m(iterable_with_config)\n",
      "File \u001b[0;32m~/anaconda3/envs/camel_parser/lib/python3.9/site-packages/joblib/parallel.py:1098\u001b[0m, in \u001b[0;36mParallel.__call__\u001b[0;34m(self, iterable)\u001b[0m\n\u001b[1;32m   1095\u001b[0m     \u001b[39mself\u001b[39m\u001b[39m.\u001b[39m_iterating \u001b[39m=\u001b[39m \u001b[39mFalse\u001b[39;00m\n\u001b[1;32m   1097\u001b[0m \u001b[39mwith\u001b[39;00m \u001b[39mself\u001b[39m\u001b[39m.\u001b[39m_backend\u001b[39m.\u001b[39mretrieval_context():\n\u001b[0;32m-> 1098\u001b[0m     \u001b[39mself\u001b[39;49m\u001b[39m.\u001b[39;49mretrieve()\n\u001b[1;32m   1099\u001b[0m \u001b[39m# Make sure that we get a last message telling us we are done\u001b[39;00m\n\u001b[1;32m   1100\u001b[0m elapsed_time \u001b[39m=\u001b[39m time\u001b[39m.\u001b[39mtime() \u001b[39m-\u001b[39m \u001b[39mself\u001b[39m\u001b[39m.\u001b[39m_start_time\n",
      "File \u001b[0;32m~/anaconda3/envs/camel_parser/lib/python3.9/site-packages/joblib/parallel.py:975\u001b[0m, in \u001b[0;36mParallel.retrieve\u001b[0;34m(self)\u001b[0m\n\u001b[1;32m    973\u001b[0m \u001b[39mtry\u001b[39;00m:\n\u001b[1;32m    974\u001b[0m     \u001b[39mif\u001b[39;00m \u001b[39mgetattr\u001b[39m(\u001b[39mself\u001b[39m\u001b[39m.\u001b[39m_backend, \u001b[39m'\u001b[39m\u001b[39msupports_timeout\u001b[39m\u001b[39m'\u001b[39m, \u001b[39mFalse\u001b[39;00m):\n\u001b[0;32m--> 975\u001b[0m         \u001b[39mself\u001b[39m\u001b[39m.\u001b[39m_output\u001b[39m.\u001b[39mextend(job\u001b[39m.\u001b[39;49mget(timeout\u001b[39m=\u001b[39;49m\u001b[39mself\u001b[39;49m\u001b[39m.\u001b[39;49mtimeout))\n\u001b[1;32m    976\u001b[0m     \u001b[39melse\u001b[39;00m:\n\u001b[1;32m    977\u001b[0m         \u001b[39mself\u001b[39m\u001b[39m.\u001b[39m_output\u001b[39m.\u001b[39mextend(job\u001b[39m.\u001b[39mget())\n",
      "File \u001b[0;32m~/anaconda3/envs/camel_parser/lib/python3.9/site-packages/joblib/_parallel_backends.py:567\u001b[0m, in \u001b[0;36mLokyBackend.wrap_future_result\u001b[0;34m(future, timeout)\u001b[0m\n\u001b[1;32m    564\u001b[0m \u001b[39m\u001b[39m\u001b[39m\"\"\"Wrapper for Future.result to implement the same behaviour as\u001b[39;00m\n\u001b[1;32m    565\u001b[0m \u001b[39mAsyncResults.get from multiprocessing.\"\"\"\u001b[39;00m\n\u001b[1;32m    566\u001b[0m \u001b[39mtry\u001b[39;00m:\n\u001b[0;32m--> 567\u001b[0m     \u001b[39mreturn\u001b[39;00m future\u001b[39m.\u001b[39;49mresult(timeout\u001b[39m=\u001b[39;49mtimeout)\n\u001b[1;32m    568\u001b[0m \u001b[39mexcept\u001b[39;00m CfTimeoutError \u001b[39mas\u001b[39;00m e:\n\u001b[1;32m    569\u001b[0m     \u001b[39mraise\u001b[39;00m \u001b[39mTimeoutError\u001b[39;00m \u001b[39mfrom\u001b[39;00m \u001b[39me\u001b[39;00m\n",
      "File \u001b[0;32m~/anaconda3/envs/camel_parser/lib/python3.9/concurrent/futures/_base.py:441\u001b[0m, in \u001b[0;36mFuture.result\u001b[0;34m(self, timeout)\u001b[0m\n\u001b[1;32m    438\u001b[0m \u001b[39melif\u001b[39;00m \u001b[39mself\u001b[39m\u001b[39m.\u001b[39m_state \u001b[39m==\u001b[39m FINISHED:\n\u001b[1;32m    439\u001b[0m     \u001b[39mreturn\u001b[39;00m \u001b[39mself\u001b[39m\u001b[39m.\u001b[39m__get_result()\n\u001b[0;32m--> 441\u001b[0m \u001b[39mself\u001b[39;49m\u001b[39m.\u001b[39;49m_condition\u001b[39m.\u001b[39;49mwait(timeout)\n\u001b[1;32m    443\u001b[0m \u001b[39mif\u001b[39;00m \u001b[39mself\u001b[39m\u001b[39m.\u001b[39m_state \u001b[39min\u001b[39;00m [CANCELLED, CANCELLED_AND_NOTIFIED]:\n\u001b[1;32m    444\u001b[0m     \u001b[39mraise\u001b[39;00m CancelledError()\n",
      "File \u001b[0;32m~/anaconda3/envs/camel_parser/lib/python3.9/threading.py:312\u001b[0m, in \u001b[0;36mCondition.wait\u001b[0;34m(self, timeout)\u001b[0m\n\u001b[1;32m    310\u001b[0m \u001b[39mtry\u001b[39;00m:    \u001b[39m# restore state no matter what (e.g., KeyboardInterrupt)\u001b[39;00m\n\u001b[1;32m    311\u001b[0m     \u001b[39mif\u001b[39;00m timeout \u001b[39mis\u001b[39;00m \u001b[39mNone\u001b[39;00m:\n\u001b[0;32m--> 312\u001b[0m         waiter\u001b[39m.\u001b[39;49macquire()\n\u001b[1;32m    313\u001b[0m         gotit \u001b[39m=\u001b[39m \u001b[39mTrue\u001b[39;00m\n\u001b[1;32m    314\u001b[0m     \u001b[39melse\u001b[39;00m:\n",
      "\u001b[0;31mKeyboardInterrupt\u001b[0m: "
     ]
    }
   ],
   "source": [
    "# grid search to find the best hyperparameters\n",
    "from sklearn.model_selection import GridSearchCV\n",
    "from sklearn.linear_model import LogisticRegression\n",
    "\n",
    "param_grid = {\n",
    "    'C': [0.1, 1, 10, 100],\n",
    "    'penalty': ['l1', 'l2', 'elasticnet', 'none'],\n",
    "    'solver': ['newton-cg', 'lbfgs', 'liblinear', 'sag', 'saga']\n",
    "}\n",
    "model = LogisticRegression(max_iter=1000)\n",
    "grid_search = GridSearchCV(estimator=model, param_grid=param_grid, cv=3, n_jobs=-1, verbose=2)\n",
    "grid_search.fit(X_train, y_train)\n",
    "best_params = grid_search.best_params_\n",
    "best_params\n"
   ]
  },
  {
   "cell_type": "code",
   "execution_count": 15,
   "metadata": {},
   "outputs": [
    {
     "name": "stdout",
     "output_type": "stream",
     "text": [
      "Classification Report for Dev Set:\n",
      "              precision    recall  f1-score   support\n",
      "\n",
      "           1       0.00      0.00      0.00        31\n",
      "           2       0.00      0.00      0.00        41\n",
      "           3       0.27      0.55      0.36       117\n",
      "           4       0.05      0.02      0.02        63\n",
      "           5       0.28      0.50      0.36       280\n",
      "           6       0.16      0.11      0.13       188\n",
      "           7       0.51      0.57      0.54       666\n",
      "           8       0.63      0.64      0.64       740\n",
      "           9       0.72      0.26      0.39       261\n",
      "          10       0.63      0.70      0.66      1219\n",
      "          11       0.14      0.13      0.14       521\n",
      "          12       0.44      0.48      0.46      1945\n",
      "          13       0.16      0.11      0.13       486\n",
      "          14       0.48      0.46      0.47      1301\n",
      "          15       0.29      0.18      0.22       302\n",
      "          16       0.26      0.23      0.24       156\n",
      "          17       0.27      0.06      0.10        48\n",
      "          18       0.00      0.00      0.00        13\n",
      "          19       0.00      0.00      0.00        15\n",
      "\n",
      "    accuracy                           0.45      8393\n",
      "   macro avg       0.28      0.26      0.26      8393\n",
      "weighted avg       0.44      0.45      0.43      8393\n",
      "\n"
     ]
    },
    {
     "name": "stderr",
     "output_type": "stream",
     "text": [
      "/Users/noor/anaconda3/envs/camel_parser/lib/python3.9/site-packages/sklearn/metrics/_classification.py:1344: UndefinedMetricWarning: Precision and F-score are ill-defined and being set to 0.0 in labels with no predicted samples. Use `zero_division` parameter to control this behavior.\n",
      "  _warn_prf(average, modifier, msg_start, len(result))\n",
      "/Users/noor/anaconda3/envs/camel_parser/lib/python3.9/site-packages/sklearn/metrics/_classification.py:1344: UndefinedMetricWarning: Precision and F-score are ill-defined and being set to 0.0 in labels with no predicted samples. Use `zero_division` parameter to control this behavior.\n",
      "  _warn_prf(average, modifier, msg_start, len(result))\n",
      "/Users/noor/anaconda3/envs/camel_parser/lib/python3.9/site-packages/sklearn/metrics/_classification.py:1344: UndefinedMetricWarning: Precision and F-score are ill-defined and being set to 0.0 in labels with no predicted samples. Use `zero_division` parameter to control this behavior.\n",
      "  _warn_prf(average, modifier, msg_start, len(result))\n"
     ]
    }
   ],
   "source": [
    "# Linear Regression\n",
    "from sklearn.linear_model import LinearRegression\n",
    "model = LinearRegression()\n",
    "model.fit(X_train, y_train)\n",
    "\n",
    "# Make predictions on Dev and Test datasets\n",
    "y_pred_dev = model.predict(X_dev)\n",
    "y_pred_test = model.predict(X_test)\n",
    "\n",
    "# find the closest integer to the predicted value\n",
    "y_pred_dev = [round(value) for value in y_pred_dev]\n",
    "y_pred_test = [round(value) for value in y_pred_test]\n",
    "\n",
    "# classification report\n",
    "print(\"Classification Report for Dev Set:\")\n",
    "print(classification_report(y_dev, y_pred_dev))\n"
   ]
  },
  {
   "cell_type": "code",
   "execution_count": null,
   "metadata": {},
   "outputs": [],
   "source": []
  }
 ],
 "metadata": {
  "kernelspec": {
   "display_name": "camel_parser",
   "language": "python",
   "name": "python3"
  },
  "language_info": {
   "codemirror_mode": {
    "name": "ipython",
    "version": 3
   },
   "file_extension": ".py",
   "mimetype": "text/x-python",
   "name": "python",
   "nbconvert_exporter": "python",
   "pygments_lexer": "ipython3",
   "version": "3.9.16"
  },
  "orig_nbformat": 4
 },
 "nbformat": 4,
 "nbformat_minor": 2
}
